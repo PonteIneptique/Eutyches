{
 "cells": [
  {
   "cell_type": "code",
   "execution_count": 149,
   "id": "75a60b27",
   "metadata": {},
   "outputs": [],
   "source": [
    "import lxml\n",
    "from lxml import etree\n",
    "import pandas as pd\n",
    "import numpy as np\n",
    "import matplotlib.pyplot as plt \n",
    "import os, os.path\n",
    "from lxml import etree as ET"
   ]
  },
  {
   "cell_type": "markdown",
   "id": "0c825bcd",
   "metadata": {},
   "source": [
    "### Importing the csv containing the data for BambergMsc30. The csv is structured in the following way :\n",
    "  > * lemma_id = the indexing id corresponding to the page, line and line order in Kei's edition (eg. p447_l05_o02)\n",
    "  > * lemma\n",
    " > * gloss_type = typology according to Cinato(2015), (eg. S23 for definition, S22 for synonyms, etc.)\n",
    " > * gloss_form = relative size (eg. F1 for sign, F2 for word, F3 for syntagm or agregation of words, F4 for phrase and F5 for paragraph)\n",
    "> * same for marginal_notes"
   ]
  },
  {
   "cell_type": "code",
   "execution_count": 173,
   "id": "1a561333",
   "metadata": {
    "scrolled": true
   },
   "outputs": [
    {
     "data": {
      "text/html": [
       "<div>\n",
       "<style scoped>\n",
       "    .dataframe tbody tr th:only-of-type {\n",
       "        vertical-align: middle;\n",
       "    }\n",
       "\n",
       "    .dataframe tbody tr th {\n",
       "        vertical-align: top;\n",
       "    }\n",
       "\n",
       "    .dataframe thead th {\n",
       "        text-align: right;\n",
       "    }\n",
       "</style>\n",
       "<table border=\"1\" class=\"dataframe\">\n",
       "  <thead>\n",
       "    <tr style=\"text-align: right;\">\n",
       "      <th></th>\n",
       "      <th>folio</th>\n",
       "      <th>lemma_id</th>\n",
       "      <th>lemma</th>\n",
       "      <th>gloss_id</th>\n",
       "      <th>gloss</th>\n",
       "      <th>gloss_type</th>\n",
       "      <th>gloss_form</th>\n",
       "      <th>nature</th>\n",
       "      <th>marginal_note_id</th>\n",
       "      <th>marginal_note_type</th>\n",
       "      <th>marginal_note_form</th>\n",
       "    </tr>\n",
       "  </thead>\n",
       "  <tbody>\n",
       "    <tr>\n",
       "      <th>0</th>\n",
       "      <td>71r</td>\n",
       "      <td>p447_l01_o00</td>\n",
       "      <td>EVTICII</td>\n",
       "      <td>None</td>\n",
       "      <td>None</td>\n",
       "      <td>None</td>\n",
       "      <td>None</td>\n",
       "      <td>None</td>\n",
       "      <td>p447_l01_o00_a</td>\n",
       "      <td>S54</td>\n",
       "      <td>F5</td>\n",
       "    </tr>\n",
       "    <tr>\n",
       "      <th>1</th>\n",
       "      <td>71r</td>\n",
       "      <td>p447_l05_o02</td>\n",
       "      <td>SEMPER</td>\n",
       "      <td>p447_l05_o02_a</td>\n",
       "      <td>ꝓ sepe</td>\n",
       "      <td>S22</td>\n",
       "      <td>F2</td>\n",
       "      <td>normal</td>\n",
       "      <td>None</td>\n",
       "      <td>None</td>\n",
       "      <td>None</td>\n",
       "    </tr>\n",
       "    <tr>\n",
       "      <th>2</th>\n",
       "      <td>71r</td>\n",
       "      <td>p447_l05_o04</td>\n",
       "      <td>QVĘSTIONES</td>\n",
       "      <td>p447_l05_o04_a</td>\n",
       "      <td>ꝓ positiones</td>\n",
       "      <td>S22</td>\n",
       "      <td>F2</td>\n",
       "      <td>normal</td>\n",
       "      <td>None</td>\n",
       "      <td>None</td>\n",
       "      <td>None</td>\n",
       "    </tr>\n",
       "    <tr>\n",
       "      <th>3</th>\n",
       "      <td>71r</td>\n",
       "      <td>p447_l05_o05</td>\n",
       "      <td>DOCTORIBVS</td>\n",
       "      <td>p447_l05_o05_a</td>\n",
       "      <td>PRAECEP ͭ ͦ ͬ ͥᵇ ͧ ᷤ</td>\n",
       "      <td>S22</td>\n",
       "      <td>F2</td>\n",
       "      <td>shorthand</td>\n",
       "      <td>None</td>\n",
       "      <td>None</td>\n",
       "      <td>None</td>\n",
       "    </tr>\n",
       "    <tr>\n",
       "      <th>4</th>\n",
       "      <td>71r</td>\n",
       "      <td>p447_l05_o06</td>\n",
       "      <td>AVDITORVM</td>\n",
       "      <td>p447_l05_o06_a</td>\n",
       "      <td>discipulorũ</td>\n",
       "      <td>S22</td>\n",
       "      <td>F2</td>\n",
       "      <td>normal</td>\n",
       "      <td>None</td>\n",
       "      <td>None</td>\n",
       "      <td>None</td>\n",
       "    </tr>\n",
       "    <tr>\n",
       "      <th>...</th>\n",
       "      <td>...</td>\n",
       "      <td>...</td>\n",
       "      <td>...</td>\n",
       "      <td>...</td>\n",
       "      <td>...</td>\n",
       "      <td>...</td>\n",
       "      <td>...</td>\n",
       "      <td>...</td>\n",
       "      <td>...</td>\n",
       "      <td>...</td>\n",
       "      <td>...</td>\n",
       "    </tr>\n",
       "    <tr>\n",
       "      <th>2035</th>\n",
       "      <td>85v</td>\n",
       "      <td>f85v_l01_o04</td>\n",
       "      <td>ingeniosus</td>\n",
       "      <td>f85v_l01_o04_a</td>\n",
       "      <td>bonꝰ textor +++</td>\n",
       "      <td>S23</td>\n",
       "      <td>F4</td>\n",
       "      <td>shorthand</td>\n",
       "      <td>None</td>\n",
       "      <td>None</td>\n",
       "      <td>None</td>\n",
       "    </tr>\n",
       "    <tr>\n",
       "      <th>2036</th>\n",
       "      <td>85v</td>\n",
       "      <td>f85v_l07_o16</td>\n",
       "      <td>ΕΚΡΥΨΑ</td>\n",
       "      <td>f85v_l07_o16_a</td>\n",
       "      <td>nu psi</td>\n",
       "      <td>S221</td>\n",
       "      <td>F1</td>\n",
       "      <td>normal</td>\n",
       "      <td>None</td>\n",
       "      <td>None</td>\n",
       "      <td>None</td>\n",
       "    </tr>\n",
       "    <tr>\n",
       "      <th>2037</th>\n",
       "      <td>85v</td>\n",
       "      <td>f85v_l08_o02</td>\n",
       "      <td>ΕΛΥΦΟ</td>\n",
       "      <td>f85v_l08_o02_a</td>\n",
       "      <td>iungo</td>\n",
       "      <td>S221</td>\n",
       "      <td>F2</td>\n",
       "      <td>normal</td>\n",
       "      <td>None</td>\n",
       "      <td>None</td>\n",
       "      <td>None</td>\n",
       "    </tr>\n",
       "    <tr>\n",
       "      <th>2038</th>\n",
       "      <td>85v</td>\n",
       "      <td>f85v_l08_o03</td>\n",
       "      <td>ΕΛΥΦΑ</td>\n",
       "      <td>f85v_l08_o03_a</td>\n",
       "      <td>iunxi</td>\n",
       "      <td>S221</td>\n",
       "      <td>F2</td>\n",
       "      <td>normal</td>\n",
       "      <td>None</td>\n",
       "      <td>None</td>\n",
       "      <td>None</td>\n",
       "    </tr>\n",
       "    <tr>\n",
       "      <th>2039</th>\n",
       "      <td>85v</td>\n",
       "      <td>f85v_l13_o06</td>\n",
       "      <td>patrisso</td>\n",
       "      <td>f85v_l13_o06_a</td>\n",
       "      <td>s̃ patri similis sũ</td>\n",
       "      <td>S23</td>\n",
       "      <td>F4</td>\n",
       "      <td>normal</td>\n",
       "      <td>None</td>\n",
       "      <td>None</td>\n",
       "      <td>None</td>\n",
       "    </tr>\n",
       "  </tbody>\n",
       "</table>\n",
       "<p>2040 rows × 11 columns</p>\n",
       "</div>"
      ],
      "text/plain": [
       "     folio      lemma_id        lemma        gloss_id                 gloss  \\\n",
       "0      71r  p447_l01_o00     EVTICII             None                  None   \n",
       "1      71r  p447_l05_o02      SEMPER   p447_l05_o02_a                ꝓ sepe   \n",
       "2      71r  p447_l05_o04  QVĘSTIONES   p447_l05_o04_a          ꝓ positiones   \n",
       "3      71r  p447_l05_o05  DOCTORIBVS   p447_l05_o05_a  PRAECEP ͭ ͦ ͬ ͥᵇ ͧ ᷤ   \n",
       "4      71r  p447_l05_o06   AVDITORVM   p447_l05_o06_a          discipulorũ   \n",
       "...    ...           ...          ...             ...                   ...   \n",
       "2035   85v  f85v_l01_o04  ingeniosus   f85v_l01_o04_a       bonꝰ textor +++   \n",
       "2036   85v  f85v_l07_o16      ΕΚΡΥΨΑ   f85v_l07_o16_a                nu psi   \n",
       "2037   85v  f85v_l08_o02       ΕΛΥΦΟ   f85v_l08_o02_a                 iungo   \n",
       "2038   85v  f85v_l08_o03       ΕΛΥΦΑ   f85v_l08_o03_a                 iunxi   \n",
       "2039   85v  f85v_l13_o06    patrisso   f85v_l13_o06_a   s̃ patri similis sũ   \n",
       "\n",
       "     gloss_type gloss_form     nature marginal_note_id marginal_note_type  \\\n",
       "0          None       None       None   p447_l01_o00_a                S54   \n",
       "1           S22         F2     normal             None               None   \n",
       "2           S22         F2     normal             None               None   \n",
       "3           S22         F2  shorthand             None               None   \n",
       "4           S22         F2     normal             None               None   \n",
       "...         ...        ...        ...              ...                ...   \n",
       "2035        S23         F4  shorthand             None               None   \n",
       "2036       S221         F1     normal             None               None   \n",
       "2037       S221         F2     normal             None               None   \n",
       "2038       S221         F2     normal             None               None   \n",
       "2039        S23         F4     normal             None               None   \n",
       "\n",
       "     marginal_note_form  \n",
       "0                    F5  \n",
       "1                  None  \n",
       "2                  None  \n",
       "3                  None  \n",
       "4                  None  \n",
       "...                 ...  \n",
       "2035               None  \n",
       "2036               None  \n",
       "2037               None  \n",
       "2038               None  \n",
       "2039               None  \n",
       "\n",
       "[2040 rows x 11 columns]"
      ]
     },
     "execution_count": 173,
     "metadata": {},
     "output_type": "execute_result"
    }
   ],
   "source": [
    "# Define the namespace mapping\n",
    "ns = {\"tei\": \"http://www.tei-c.org/ns/1.0\", \"xml\": \"http://www.w3.org/XML/1998/namespace\"}\n",
    "\n",
    "# Parse the XML file using ElementTree\n",
    "tree_B = etree.parse(\"/Users/vlachou/Desktop/ENC/MEMOIRE/Eutyches/BambergMsc30/XML-XSLT/BambergMsc30_edition_documentaire.xml\")\n",
    "root_B = tree_B.getroot()\n",
    "\n",
    "# Create empty lists to store the extracted information\n",
    "metadata_B = []\n",
    "\n",
    "# Iterate through all <seg type=\"lemma\"> elements and extract their xml:id and lemma values\n",
    "lemmas_B = root_B.findall(\".//tei:seg\", namespaces=ns)\n",
    "\n",
    "for i, lemma in enumerate(lemmas_B):\n",
    "    lemma_id = lemma.attrib.get(\"{http://www.w3.org/XML/1998/namespace}id\")\n",
    "    lemma_text = lemma.text\n",
    "    \n",
    "    # Find the previous pb element\n",
    "    folio = None\n",
    "    for sibling in lemma.itersiblings(preceding=True):\n",
    "        if sibling.tag == \"{http://www.tei-c.org/ns/1.0}pb\":\n",
    "            folio = sibling.attrib.get(\"n\")\n",
    "            break\n",
    "    \n",
    "    # Find the corresponding gloss elements\n",
    "    glosses = root_B.findall(\".//tei:gloss[@target='#\" + lemma_id + \"']\", namespaces=ns)\n",
    "    \n",
    "    if glosses:\n",
    "        for gloss in glosses:\n",
    "            gloss_id = gloss.attrib.get(\"{http://www.w3.org/XML/1998/namespace}id\")\n",
    "            gloss_type = gloss.attrib.get(\"ana\")\n",
    "            gloss_form = gloss.attrib.get(\"style\")\n",
    "            gloss_text = gloss.text.strip()\n",
    "\n",
    "            # Find the previous sibling element\n",
    "            previous_sibling = gloss.getprevious()\n",
    "            while previous_sibling is not None and previous_sibling.tag != \"{http://www.tei-c.org/ns/1.0}lb\":\n",
    "                previous_sibling = previous_sibling.getprevious()\n",
    "\n",
    "            # Retrieve the lb type attribute\n",
    "            lb_type = None\n",
    "            if previous_sibling is not None:\n",
    "                lb_type = previous_sibling.attrib.get(\"type\")\n",
    "\n",
    "            # Determine the nature based on the lb type\n",
    "            nature = \"shorthand\" if lb_type == \"tironian\" else \"normal\"\n",
    "\n",
    "            \n",
    "            metadata_B.append((folio, lemma_id, lemma_text, gloss_id, gloss_text, gloss_type, gloss_form, nature))\n",
    "    else:\n",
    "        # If there are no matching glosses, append None for the gloss columns\n",
    "        metadata_B.append((folio, lemma_id, lemma_text, None, None, None, None, None))\n",
    "\n",
    "    # Find all <fw type=\"marginal_note\"> elements that correspond to this lemma\n",
    "    marginal_notes = root_B.findall(\".//tei:fw[@corresp='#\" + lemma_id + \"']\", namespaces=ns)\n",
    "    \n",
    "    if marginal_notes:\n",
    "        # If there is at least one matching marginal note, loop through them and append to metadata\n",
    "        # ...\n",
    "        for marginal_note in marginal_notes:\n",
    "            marginal_note_id = marginal_note.attrib.get(\"{http://www.w3.org/XML/1998/namespace}id\")\n",
    "            marginal_note_type = marginal_note.attrib.get(\"ana\")\n",
    "            marginal_note_style = marginal_note.attrib.get(\"style\")\n",
    "\n",
    "            # Append the marginal note to the last row of metadata (which corresponds to the current lemma)\n",
    "        metadata_B[-1] = metadata_B[-1][:8] + (marginal_note_id, marginal_note_type, marginal_note_style)\n",
    "\n",
    "Bamberg = pd.DataFrame(metadata_B, columns=[\"folio\", \"lemma_id\", \"lemma\", \"gloss_id\", \"gloss\", \"gloss_type\", \"gloss_form\", \"nature\", \"marginal_note_id\", \"marginal_note_type\", \"marginal_note_form\"])\n",
    "Bamberg.to_csv('/Users/vlachou/Desktop/ENC/MEMOIRE/Eutyches/comparative_mss_analysis/metadata_csv/Bamberg.csv', index=False)\n",
    "Bamberg\n"
   ]
  },
  {
   "cell_type": "code",
   "execution_count": 193,
   "id": "34620680",
   "metadata": {},
   "outputs": [
    {
     "name": "stdout",
     "output_type": "stream",
     "text": [
      "LB Counts:\n",
      "{'tironian': 285, 'interlinear': 1497, 'principal': 1725}\n",
      "LB Counts Inside Marginal Note:\n",
      "{'tironian': 13, 'interlinear': 0, 'principal': 865}\n",
      "LB Counts Outside Marginal Note:\n",
      "{'tironian': 272, 'interlinear': 1497, 'principal': 860}\n"
     ]
    }
   ],
   "source": [
    "# Create counters for lb types\n",
    "lb_counts = {\n",
    "    'tironian': 0,\n",
    "    'interlinear': 0,\n",
    "    'principal': 0\n",
    "}\n",
    "\n",
    "# Create counters for lb types inside and outside fw type=\"marginal_note\"\n",
    "lb_counts_inside_marginal = {\n",
    "    'tironian': 0,\n",
    "    'interlinear': 0,\n",
    "    'principal': 0\n",
    "}\n",
    "lb_counts_outside_marginal = {\n",
    "    'tironian': 0,\n",
    "    'interlinear': 0,\n",
    "    'principal': 0\n",
    "}\n",
    "\n",
    "# Iterate through all <lb> elements and count their types\n",
    "lbs = root_B.findall(\".//tei:lb\", namespaces=ns)\n",
    "for lb in lbs:\n",
    "    lb_type = lb.attrib.get(\"type\")\n",
    "    if lb_type in lb_counts:\n",
    "        lb_counts[lb_type] += 1\n",
    "        \n",
    "    # Check if lb is inside or outside fw type=\"marginal_note\"\n",
    "    parent_fw = lb.getparent()\n",
    "    while parent_fw is not None and parent_fw.tag != \"{http://www.tei-c.org/ns/1.0}fw\":\n",
    "        parent_fw = parent_fw.getparent()\n",
    "        \n",
    "    if parent_fw is not None:\n",
    "        if lb_type in lb_counts_inside_marginal:\n",
    "            lb_counts_inside_marginal[lb_type] += 1\n",
    "    else:\n",
    "        if lb_type in lb_counts_outside_marginal:\n",
    "            lb_counts_outside_marginal[lb_type] += 1\n",
    "\n",
    "# Print the lb counts\n",
    "print(\"LB Counts:\")\n",
    "print(lb_counts)\n",
    "\n",
    "# Print the lb counts inside fw type=\"marginal_note\"\n",
    "print(\"LB Counts Inside Marginal Note:\")\n",
    "print(lb_counts_inside_marginal)\n",
    "\n",
    "# Print the lb counts outside fw type=\"marginal_note\"\n",
    "print(\"LB Counts Outside Marginal Note:\")\n",
    "print(lb_counts_outside_marginal)"
   ]
  },
  {
   "cell_type": "markdown",
   "id": "f7fa7ede",
   "metadata": {},
   "source": [
    "## We apply .description() to get a quick first analytics of the dataframe :\n",
    "> * **30 glossed folios** with 75r being the most mentionned (141 lemmas glossed)\n",
    "> * **2040 lemmas** with 1854 unique ones (186 being repeated - not uncommon since Eutyches uses the same examples accross his work eg. we have \"positionis\" glossed 5 times)\n",
    "> * **1753 glosses** with approx 382 repeated ones - but we do have 103 \"+\" signs that denote shorthand that I cound't decipher or didn't have time to do so\n",
    "> * **29 unique typologies** with **S22 being the most frequent** counting 1190 occurences \n",
    "> * glosses all across 5 sizes/forms with **F2 being the most frequent** (1229 occurences)\n",
    "> * **568 marginal notes** where **S63 (title, mise en exergue) is the most common typology (462 occurences) and F2 (word) the most common relative size (383 occurences)**\n",
    "> * Finally, in terms of nature of gloss annotation, we have **980 \"normal\" lettered annotations and 773 shorthand notes**, which is a significant number of tironian notes for glosses"
   ]
  },
  {
   "cell_type": "code",
   "execution_count": 174,
   "id": "92e170c2",
   "metadata": {
    "scrolled": false
   },
   "outputs": [
    {
     "data": {
      "text/html": [
       "<div>\n",
       "<style scoped>\n",
       "    .dataframe tbody tr th:only-of-type {\n",
       "        vertical-align: middle;\n",
       "    }\n",
       "\n",
       "    .dataframe tbody tr th {\n",
       "        vertical-align: top;\n",
       "    }\n",
       "\n",
       "    .dataframe thead th {\n",
       "        text-align: right;\n",
       "    }\n",
       "</style>\n",
       "<table border=\"1\" class=\"dataframe\">\n",
       "  <thead>\n",
       "    <tr style=\"text-align: right;\">\n",
       "      <th></th>\n",
       "      <th>folio</th>\n",
       "      <th>lemma_id</th>\n",
       "      <th>lemma</th>\n",
       "      <th>gloss_id</th>\n",
       "      <th>gloss</th>\n",
       "      <th>gloss_type</th>\n",
       "      <th>gloss_form</th>\n",
       "      <th>nature</th>\n",
       "      <th>marginal_note_id</th>\n",
       "      <th>marginal_note_type</th>\n",
       "      <th>marginal_note_form</th>\n",
       "    </tr>\n",
       "  </thead>\n",
       "  <tbody>\n",
       "    <tr>\n",
       "      <th>count</th>\n",
       "      <td>2040</td>\n",
       "      <td>2040</td>\n",
       "      <td>2040</td>\n",
       "      <td>1753</td>\n",
       "      <td>1753</td>\n",
       "      <td>1753</td>\n",
       "      <td>1753</td>\n",
       "      <td>1753</td>\n",
       "      <td>568</td>\n",
       "      <td>568</td>\n",
       "      <td>568</td>\n",
       "    </tr>\n",
       "    <tr>\n",
       "      <th>unique</th>\n",
       "      <td>30</td>\n",
       "      <td>2040</td>\n",
       "      <td>1854</td>\n",
       "      <td>1753</td>\n",
       "      <td>1371</td>\n",
       "      <td>29</td>\n",
       "      <td>5</td>\n",
       "      <td>2</td>\n",
       "      <td>568</td>\n",
       "      <td>22</td>\n",
       "      <td>4</td>\n",
       "    </tr>\n",
       "    <tr>\n",
       "      <th>top</th>\n",
       "      <td>75r</td>\n",
       "      <td>p447_l01_o00</td>\n",
       "      <td>positionis</td>\n",
       "      <td>p447_l05_o02_a</td>\n",
       "      <td>+</td>\n",
       "      <td>S22</td>\n",
       "      <td>F2</td>\n",
       "      <td>normal</td>\n",
       "      <td>p447_l01_o00_a</td>\n",
       "      <td>S63</td>\n",
       "      <td>F2</td>\n",
       "    </tr>\n",
       "    <tr>\n",
       "      <th>freq</th>\n",
       "      <td>141</td>\n",
       "      <td>1</td>\n",
       "      <td>5</td>\n",
       "      <td>1</td>\n",
       "      <td>103</td>\n",
       "      <td>1236</td>\n",
       "      <td>1229</td>\n",
       "      <td>1488</td>\n",
       "      <td>1</td>\n",
       "      <td>465</td>\n",
       "      <td>383</td>\n",
       "    </tr>\n",
       "  </tbody>\n",
       "</table>\n",
       "</div>"
      ],
      "text/plain": [
       "       folio      lemma_id        lemma        gloss_id gloss gloss_type  \\\n",
       "count   2040          2040         2040            1753  1753       1753   \n",
       "unique    30          2040         1854            1753  1371         29   \n",
       "top      75r  p447_l01_o00  positionis   p447_l05_o02_a     +        S22   \n",
       "freq     141             1            5               1   103       1236   \n",
       "\n",
       "       gloss_form  nature marginal_note_id marginal_note_type  \\\n",
       "count        1753    1753              568                568   \n",
       "unique          5       2              568                 22   \n",
       "top            F2  normal   p447_l01_o00_a                S63   \n",
       "freq         1229    1488                1                465   \n",
       "\n",
       "       marginal_note_form  \n",
       "count                 568  \n",
       "unique                  4  \n",
       "top                    F2  \n",
       "freq                  383  "
      ]
     },
     "execution_count": 174,
     "metadata": {},
     "output_type": "execute_result"
    }
   ],
   "source": [
    "description = Bamberg.describe()\n",
    "description"
   ]
  },
  {
   "cell_type": "code",
   "execution_count": null,
   "id": "737697fd",
   "metadata": {},
   "outputs": [],
   "source": []
  },
  {
   "cell_type": "code",
   "execution_count": 175,
   "id": "3282c688",
   "metadata": {},
   "outputs": [
    {
     "data": {
      "text/html": [
       "<div>\n",
       "<style scoped>\n",
       "    .dataframe tbody tr th:only-of-type {\n",
       "        vertical-align: middle;\n",
       "    }\n",
       "\n",
       "    .dataframe tbody tr th {\n",
       "        vertical-align: top;\n",
       "    }\n",
       "\n",
       "    .dataframe thead th {\n",
       "        text-align: right;\n",
       "    }\n",
       "</style>\n",
       "<table border=\"1\" class=\"dataframe\">\n",
       "  <thead>\n",
       "    <tr style=\"text-align: right;\">\n",
       "      <th></th>\n",
       "      <th>folio</th>\n",
       "      <th>lemma_id</th>\n",
       "      <th>lemma</th>\n",
       "      <th>gloss_id</th>\n",
       "      <th>gloss</th>\n",
       "      <th>gloss_type</th>\n",
       "      <th>gloss_form</th>\n",
       "      <th>nature</th>\n",
       "      <th>marginal_note_id</th>\n",
       "      <th>marginal_note_type</th>\n",
       "      <th>marginal_note_form</th>\n",
       "    </tr>\n",
       "  </thead>\n",
       "  <tbody>\n",
       "    <tr>\n",
       "      <th>168</th>\n",
       "      <td>71v</td>\n",
       "      <td>f74r_l17_o12</td>\n",
       "      <td>scabeo,</td>\n",
       "      <td>f74r_l17_o12_a</td>\n",
       "      <td>scalpo</td>\n",
       "      <td>S22</td>\n",
       "      <td>F2</td>\n",
       "      <td>normal</td>\n",
       "      <td>None</td>\n",
       "      <td>None</td>\n",
       "      <td>None</td>\n",
       "    </tr>\n",
       "    <tr>\n",
       "      <th>169</th>\n",
       "      <td>71v</td>\n",
       "      <td>f74r_l18_o01</td>\n",
       "      <td>arceo,</td>\n",
       "      <td>f74r_l18_o01_a</td>\n",
       "      <td>ꝓhibeo</td>\n",
       "      <td>S22</td>\n",
       "      <td>F2</td>\n",
       "      <td>normal</td>\n",
       "      <td>None</td>\n",
       "      <td>None</td>\n",
       "      <td>None</td>\n",
       "    </tr>\n",
       "    <tr>\n",
       "      <th>195</th>\n",
       "      <td>71v</td>\n",
       "      <td>f71v_l24_o05</td>\n",
       "      <td>calceo</td>\n",
       "      <td>None</td>\n",
       "      <td>None</td>\n",
       "      <td>None</td>\n",
       "      <td>None</td>\n",
       "      <td>None</td>\n",
       "      <td>f71v_l24_o05_a</td>\n",
       "      <td>S54</td>\n",
       "      <td>F4</td>\n",
       "    </tr>\n",
       "    <tr>\n",
       "      <th>320</th>\n",
       "      <td>72r</td>\n",
       "      <td>f75r_l06_o23</td>\n",
       "      <td>quatio</td>\n",
       "      <td>f75r_l06_o23_a</td>\n",
       "      <td>moueo</td>\n",
       "      <td>S22</td>\n",
       "      <td>F2</td>\n",
       "      <td>normal</td>\n",
       "      <td>None</td>\n",
       "      <td>None</td>\n",
       "      <td>None</td>\n",
       "    </tr>\n",
       "    <tr>\n",
       "      <th>428</th>\n",
       "      <td>73r</td>\n",
       "      <td>f76v_l22_o04</td>\n",
       "      <td>obsono</td>\n",
       "      <td>f76v_l22_o04_a</td>\n",
       "      <td>c̃rtasono ++</td>\n",
       "      <td>S22</td>\n",
       "      <td>F3</td>\n",
       "      <td>normal</td>\n",
       "      <td>None</td>\n",
       "      <td>None</td>\n",
       "      <td>None</td>\n",
       "    </tr>\n",
       "    <tr>\n",
       "      <th>432</th>\n",
       "      <td>73r</td>\n",
       "      <td>f73r_l10_o10</td>\n",
       "      <td>Alo</td>\n",
       "      <td>f73r_l10_o10_a</td>\n",
       "      <td>nutrio nutritor</td>\n",
       "      <td>S22</td>\n",
       "      <td>F2</td>\n",
       "      <td>normal</td>\n",
       "      <td>None</td>\n",
       "      <td>None</td>\n",
       "      <td>None</td>\n",
       "    </tr>\n",
       "    <tr>\n",
       "      <th>435</th>\n",
       "      <td>73r</td>\n",
       "      <td>f73r_l11_o01</td>\n",
       "      <td>Stupeo</td>\n",
       "      <td>f73r_l11_o01_a</td>\n",
       "      <td>admiror</td>\n",
       "      <td>S22</td>\n",
       "      <td>F2</td>\n",
       "      <td>normal</td>\n",
       "      <td>None</td>\n",
       "      <td>None</td>\n",
       "      <td>None</td>\n",
       "    </tr>\n",
       "    <tr>\n",
       "      <th>436</th>\n",
       "      <td>73r</td>\n",
       "      <td>f73r_l11_o02</td>\n",
       "      <td>Stupor,</td>\n",
       "      <td>f73r_l11_o02_a</td>\n",
       "      <td>admiratio</td>\n",
       "      <td>S22</td>\n",
       "      <td>F2</td>\n",
       "      <td>normal</td>\n",
       "      <td>None</td>\n",
       "      <td>None</td>\n",
       "      <td>None</td>\n",
       "    </tr>\n",
       "    <tr>\n",
       "      <th>499</th>\n",
       "      <td>73r</td>\n",
       "      <td>f73r_l29_o02</td>\n",
       "      <td>carax,</td>\n",
       "      <td>f73r_l29_o02_a</td>\n",
       "      <td>ñ habens</td>\n",
       "      <td>S23</td>\n",
       "      <td>F3</td>\n",
       "      <td>normal</td>\n",
       "      <td>f73r_l29_o02_b</td>\n",
       "      <td>S63</td>\n",
       "      <td>F2</td>\n",
       "    </tr>\n",
       "    <tr>\n",
       "      <th>633</th>\n",
       "      <td>74r</td>\n",
       "      <td>f74r_l10_o19-20</td>\n",
       "      <td>in .ibilis.</td>\n",
       "      <td>None</td>\n",
       "      <td>None</td>\n",
       "      <td>None</td>\n",
       "      <td>None</td>\n",
       "      <td>None</td>\n",
       "      <td>f74r_l10_o19-20_a</td>\n",
       "      <td>S63</td>\n",
       "      <td>F3</td>\n",
       "    </tr>\n",
       "    <tr>\n",
       "      <th>634</th>\n",
       "      <td>74r</td>\n",
       "      <td>f74r_l04_o06-07</td>\n",
       "      <td>in .sitis.</td>\n",
       "      <td>None</td>\n",
       "      <td>None</td>\n",
       "      <td>None</td>\n",
       "      <td>None</td>\n",
       "      <td>None</td>\n",
       "      <td>f74r_l04_o06-07_a</td>\n",
       "      <td>S63</td>\n",
       "      <td>F4</td>\n",
       "    </tr>\n",
       "    <tr>\n",
       "      <th>635</th>\n",
       "      <td>74r</td>\n",
       "      <td>f74r_l04_o12-13</td>\n",
       "      <td>in .itius.</td>\n",
       "      <td>None</td>\n",
       "      <td>None</td>\n",
       "      <td>None</td>\n",
       "      <td>None</td>\n",
       "      <td>None</td>\n",
       "      <td>f74r_l04_o12-13_a</td>\n",
       "      <td>S63</td>\n",
       "      <td>F3</td>\n",
       "    </tr>\n",
       "    <tr>\n",
       "      <th>667</th>\n",
       "      <td>74r</td>\n",
       "      <td>f74r_l17_o08-09</td>\n",
       "      <td>in .tiuus.</td>\n",
       "      <td>None</td>\n",
       "      <td>None</td>\n",
       "      <td>None</td>\n",
       "      <td>None</td>\n",
       "      <td>None</td>\n",
       "      <td>f74r_l17_o08-09_a</td>\n",
       "      <td>S63</td>\n",
       "      <td>F3</td>\n",
       "    </tr>\n",
       "    <tr>\n",
       "      <th>780</th>\n",
       "      <td>75r</td>\n",
       "      <td>f80r_l13_o01</td>\n",
       "      <td>Mundo</td>\n",
       "      <td>f80r_l13_o01_a</td>\n",
       "      <td>+</td>\n",
       "      <td>S22</td>\n",
       "      <td>F2</td>\n",
       "      <td>shorthand</td>\n",
       "      <td>None</td>\n",
       "      <td>None</td>\n",
       "      <td>None</td>\n",
       "    </tr>\n",
       "    <tr>\n",
       "      <th>1023</th>\n",
       "      <td>76r</td>\n",
       "      <td>f82v_l06_o13</td>\n",
       "      <td>indico</td>\n",
       "      <td>f82v_l06_o13_a</td>\n",
       "      <td>intimo</td>\n",
       "      <td>S22</td>\n",
       "      <td>F2</td>\n",
       "      <td>normal</td>\n",
       "      <td>None</td>\n",
       "      <td>None</td>\n",
       "      <td>None</td>\n",
       "    </tr>\n",
       "    <tr>\n",
       "      <th>1087</th>\n",
       "      <td>76v</td>\n",
       "      <td>f83r_l06_o12</td>\n",
       "      <td>Debilis</td>\n",
       "      <td>f83r_l06_o12_a</td>\n",
       "      <td>+</td>\n",
       "      <td>S22</td>\n",
       "      <td>F2</td>\n",
       "      <td>shorthand</td>\n",
       "      <td>None</td>\n",
       "      <td>None</td>\n",
       "      <td>None</td>\n",
       "    </tr>\n",
       "    <tr>\n",
       "      <th>1088</th>\n",
       "      <td>76v</td>\n",
       "      <td>f83r_l06_o13</td>\n",
       "      <td>debilito,</td>\n",
       "      <td>f83r_l06_o13_a</td>\n",
       "      <td>+</td>\n",
       "      <td>S22</td>\n",
       "      <td>F2</td>\n",
       "      <td>shorthand</td>\n",
       "      <td>None</td>\n",
       "      <td>None</td>\n",
       "      <td>None</td>\n",
       "    </tr>\n",
       "    <tr>\n",
       "      <th>1089</th>\n",
       "      <td>76v</td>\n",
       "      <td>f83r_l06_o09</td>\n",
       "      <td>Oscis</td>\n",
       "      <td>None</td>\n",
       "      <td>None</td>\n",
       "      <td>None</td>\n",
       "      <td>None</td>\n",
       "      <td>None</td>\n",
       "      <td>None</td>\n",
       "      <td>None</td>\n",
       "      <td>None</td>\n",
       "    </tr>\n",
       "    <tr>\n",
       "      <th>1209</th>\n",
       "      <td>77v</td>\n",
       "      <td>f83v_l21_o02</td>\n",
       "      <td>impedio</td>\n",
       "      <td>f83v_l21_o02_a</td>\n",
       "      <td>noceo</td>\n",
       "      <td>S22</td>\n",
       "      <td>F2</td>\n",
       "      <td>normal</td>\n",
       "      <td>None</td>\n",
       "      <td>None</td>\n",
       "      <td>None</td>\n",
       "    </tr>\n",
       "    <tr>\n",
       "      <th>1424</th>\n",
       "      <td>79v</td>\n",
       "      <td>f79v_l23_o01</td>\n",
       "      <td>seco</td>\n",
       "      <td>None</td>\n",
       "      <td>None</td>\n",
       "      <td>None</td>\n",
       "      <td>None</td>\n",
       "      <td>None</td>\n",
       "      <td>None</td>\n",
       "      <td>None</td>\n",
       "      <td>None</td>\n",
       "    </tr>\n",
       "    <tr>\n",
       "      <th>1544</th>\n",
       "      <td>81r</td>\n",
       "      <td>f81r_01_18</td>\n",
       "      <td>dedo</td>\n",
       "      <td>f81r_01_18_a</td>\n",
       "      <td>trado</td>\n",
       "      <td>S22</td>\n",
       "      <td>F2</td>\n",
       "      <td>normal</td>\n",
       "      <td>None</td>\n",
       "      <td>None</td>\n",
       "      <td>None</td>\n",
       "    </tr>\n",
       "    <tr>\n",
       "      <th>1803</th>\n",
       "      <td>83r</td>\n",
       "      <td>f83r_l08_o10</td>\n",
       "      <td>(add),</td>\n",
       "      <td>None</td>\n",
       "      <td>None</td>\n",
       "      <td>None</td>\n",
       "      <td>None</td>\n",
       "      <td>None</td>\n",
       "      <td>f83r_l08_o10_a</td>\n",
       "      <td>S611</td>\n",
       "      <td>F2</td>\n",
       "    </tr>\n",
       "    <tr>\n",
       "      <th>1885</th>\n",
       "      <td>83v</td>\n",
       "      <td>f83v_l20_o05</td>\n",
       "      <td>(add)</td>\n",
       "      <td>f83v_l20_o05_a</td>\n",
       "      <td>: oliue</td>\n",
       "      <td>S611</td>\n",
       "      <td>F2</td>\n",
       "      <td>normal</td>\n",
       "      <td>None</td>\n",
       "      <td>None</td>\n",
       "      <td>None</td>\n",
       "    </tr>\n",
       "    <tr>\n",
       "      <th>1887</th>\n",
       "      <td>83v</td>\n",
       "      <td>f83v_l21_o05</td>\n",
       "      <td>lacto</td>\n",
       "      <td>f83v_l21_o05_a</td>\n",
       "      <td>blandior ł lac sugo</td>\n",
       "      <td>S22</td>\n",
       "      <td>F3</td>\n",
       "      <td>normal</td>\n",
       "      <td>None</td>\n",
       "      <td>None</td>\n",
       "      <td>None</td>\n",
       "    </tr>\n",
       "    <tr>\n",
       "      <th>1915</th>\n",
       "      <td>84r</td>\n",
       "      <td>f84r_l04_o15</td>\n",
       "      <td>(add)</td>\n",
       "      <td>f84r_l04_o15_a</td>\n",
       "      <td>ante</td>\n",
       "      <td>S611</td>\n",
       "      <td>F2</td>\n",
       "      <td>normal</td>\n",
       "      <td>None</td>\n",
       "      <td>None</td>\n",
       "      <td>None</td>\n",
       "    </tr>\n",
       "    <tr>\n",
       "      <th>1960</th>\n",
       "      <td>84v</td>\n",
       "      <td>f84v_l02_o06</td>\n",
       "      <td>(add)</td>\n",
       "      <td>f84v_l02_o06_a</td>\n",
       "      <td>pͥmę c̃iug̃ Vt</td>\n",
       "      <td>S611</td>\n",
       "      <td>F3</td>\n",
       "      <td>normal</td>\n",
       "      <td>None</td>\n",
       "      <td>None</td>\n",
       "      <td>None</td>\n",
       "    </tr>\n",
       "    <tr>\n",
       "      <th>1975</th>\n",
       "      <td>84v</td>\n",
       "      <td>f84v_l11_o06</td>\n",
       "      <td>cõpello</td>\n",
       "      <td>f84v_l11_o06_a</td>\n",
       "      <td>alloquor</td>\n",
       "      <td>S22</td>\n",
       "      <td>F2</td>\n",
       "      <td>normal</td>\n",
       "      <td>None</td>\n",
       "      <td>None</td>\n",
       "      <td>None</td>\n",
       "    </tr>\n",
       "    <tr>\n",
       "      <th>1999</th>\n",
       "      <td>84v</td>\n",
       "      <td>f84v_l26_o6</td>\n",
       "      <td>(add)</td>\n",
       "      <td>f84v_l26_o6_a</td>\n",
       "      <td>uident᷑</td>\n",
       "      <td>S611</td>\n",
       "      <td>F2</td>\n",
       "      <td>normal</td>\n",
       "      <td>None</td>\n",
       "      <td>None</td>\n",
       "      <td>None</td>\n",
       "    </tr>\n",
       "    <tr>\n",
       "      <th>2019</th>\n",
       "      <td>85r</td>\n",
       "      <td>f85r_l17_o06</td>\n",
       "      <td>(add):</td>\n",
       "      <td>None</td>\n",
       "      <td>None</td>\n",
       "      <td>None</td>\n",
       "      <td>None</td>\n",
       "      <td>None</td>\n",
       "      <td>f85r_l17_o06_a</td>\n",
       "      <td>S611</td>\n",
       "      <td>F4</td>\n",
       "    </tr>\n",
       "    <tr>\n",
       "      <th>2035</th>\n",
       "      <td>85v</td>\n",
       "      <td>f85v_l01_o04</td>\n",
       "      <td>ingeniosus</td>\n",
       "      <td>f85v_l01_o04_a</td>\n",
       "      <td>bonꝰ textor +++</td>\n",
       "      <td>S23</td>\n",
       "      <td>F4</td>\n",
       "      <td>shorthand</td>\n",
       "      <td>None</td>\n",
       "      <td>None</td>\n",
       "      <td>None</td>\n",
       "    </tr>\n",
       "    <tr>\n",
       "      <th>2036</th>\n",
       "      <td>85v</td>\n",
       "      <td>f85v_l07_o16</td>\n",
       "      <td>ΕΚΡΥΨΑ</td>\n",
       "      <td>f85v_l07_o16_a</td>\n",
       "      <td>nu psi</td>\n",
       "      <td>S221</td>\n",
       "      <td>F1</td>\n",
       "      <td>normal</td>\n",
       "      <td>None</td>\n",
       "      <td>None</td>\n",
       "      <td>None</td>\n",
       "    </tr>\n",
       "    <tr>\n",
       "      <th>2037</th>\n",
       "      <td>85v</td>\n",
       "      <td>f85v_l08_o02</td>\n",
       "      <td>ΕΛΥΦΟ</td>\n",
       "      <td>f85v_l08_o02_a</td>\n",
       "      <td>iungo</td>\n",
       "      <td>S221</td>\n",
       "      <td>F2</td>\n",
       "      <td>normal</td>\n",
       "      <td>None</td>\n",
       "      <td>None</td>\n",
       "      <td>None</td>\n",
       "    </tr>\n",
       "    <tr>\n",
       "      <th>2038</th>\n",
       "      <td>85v</td>\n",
       "      <td>f85v_l08_o03</td>\n",
       "      <td>ΕΛΥΦΑ</td>\n",
       "      <td>f85v_l08_o03_a</td>\n",
       "      <td>iunxi</td>\n",
       "      <td>S221</td>\n",
       "      <td>F2</td>\n",
       "      <td>normal</td>\n",
       "      <td>None</td>\n",
       "      <td>None</td>\n",
       "      <td>None</td>\n",
       "    </tr>\n",
       "    <tr>\n",
       "      <th>2039</th>\n",
       "      <td>85v</td>\n",
       "      <td>f85v_l13_o06</td>\n",
       "      <td>patrisso</td>\n",
       "      <td>f85v_l13_o06_a</td>\n",
       "      <td>s̃ patri similis sũ</td>\n",
       "      <td>S23</td>\n",
       "      <td>F4</td>\n",
       "      <td>normal</td>\n",
       "      <td>None</td>\n",
       "      <td>None</td>\n",
       "      <td>None</td>\n",
       "    </tr>\n",
       "  </tbody>\n",
       "</table>\n",
       "</div>"
      ],
      "text/plain": [
       "     folio         lemma_id         lemma        gloss_id  \\\n",
       "168    71v     f74r_l17_o12      scabeo,   f74r_l17_o12_a   \n",
       "169    71v     f74r_l18_o01       arceo,   f74r_l18_o01_a   \n",
       "195    71v     f71v_l24_o05       calceo             None   \n",
       "320    72r     f75r_l06_o23       quatio   f75r_l06_o23_a   \n",
       "428    73r     f76v_l22_o04       obsono   f76v_l22_o04_a   \n",
       "432    73r     f73r_l10_o10          Alo   f73r_l10_o10_a   \n",
       "435    73r     f73r_l11_o01       Stupeo   f73r_l11_o01_a   \n",
       "436    73r     f73r_l11_o02      Stupor,   f73r_l11_o02_a   \n",
       "499    73r     f73r_l29_o02       carax,   f73r_l29_o02_a   \n",
       "633    74r  f74r_l10_o19-20  in .ibilis.             None   \n",
       "634    74r  f74r_l04_o06-07   in .sitis.             None   \n",
       "635    74r  f74r_l04_o12-13   in .itius.             None   \n",
       "667    74r  f74r_l17_o08-09   in .tiuus.             None   \n",
       "780    75r     f80r_l13_o01        Mundo   f80r_l13_o01_a   \n",
       "1023   76r     f82v_l06_o13       indico   f82v_l06_o13_a   \n",
       "1087   76v     f83r_l06_o12      Debilis   f83r_l06_o12_a   \n",
       "1088   76v     f83r_l06_o13    debilito,   f83r_l06_o13_a   \n",
       "1089   76v     f83r_l06_o09        Oscis             None   \n",
       "1209   77v     f83v_l21_o02      impedio   f83v_l21_o02_a   \n",
       "1424   79v     f79v_l23_o01         seco             None   \n",
       "1544   81r       f81r_01_18         dedo     f81r_01_18_a   \n",
       "1803   83r     f83r_l08_o10       (add),             None   \n",
       "1885   83v     f83v_l20_o05        (add)   f83v_l20_o05_a   \n",
       "1887   83v     f83v_l21_o05        lacto   f83v_l21_o05_a   \n",
       "1915   84r     f84r_l04_o15        (add)   f84r_l04_o15_a   \n",
       "1960   84v     f84v_l02_o06        (add)   f84v_l02_o06_a   \n",
       "1975   84v     f84v_l11_o06      cõpello   f84v_l11_o06_a   \n",
       "1999   84v      f84v_l26_o6        (add)    f84v_l26_o6_a   \n",
       "2019   85r     f85r_l17_o06       (add):             None   \n",
       "2035   85v     f85v_l01_o04   ingeniosus   f85v_l01_o04_a   \n",
       "2036   85v     f85v_l07_o16       ΕΚΡΥΨΑ   f85v_l07_o16_a   \n",
       "2037   85v     f85v_l08_o02        ΕΛΥΦΟ   f85v_l08_o02_a   \n",
       "2038   85v     f85v_l08_o03        ΕΛΥΦΑ   f85v_l08_o03_a   \n",
       "2039   85v     f85v_l13_o06     patrisso   f85v_l13_o06_a   \n",
       "\n",
       "                    gloss gloss_type gloss_form     nature   marginal_note_id  \\\n",
       "168                scalpo        S22         F2     normal               None   \n",
       "169                ꝓhibeo        S22         F2     normal               None   \n",
       "195                  None       None       None       None     f71v_l24_o05_a   \n",
       "320                 moueo        S22         F2     normal               None   \n",
       "428          c̃rtasono ++        S22         F3     normal               None   \n",
       "432       nutrio nutritor        S22         F2     normal               None   \n",
       "435               admiror        S22         F2     normal               None   \n",
       "436             admiratio        S22         F2     normal               None   \n",
       "499             ñ habens        S23         F3     normal     f73r_l29_o02_b   \n",
       "633                  None       None       None       None  f74r_l10_o19-20_a   \n",
       "634                  None       None       None       None  f74r_l04_o06-07_a   \n",
       "635                  None       None       None       None  f74r_l04_o12-13_a   \n",
       "667                  None       None       None       None  f74r_l17_o08-09_a   \n",
       "780                     +        S22         F2  shorthand               None   \n",
       "1023               intimo        S22         F2     normal               None   \n",
       "1087                    +        S22         F2  shorthand               None   \n",
       "1088                    +        S22         F2  shorthand               None   \n",
       "1089                 None       None       None       None               None   \n",
       "1209                noceo        S22         F2     normal               None   \n",
       "1424                 None       None       None       None               None   \n",
       "1544                trado        S22         F2     normal               None   \n",
       "1803                 None       None       None       None     f83r_l08_o10_a   \n",
       "1885              : oliue       S611         F2     normal               None   \n",
       "1887  blandior ł lac sugo        S22         F3     normal               None   \n",
       "1915                 ante       S611         F2     normal               None   \n",
       "1960       pͥmę c̃iug̃ Vt       S611         F3     normal               None   \n",
       "1975             alloquor        S22         F2     normal               None   \n",
       "1999              uident᷑       S611         F2     normal               None   \n",
       "2019                 None       None       None       None     f85r_l17_o06_a   \n",
       "2035      bonꝰ textor +++        S23         F4  shorthand               None   \n",
       "2036               nu psi       S221         F1     normal               None   \n",
       "2037                iungo       S221         F2     normal               None   \n",
       "2038                iunxi       S221         F2     normal               None   \n",
       "2039  s̃ patri similis sũ        S23         F4     normal               None   \n",
       "\n",
       "     marginal_note_type marginal_note_form  \n",
       "168                None               None  \n",
       "169                None               None  \n",
       "195                 S54                 F4  \n",
       "320                None               None  \n",
       "428                None               None  \n",
       "432                None               None  \n",
       "435                None               None  \n",
       "436                None               None  \n",
       "499                 S63                 F2  \n",
       "633                 S63                 F3  \n",
       "634                 S63                 F4  \n",
       "635                 S63                 F3  \n",
       "667                 S63                 F3  \n",
       "780                None               None  \n",
       "1023               None               None  \n",
       "1087               None               None  \n",
       "1088               None               None  \n",
       "1089               None               None  \n",
       "1209               None               None  \n",
       "1424               None               None  \n",
       "1544               None               None  \n",
       "1803               S611                 F2  \n",
       "1885               None               None  \n",
       "1887               None               None  \n",
       "1915               None               None  \n",
       "1960               None               None  \n",
       "1975               None               None  \n",
       "1999               None               None  \n",
       "2019               S611                 F4  \n",
       "2035               None               None  \n",
       "2036               None               None  \n",
       "2037               None               None  \n",
       "2038               None               None  \n",
       "2039               None               None  "
      ]
     },
     "execution_count": 175,
     "metadata": {},
     "output_type": "execute_result"
    }
   ],
   "source": [
    "# Create the new DataFrame with the desired condition\n",
    "unique_lemmas_Bamberg = Bamberg[Bamberg['lemma_id'].str.startswith('f')]\n",
    "\n",
    "# Print the filtered DataFrame\n",
    "len(unique_lemmas_Bamberg) #34 \n",
    "\n",
    "unique_lemmas_Bamberg"
   ]
  },
  {
   "cell_type": "code",
   "execution_count": 176,
   "id": "bc9869b6",
   "metadata": {},
   "outputs": [
    {
     "data": {
      "image/png": "[encoded data removed]",
      "text/plain": [
       "<Figure size 1000x600 with 1 Axes>"
      ]
     },
     "metadata": {},
     "output_type": "display_data"
    }
   ],
   "source": [
    "import seaborn as sns\n",
    "import matplotlib.pyplot as plt\n",
    "\n",
    "# Count the occurrences of each typology in the 'gloss_type' column\n",
    "gloss_type_counts = unique_lemmas_Bamberg['gloss_type'].value_counts()\n",
    "\n",
    "# Count the occurrences of each typology in the 'marginal_note_type' column\n",
    "marginal_note_type_counts = unique_lemmas_Bamberg['marginal_note_type'].value_counts()\n",
    "\n",
    "# Create the stacked bar plot\n",
    "fig, ax = plt.subplots(figsize=(10, 6))\n",
    "\n",
    "# Combine the two typology counts into a single DataFrame\n",
    "typology_counts = pd.concat([gloss_type_counts, marginal_note_type_counts], axis=1)\n",
    "\n",
    "# Reset the index and rename the columns\n",
    "typology_counts = typology_counts.reset_index()\n",
    "typology_counts.columns = ['Typology', 'Gloss Type', 'Marginal Note Type']\n",
    "\n",
    "# Melt the DataFrame to convert it into long format\n",
    "typology_counts = typology_counts.melt(id_vars='Typology', var_name='Column', value_name='Count')\n",
    "\n",
    "# Filter out rows where the count is zero\n",
    "typology_counts = typology_counts[typology_counts['Count'] > 0]\n",
    "\n",
    "# Plot the stacked bar plot\n",
    "sns.barplot(data=typology_counts, x='Typology', y='Count', hue='Column')\n",
    "\n",
    "# Set the x-axis label, y-axis label, and title\n",
    "ax.set_xlabel('Typology')\n",
    "ax.set_ylabel('Count')\n",
    "ax.set_title('Distribution of Typologies')\n",
    "\n",
    "# Rotate x-axis labels if needed\n",
    "ax.set_xticklabels(ax.get_xticklabels(), rotation=45, ha='right')\n",
    "\n",
    "# Show the legend\n",
    "ax.legend()\n",
    "\n",
    "# Adjust the spacing between subplots\n",
    "plt.tight_layout()\n",
    "\n",
    "# Display the plot\n",
    "plt.show()"
   ]
  },
  {
   "cell_type": "markdown",
   "id": "4ba887a0",
   "metadata": {},
   "source": [
    "## I want to use later the tironian notes in comparison with the glosses from Lat7499 to compare how many lemmas are glossed with a tironian note instead of latin letters but for now I just want to see the percentage of tironian glosses in Bamberg (we should not forget that marginal notes are also sometimes composed of shorthand but since it's not the total annotation composed of shorthand it's more difficult to quantify )"
   ]
  },
  {
   "cell_type": "code",
   "execution_count": 177,
   "id": "2bdca209",
   "metadata": {},
   "outputs": [
    {
     "name": "stdout",
     "output_type": "stream",
     "text": [
      "Percentage of 'normal' annotations: 72.94117647058823\n",
      "Percentage of 'shorthand' annotations: 12.990196078431374\n"
     ]
    }
   ],
   "source": [
    "# Count the occurrences of each unique value in the \"nature\" column\n",
    "nature_counts = Bamberg['nature'].value_counts()\n",
    "\n",
    "# Calculate the percentage of \"normal\" annotations\n",
    "normal_percentage = (nature_counts['normal'] / len(Bamberg['nature'])) * 100\n",
    "\n",
    "# Calculate the percentage of \"shorthand\" annotations\n",
    "shorthand_percentage = (nature_counts['shorthand'] / len(Bamberg['nature'])) * 100\n",
    "\n",
    "# Print the percentages\n",
    "print(\"Percentage of 'normal' annotations:\", normal_percentage)\n",
    "print(\"Percentage of 'shorthand' annotations:\", shorthand_percentage)\n"
   ]
  },
  {
   "cell_type": "markdown",
   "id": "fb17ae9d",
   "metadata": {},
   "source": [
    "## Let's explore the diversity of the typologies and their relative proportion/size across the BambergMsc30 dataset - We see that glosses are more diverse in typology and we have a lot of marginal categories and which categories are more privileged in the manuscirpt."
   ]
  },
  {
   "cell_type": "code",
   "execution_count": 178,
   "id": "443014cc",
   "metadata": {},
   "outputs": [
    {
     "data": {
      "application/vnd.plotly.v1+json": {
       "config": {
        "plotlyServerURL": "https://plot.ly"
       },
       "data": [
        {
         "marker": {
          "color": [
           "blue",
           "blue",
           "blue",
           "blue",
           "blue",
           "blue",
           "blue",
           "blue",
           "blue",
           "blue",
           "blue",
           "blue",
           "blue",
           "blue",
           "blue",
           "blue",
           "blue",
           "blue",
           "blue",
           "blue",
           "blue",
           "blue"
          ]
         },
         "name": "Marginal Type",
         "orientation": "h",
         "type": "bar",
         "x": [
          465,
          27,
          13,
          12,
          10,
          6,
          6,
          5,
          5,
          4,
          2,
          2,
          2,
          1,
          1,
          1,
          1,
          1,
          1,
          1,
          1,
          1
         ],
         "y": [
          "S63",
          "S53",
          "S23",
          "S54",
          "S22",
          "S62",
          "S631",
          "S24",
          "S4181",
          "S611",
          "S64",
          "S211",
          "S221",
          "S333",
          "S21",
          "S553",
          "S25",
          "S12",
          "S331",
          "S554",
          "S334",
          "S332"
         ]
        },
        {
         "marker": {
          "color": [
           "green",
           "green",
           "green",
           "green",
           "green",
           "green",
           "green",
           "green",
           "green",
           "green",
           "green",
           "green",
           "green",
           "green",
           "green",
           "green",
           "green",
           "green",
           "green",
           "green",
           "green",
           "green",
           "green",
           "green",
           "green",
           "green",
           "green",
           "green",
           "green"
          ]
         },
         "name": "Gloss Type",
         "orientation": "h",
         "type": "bar",
         "x": [
          1236,
          197,
          134,
          40,
          35,
          32,
          18,
          14,
          6,
          6,
          4,
          4,
          4,
          3,
          3,
          3,
          2,
          1,
          1,
          1,
          1,
          1,
          1,
          1,
          1,
          1,
          1,
          1,
          1
         ],
         "y": [
          "S22",
          "S23",
          "S53",
          "S3232",
          "S25",
          "S54",
          "S611",
          "S415",
          "S554",
          "S222",
          "S24",
          "S35",
          "S211",
          "S34",
          "S221",
          "S333",
          "S11",
          "S4224",
          "S32",
          "S3113",
          "S64",
          "S21",
          "S553",
          "S31",
          "S322",
          "S33",
          "S3116",
          "S63",
          "S622"
         ]
        }
       ],
       "layout": {
        "shapes": [
         {
          "line": {
           "color": "black",
           "dash": "dash",
           "width": 1
          },
          "type": "line",
          "x0": 20,
          "x1": 20,
          "xref": "x",
          "y0": 0,
          "y1": 1,
          "yref": "paper"
         },
         {
          "line": {
           "color": "black",
           "dash": "dash",
           "width": 1
          },
          "type": "line",
          "x0": 40,
          "x1": 40,
          "xref": "x",
          "y0": 0,
          "y1": 1,
          "yref": "paper"
         },
         {
          "line": {
           "color": "black",
           "dash": "dash",
           "width": 1
          },
          "type": "line",
          "x0": 100,
          "x1": 100,
          "xref": "x",
          "y0": 0,
          "y1": 1,
          "yref": "paper"
         }
        ],
        "template": {
         "data": {
          "bar": [
           {
            "error_x": {
             "color": "#2a3f5f"
            },
            "error_y": {
             "color": "#2a3f5f"
            },
            "marker": {
             "line": {
              "color": "#E5ECF6",
              "width": 0.5
             },
             "pattern": {
              "fillmode": "overlay",
              "size": 10,
              "solidity": 0.2
             }
            },
            "type": "bar"
           }
          ],
          "barpolar": [
           {
            "marker": {
             "line": {
              "color": "#E5ECF6",
              "width": 0.5
             },
             "pattern": {
              "fillmode": "overlay",
              "size": 10,
              "solidity": 0.2
             }
            },
            "type": "barpolar"
           }
          ],
          "carpet": [
           {
            "aaxis": {
             "endlinecolor": "#2a3f5f",
             "gridcolor": "white",
             "linecolor": "white",
             "minorgridcolor": "white",
             "startlinecolor": "#2a3f5f"
            },
            "baxis": {
             "endlinecolor": "#2a3f5f",
             "gridcolor": "white",
             "linecolor": "white",
             "minorgridcolor": "white",
             "startlinecolor": "#2a3f5f"
            },
            "type": "carpet"
           }
          ],
          "choropleth": [
           {
            "colorbar": {
             "outlinewidth": 0,
             "ticks": ""
            },
            "type": "choropleth"
           }
          ],
          "contour": [
           {
            "colorbar": {
             "outlinewidth": 0,
             "ticks": ""
            },
            "colorscale": [
             [
              0,
              "#0d0887"
             ],
             [
              0.1111111111111111,
              "#46039f"
             ],
             [
              0.2222222222222222,
              "#7201a8"
             ],
             [
              0.3333333333333333,
              "#9c179e"
             ],
             [
              0.4444444444444444,
              "#bd3786"
             ],
             [
              0.5555555555555556,
              "#d8576b"
             ],
             [
              0.6666666666666666,
              "#ed7953"
             ],
             [
              0.7777777777777778,
              "#fb9f3a"
             ],
             [
              0.8888888888888888,
              "#fdca26"
             ],
             [
              1,
              "#f0f921"
             ]
            ],
            "type": "contour"
           }
          ],
          "contourcarpet": [
           {
            "colorbar": {
             "outlinewidth": 0,
             "ticks": ""
            },
            "type": "contourcarpet"
           }
          ],
          "heatmap": [
           {
            "colorbar": {
             "outlinewidth": 0,
             "ticks": ""
            },
            "colorscale": [
             [
              0,
              "#0d0887"
             ],
             [
              0.1111111111111111,
              "#46039f"
             ],
             [
              0.2222222222222222,
              "#7201a8"
             ],
             [
              0.3333333333333333,
              "#9c179e"
             ],
             [
              0.4444444444444444,
              "#bd3786"
             ],
             [
              0.5555555555555556,
              "#d8576b"
             ],
             [
              0.6666666666666666,
              "#ed7953"
             ],
             [
              0.7777777777777778,
              "#fb9f3a"
             ],
             [
              0.8888888888888888,
              "#fdca26"
             ],
             [
              1,
              "#f0f921"
             ]
            ],
            "type": "heatmap"
           }
          ],
          "heatmapgl": [
           {
            "colorbar": {
             "outlinewidth": 0,
             "ticks": ""
            },
            "colorscale": [
             [
              0,
              "#0d0887"
             ],
             [
              0.1111111111111111,
              "#46039f"
             ],
             [
              0.2222222222222222,
              "#7201a8"
             ],
             [
              0.3333333333333333,
              "#9c179e"
             ],
             [
              0.4444444444444444,
              "#bd3786"
             ],
             [
              0.5555555555555556,
              "#d8576b"
             ],
             [
              0.6666666666666666,
              "#ed7953"
             ],
             [
              0.7777777777777778,
              "#fb9f3a"
             ],
             [
              0.8888888888888888,
              "#fdca26"
             ],
             [
              1,
              "#f0f921"
             ]
            ],
            "type": "heatmapgl"
           }
          ],
          "histogram": [
           {
            "marker": {
             "pattern": {
              "fillmode": "overlay",
              "size": 10,
              "solidity": 0.2
             }
            },
            "type": "histogram"
           }
          ],
          "histogram2d": [
           {
            "colorbar": {
             "outlinewidth": 0,
             "ticks": ""
            },
            "colorscale": [
             [
              0,
              "#0d0887"
             ],
             [
              0.1111111111111111,
              "#46039f"
             ],
             [
              0.2222222222222222,
              "#7201a8"
             ],
             [
              0.3333333333333333,
              "#9c179e"
             ],
             [
              0.4444444444444444,
              "#bd3786"
             ],
             [
              0.5555555555555556,
              "#d8576b"
             ],
             [
              0.6666666666666666,
              "#ed7953"
             ],
             [
              0.7777777777777778,
              "#fb9f3a"
             ],
             [
              0.8888888888888888,
              "#fdca26"
             ],
             [
              1,
              "#f0f921"
             ]
            ],
            "type": "histogram2d"
           }
          ],
          "histogram2dcontour": [
           {
            "colorbar": {
             "outlinewidth": 0,
             "ticks": ""
            },
            "colorscale": [
             [
              0,
              "#0d0887"
             ],
             [
              0.1111111111111111,
              "#46039f"
             ],
             [
              0.2222222222222222,
              "#7201a8"
             ],
             [
              0.3333333333333333,
              "#9c179e"
             ],
             [
              0.4444444444444444,
              "#bd3786"
             ],
             [
              0.5555555555555556,
              "#d8576b"
             ],
             [
              0.6666666666666666,
              "#ed7953"
             ],
             [
              0.7777777777777778,
              "#fb9f3a"
             ],
             [
              0.8888888888888888,
              "#fdca26"
             ],
             [
              1,
              "#f0f921"
             ]
            ],
            "type": "histogram2dcontour"
           }
          ],
          "mesh3d": [
           {
            "colorbar": {
             "outlinewidth": 0,
             "ticks": ""
            },
            "type": "mesh3d"
           }
          ],
          "parcoords": [
           {
            "line": {
             "colorbar": {
              "outlinewidth": 0,
              "ticks": ""
             }
            },
            "type": "parcoords"
           }
          ],
          "pie": [
           {
            "automargin": true,
            "type": "pie"
           }
          ],
          "scatter": [
           {
            "fillpattern": {
             "fillmode": "overlay",
             "size": 10,
             "solidity": 0.2
            },
            "type": "scatter"
           }
          ],
          "scatter3d": [
           {
            "line": {
             "colorbar": {
              "outlinewidth": 0,
              "ticks": ""
             }
            },
            "marker": {
             "colorbar": {
              "outlinewidth": 0,
              "ticks": ""
             }
            },
            "type": "scatter3d"
           }
          ],
          "scattercarpet": [
           {
            "marker": {
             "colorbar": {
              "outlinewidth": 0,
              "ticks": ""
             }
            },
            "type": "scattercarpet"
           }
          ],
          "scattergeo": [
           {
            "marker": {
             "colorbar": {
              "outlinewidth": 0,
              "ticks": ""
             }
            },
            "type": "scattergeo"
           }
          ],
          "scattergl": [
           {
            "marker": {
             "colorbar": {
              "outlinewidth": 0,
              "ticks": ""
             }
            },
            "type": "scattergl"
           }
          ],
          "scattermapbox": [
           {
            "marker": {
             "colorbar": {
              "outlinewidth": 0,
              "ticks": ""
             }
            },
            "type": "scattermapbox"
           }
          ],
          "scatterpolar": [
           {
            "marker": {
             "colorbar": {
              "outlinewidth": 0,
              "ticks": ""
             }
            },
            "type": "scatterpolar"
           }
          ],
          "scatterpolargl": [
           {
            "marker": {
             "colorbar": {
              "outlinewidth": 0,
              "ticks": ""
             }
            },
            "type": "scatterpolargl"
           }
          ],
          "scatterternary": [
           {
            "marker": {
             "colorbar": {
              "outlinewidth": 0,
              "ticks": ""
             }
            },
            "type": "scatterternary"
           }
          ],
          "surface": [
           {
            "colorbar": {
             "outlinewidth": 0,
             "ticks": ""
            },
            "colorscale": [
             [
              0,
              "#0d0887"
             ],
             [
              0.1111111111111111,
              "#46039f"
             ],
             [
              0.2222222222222222,
              "#7201a8"
             ],
             [
              0.3333333333333333,
              "#9c179e"
             ],
             [
              0.4444444444444444,
              "#bd3786"
             ],
             [
              0.5555555555555556,
              "#d8576b"
             ],
             [
              0.6666666666666666,
              "#ed7953"
             ],
             [
              0.7777777777777778,
              "#fb9f3a"
             ],
             [
              0.8888888888888888,
              "#fdca26"
             ],
             [
              1,
              "#f0f921"
             ]
            ],
            "type": "surface"
           }
          ],
          "table": [
           {
            "cells": {
             "fill": {
              "color": "#EBF0F8"
             },
             "line": {
              "color": "white"
             }
            },
            "header": {
             "fill": {
              "color": "#C8D4E3"
             },
             "line": {
              "color": "white"
             }
            },
            "type": "table"
           }
          ]
         },
         "layout": {
          "annotationdefaults": {
           "arrowcolor": "#2a3f5f",
           "arrowhead": 0,
           "arrowwidth": 1
          },
          "autotypenumbers": "strict",
          "coloraxis": {
           "colorbar": {
            "outlinewidth": 0,
            "ticks": ""
           }
          },
          "colorscale": {
           "diverging": [
            [
             0,
             "#8e0152"
            ],
            [
             0.1,
             "#c51b7d"
            ],
            [
             0.2,
             "#de77ae"
            ],
            [
             0.3,
             "#f1b6da"
            ],
            [
             0.4,
             "#fde0ef"
            ],
            [
             0.5,
             "#f7f7f7"
            ],
            [
             0.6,
             "#e6f5d0"
            ],
            [
             0.7,
             "#b8e186"
            ],
            [
             0.8,
             "#7fbc41"
            ],
            [
             0.9,
             "#4d9221"
            ],
            [
             1,
             "#276419"
            ]
           ],
           "sequential": [
            [
             0,
             "#0d0887"
            ],
            [
             0.1111111111111111,
             "#46039f"
            ],
            [
             0.2222222222222222,
             "#7201a8"
            ],
            [
             0.3333333333333333,
             "#9c179e"
            ],
            [
             0.4444444444444444,
             "#bd3786"
            ],
            [
             0.5555555555555556,
             "#d8576b"
            ],
            [
             0.6666666666666666,
             "#ed7953"
            ],
            [
             0.7777777777777778,
             "#fb9f3a"
            ],
            [
             0.8888888888888888,
             "#fdca26"
            ],
            [
             1,
             "#f0f921"
            ]
           ],
           "sequentialminus": [
            [
             0,
             "#0d0887"
            ],
            [
             0.1111111111111111,
             "#46039f"
            ],
            [
             0.2222222222222222,
             "#7201a8"
            ],
            [
             0.3333333333333333,
             "#9c179e"
            ],
            [
             0.4444444444444444,
             "#bd3786"
            ],
            [
             0.5555555555555556,
             "#d8576b"
            ],
            [
             0.6666666666666666,
             "#ed7953"
            ],
            [
             0.7777777777777778,
             "#fb9f3a"
            ],
            [
             0.8888888888888888,
             "#fdca26"
            ],
            [
             1,
             "#f0f921"
            ]
           ]
          },
          "colorway": [
           "#636efa",
           "#EF553B",
           "#00cc96",
           "#ab63fa",
           "#FFA15A",
           "#19d3f3",
           "#FF6692",
           "#B6E880",
           "#FF97FF",
           "#FECB52"
          ],
          "font": {
           "color": "#2a3f5f"
          },
          "geo": {
           "bgcolor": "white",
           "lakecolor": "white",
           "landcolor": "#E5ECF6",
           "showlakes": true,
           "showland": true,
           "subunitcolor": "white"
          },
          "hoverlabel": {
           "align": "left"
          },
          "hovermode": "closest",
          "mapbox": {
           "style": "light"
          },
          "paper_bgcolor": "white",
          "plot_bgcolor": "#E5ECF6",
          "polar": {
           "angularaxis": {
            "gridcolor": "white",
            "linecolor": "white",
            "ticks": ""
           },
           "bgcolor": "#E5ECF6",
           "radialaxis": {
            "gridcolor": "white",
            "linecolor": "white",
            "ticks": ""
           }
          },
          "scene": {
           "xaxis": {
            "backgroundcolor": "#E5ECF6",
            "gridcolor": "white",
            "gridwidth": 2,
            "linecolor": "white",
            "showbackground": true,
            "ticks": "",
            "zerolinecolor": "white"
           },
           "yaxis": {
            "backgroundcolor": "#E5ECF6",
            "gridcolor": "white",
            "gridwidth": 2,
            "linecolor": "white",
            "showbackground": true,
            "ticks": "",
            "zerolinecolor": "white"
           },
           "zaxis": {
            "backgroundcolor": "#E5ECF6",
            "gridcolor": "white",
            "gridwidth": 2,
            "linecolor": "white",
            "showbackground": true,
            "ticks": "",
            "zerolinecolor": "white"
           }
          },
          "shapedefaults": {
           "line": {
            "color": "#2a3f5f"
           }
          },
          "ternary": {
           "aaxis": {
            "gridcolor": "white",
            "linecolor": "white",
            "ticks": ""
           },
           "baxis": {
            "gridcolor": "white",
            "linecolor": "white",
            "ticks": ""
           },
           "bgcolor": "#E5ECF6",
           "caxis": {
            "gridcolor": "white",
            "linecolor": "white",
            "ticks": ""
           }
          },
          "title": {
           "x": 0.05
          },
          "xaxis": {
           "automargin": true,
           "gridcolor": "white",
           "linecolor": "white",
           "ticks": "",
           "title": {
            "standoff": 15
           },
           "zerolinecolor": "white",
           "zerolinewidth": 2
          },
          "yaxis": {
           "automargin": true,
           "gridcolor": "white",
           "linecolor": "white",
           "ticks": "",
           "title": {
            "standoff": 15
           },
           "zerolinecolor": "white",
           "zerolinewidth": 2
          }
         }
        },
        "title": {
         "text": "Distribution of Typologies across Marginal notes and Glosses with logarithmic scale"
        },
        "xaxis": {
         "type": "log"
        }
       }
      },
      "text/html": [
       "<div>                            <div id=\"992e9732-6ffa-4b04-b8eb-9a2b3dccac0d\" class=\"plotly-graph-div\" style=\"height:525px; width:100%;\"></div>            <script type=\"text/javascript\">                require([\"plotly\"], function(Plotly) {                    window.PLOTLYENV=window.PLOTLYENV || {};                                    if (document.getElementById(\"992e9732-6ffa-4b04-b8eb-9a2b3dccac0d\")) {                    Plotly.newPlot(                        \"992e9732-6ffa-4b04-b8eb-9a2b3dccac0d\",                        [{\"marker\":{\"color\":[\"blue\",\"blue\",\"blue\",\"blue\",\"blue\",\"blue\",\"blue\",\"blue\",\"blue\",\"blue\",\"blue\",\"blue\",\"blue\",\"blue\",\"blue\",\"blue\",\"blue\",\"blue\",\"blue\",\"blue\",\"blue\",\"blue\"]},\"name\":\"Marginal Type\",\"orientation\":\"h\",\"x\":[465,27,13,12,10,6,6,5,5,4,2,2,2,1,1,1,1,1,1,1,1,1],\"y\":[\"S63\",\"S53\",\"S23\",\"S54\",\"S22\",\"S62\",\"S631\",\"S24\",\"S4181\",\"S611\",\"S64\",\"S211\",\"S221\",\"S333\",\"S21\",\"S553\",\"S25\",\"S12\",\"S331\",\"S554\",\"S334\",\"S332\"],\"type\":\"bar\"},{\"marker\":{\"color\":[\"green\",\"green\",\"green\",\"green\",\"green\",\"green\",\"green\",\"green\",\"green\",\"green\",\"green\",\"green\",\"green\",\"green\",\"green\",\"green\",\"green\",\"green\",\"green\",\"green\",\"green\",\"green\",\"green\",\"green\",\"green\",\"green\",\"green\",\"green\",\"green\"]},\"name\":\"Gloss Type\",\"orientation\":\"h\",\"x\":[1236,197,134,40,35,32,18,14,6,6,4,4,4,3,3,3,2,1,1,1,1,1,1,1,1,1,1,1,1],\"y\":[\"S22\",\"S23\",\"S53\",\"S3232\",\"S25\",\"S54\",\"S611\",\"S415\",\"S554\",\"S222\",\"S24\",\"S35\",\"S211\",\"S34\",\"S221\",\"S333\",\"S11\",\"S4224\",\"S32\",\"S3113\",\"S64\",\"S21\",\"S553\",\"S31\",\"S322\",\"S33\",\"S3116\",\"S63\",\"S622\"],\"type\":\"bar\"}],                        {\"template\":{\"data\":{\"histogram2dcontour\":[{\"type\":\"histogram2dcontour\",\"colorbar\":{\"outlinewidth\":0,\"ticks\":\"\"},\"colorscale\":[[0.0,\"#0d0887\"],[0.1111111111111111,\"#46039f\"],[0.2222222222222222,\"#7201a8\"],[0.3333333333333333,\"#9c179e\"],[0.4444444444444444,\"#bd3786\"],[0.5555555555555556,\"#d8576b\"],[0.6666666666666666,\"#ed7953\"],[0.7777777777777778,\"#fb9f3a\"],[0.8888888888888888,\"#fdca26\"],[1.0,\"#f0f921\"]]}],\"choropleth\":[{\"type\":\"choropleth\",\"colorbar\":{\"outlinewidth\":0,\"ticks\":\"\"}}],\"histogram2d\":[{\"type\":\"histogram2d\",\"colorbar\":{\"outlinewidth\":0,\"ticks\":\"\"},\"colorscale\":[[0.0,\"#0d0887\"],[0.1111111111111111,\"#46039f\"],[0.2222222222222222,\"#7201a8\"],[0.3333333333333333,\"#9c179e\"],[0.4444444444444444,\"#bd3786\"],[0.5555555555555556,\"#d8576b\"],[0.6666666666666666,\"#ed7953\"],[0.7777777777777778,\"#fb9f3a\"],[0.8888888888888888,\"#fdca26\"],[1.0,\"#f0f921\"]]}],\"heatmap\":[{\"type\":\"heatmap\",\"colorbar\":{\"outlinewidth\":0,\"ticks\":\"\"},\"colorscale\":[[0.0,\"#0d0887\"],[0.1111111111111111,\"#46039f\"],[0.2222222222222222,\"#7201a8\"],[0.3333333333333333,\"#9c179e\"],[0.4444444444444444,\"#bd3786\"],[0.5555555555555556,\"#d8576b\"],[0.6666666666666666,\"#ed7953\"],[0.7777777777777778,\"#fb9f3a\"],[0.8888888888888888,\"#fdca26\"],[1.0,\"#f0f921\"]]}],\"heatmapgl\":[{\"type\":\"heatmapgl\",\"colorbar\":{\"outlinewidth\":0,\"ticks\":\"\"},\"colorscale\":[[0.0,\"#0d0887\"],[0.1111111111111111,\"#46039f\"],[0.2222222222222222,\"#7201a8\"],[0.3333333333333333,\"#9c179e\"],[0.4444444444444444,\"#bd3786\"],[0.5555555555555556,\"#d8576b\"],[0.6666666666666666,\"#ed7953\"],[0.7777777777777778,\"#fb9f3a\"],[0.8888888888888888,\"#fdca26\"],[1.0,\"#f0f921\"]]}],\"contourcarpet\":[{\"type\":\"contourcarpet\",\"colorbar\":{\"outlinewidth\":0,\"ticks\":\"\"}}],\"contour\":[{\"type\":\"contour\",\"colorbar\":{\"outlinewidth\":0,\"ticks\":\"\"},\"colorscale\":[[0.0,\"#0d0887\"],[0.1111111111111111,\"#46039f\"],[0.2222222222222222,\"#7201a8\"],[0.3333333333333333,\"#9c179e\"],[0.4444444444444444,\"#bd3786\"],[0.5555555555555556,\"#d8576b\"],[0.6666666666666666,\"#ed7953\"],[0.7777777777777778,\"#fb9f3a\"],[0.8888888888888888,\"#fdca26\"],[1.0,\"#f0f921\"]]}],\"surface\":[{\"type\":\"surface\",\"colorbar\":{\"outlinewidth\":0,\"ticks\":\"\"},\"colorscale\":[[0.0,\"#0d0887\"],[0.1111111111111111,\"#46039f\"],[0.2222222222222222,\"#7201a8\"],[0.3333333333333333,\"#9c179e\"],[0.4444444444444444,\"#bd3786\"],[0.5555555555555556,\"#d8576b\"],[0.6666666666666666,\"#ed7953\"],[0.7777777777777778,\"#fb9f3a\"],[0.8888888888888888,\"#fdca26\"],[1.0,\"#f0f921\"]]}],\"mesh3d\":[{\"type\":\"mesh3d\",\"colorbar\":{\"outlinewidth\":0,\"ticks\":\"\"}}],\"scatter\":[{\"fillpattern\":{\"fillmode\":\"overlay\",\"size\":10,\"solidity\":0.2},\"type\":\"scatter\"}],\"parcoords\":[{\"type\":\"parcoords\",\"line\":{\"colorbar\":{\"outlinewidth\":0,\"ticks\":\"\"}}}],\"scatterpolargl\":[{\"type\":\"scatterpolargl\",\"marker\":{\"colorbar\":{\"outlinewidth\":0,\"ticks\":\"\"}}}],\"bar\":[{\"error_x\":{\"color\":\"#2a3f5f\"},\"error_y\":{\"color\":\"#2a3f5f\"},\"marker\":{\"line\":{\"color\":\"#E5ECF6\",\"width\":0.5},\"pattern\":{\"fillmode\":\"overlay\",\"size\":10,\"solidity\":0.2}},\"type\":\"bar\"}],\"scattergeo\":[{\"type\":\"scattergeo\",\"marker\":{\"colorbar\":{\"outlinewidth\":0,\"ticks\":\"\"}}}],\"scatterpolar\":[{\"type\":\"scatterpolar\",\"marker\":{\"colorbar\":{\"outlinewidth\":0,\"ticks\":\"\"}}}],\"histogram\":[{\"marker\":{\"pattern\":{\"fillmode\":\"overlay\",\"size\":10,\"solidity\":0.2}},\"type\":\"histogram\"}],\"scattergl\":[{\"type\":\"scattergl\",\"marker\":{\"colorbar\":{\"outlinewidth\":0,\"ticks\":\"\"}}}],\"scatter3d\":[{\"type\":\"scatter3d\",\"line\":{\"colorbar\":{\"outlinewidth\":0,\"ticks\":\"\"}},\"marker\":{\"colorbar\":{\"outlinewidth\":0,\"ticks\":\"\"}}}],\"scattermapbox\":[{\"type\":\"scattermapbox\",\"marker\":{\"colorbar\":{\"outlinewidth\":0,\"ticks\":\"\"}}}],\"scatterternary\":[{\"type\":\"scatterternary\",\"marker\":{\"colorbar\":{\"outlinewidth\":0,\"ticks\":\"\"}}}],\"scattercarpet\":[{\"type\":\"scattercarpet\",\"marker\":{\"colorbar\":{\"outlinewidth\":0,\"ticks\":\"\"}}}],\"carpet\":[{\"aaxis\":{\"endlinecolor\":\"#2a3f5f\",\"gridcolor\":\"white\",\"linecolor\":\"white\",\"minorgridcolor\":\"white\",\"startlinecolor\":\"#2a3f5f\"},\"baxis\":{\"endlinecolor\":\"#2a3f5f\",\"gridcolor\":\"white\",\"linecolor\":\"white\",\"minorgridcolor\":\"white\",\"startlinecolor\":\"#2a3f5f\"},\"type\":\"carpet\"}],\"table\":[{\"cells\":{\"fill\":{\"color\":\"#EBF0F8\"},\"line\":{\"color\":\"white\"}},\"header\":{\"fill\":{\"color\":\"#C8D4E3\"},\"line\":{\"color\":\"white\"}},\"type\":\"table\"}],\"barpolar\":[{\"marker\":{\"line\":{\"color\":\"#E5ECF6\",\"width\":0.5},\"pattern\":{\"fillmode\":\"overlay\",\"size\":10,\"solidity\":0.2}},\"type\":\"barpolar\"}],\"pie\":[{\"automargin\":true,\"type\":\"pie\"}]},\"layout\":{\"autotypenumbers\":\"strict\",\"colorway\":[\"#636efa\",\"#EF553B\",\"#00cc96\",\"#ab63fa\",\"#FFA15A\",\"#19d3f3\",\"#FF6692\",\"#B6E880\",\"#FF97FF\",\"#FECB52\"],\"font\":{\"color\":\"#2a3f5f\"},\"hovermode\":\"closest\",\"hoverlabel\":{\"align\":\"left\"},\"paper_bgcolor\":\"white\",\"plot_bgcolor\":\"#E5ECF6\",\"polar\":{\"bgcolor\":\"#E5ECF6\",\"angularaxis\":{\"gridcolor\":\"white\",\"linecolor\":\"white\",\"ticks\":\"\"},\"radialaxis\":{\"gridcolor\":\"white\",\"linecolor\":\"white\",\"ticks\":\"\"}},\"ternary\":{\"bgcolor\":\"#E5ECF6\",\"aaxis\":{\"gridcolor\":\"white\",\"linecolor\":\"white\",\"ticks\":\"\"},\"baxis\":{\"gridcolor\":\"white\",\"linecolor\":\"white\",\"ticks\":\"\"},\"caxis\":{\"gridcolor\":\"white\",\"linecolor\":\"white\",\"ticks\":\"\"}},\"coloraxis\":{\"colorbar\":{\"outlinewidth\":0,\"ticks\":\"\"}},\"colorscale\":{\"sequential\":[[0.0,\"#0d0887\"],[0.1111111111111111,\"#46039f\"],[0.2222222222222222,\"#7201a8\"],[0.3333333333333333,\"#9c179e\"],[0.4444444444444444,\"#bd3786\"],[0.5555555555555556,\"#d8576b\"],[0.6666666666666666,\"#ed7953\"],[0.7777777777777778,\"#fb9f3a\"],[0.8888888888888888,\"#fdca26\"],[1.0,\"#f0f921\"]],\"sequentialminus\":[[0.0,\"#0d0887\"],[0.1111111111111111,\"#46039f\"],[0.2222222222222222,\"#7201a8\"],[0.3333333333333333,\"#9c179e\"],[0.4444444444444444,\"#bd3786\"],[0.5555555555555556,\"#d8576b\"],[0.6666666666666666,\"#ed7953\"],[0.7777777777777778,\"#fb9f3a\"],[0.8888888888888888,\"#fdca26\"],[1.0,\"#f0f921\"]],\"diverging\":[[0,\"#8e0152\"],[0.1,\"#c51b7d\"],[0.2,\"#de77ae\"],[0.3,\"#f1b6da\"],[0.4,\"#fde0ef\"],[0.5,\"#f7f7f7\"],[0.6,\"#e6f5d0\"],[0.7,\"#b8e186\"],[0.8,\"#7fbc41\"],[0.9,\"#4d9221\"],[1,\"#276419\"]]},\"xaxis\":{\"gridcolor\":\"white\",\"linecolor\":\"white\",\"ticks\":\"\",\"title\":{\"standoff\":15},\"zerolinecolor\":\"white\",\"automargin\":true,\"zerolinewidth\":2},\"yaxis\":{\"gridcolor\":\"white\",\"linecolor\":\"white\",\"ticks\":\"\",\"title\":{\"standoff\":15},\"zerolinecolor\":\"white\",\"automargin\":true,\"zerolinewidth\":2},\"scene\":{\"xaxis\":{\"backgroundcolor\":\"#E5ECF6\",\"gridcolor\":\"white\",\"linecolor\":\"white\",\"showbackground\":true,\"ticks\":\"\",\"zerolinecolor\":\"white\",\"gridwidth\":2},\"yaxis\":{\"backgroundcolor\":\"#E5ECF6\",\"gridcolor\":\"white\",\"linecolor\":\"white\",\"showbackground\":true,\"ticks\":\"\",\"zerolinecolor\":\"white\",\"gridwidth\":2},\"zaxis\":{\"backgroundcolor\":\"#E5ECF6\",\"gridcolor\":\"white\",\"linecolor\":\"white\",\"showbackground\":true,\"ticks\":\"\",\"zerolinecolor\":\"white\",\"gridwidth\":2}},\"shapedefaults\":{\"line\":{\"color\":\"#2a3f5f\"}},\"annotationdefaults\":{\"arrowcolor\":\"#2a3f5f\",\"arrowhead\":0,\"arrowwidth\":1},\"geo\":{\"bgcolor\":\"white\",\"landcolor\":\"#E5ECF6\",\"subunitcolor\":\"white\",\"showland\":true,\"showlakes\":true,\"lakecolor\":\"white\"},\"title\":{\"x\":0.05},\"mapbox\":{\"style\":\"light\"}}},\"title\":{\"text\":\"Distribution of Typologies across Marginal notes and Glosses with logarithmic scale\"},\"xaxis\":{\"type\":\"log\"},\"shapes\":[{\"line\":{\"color\":\"black\",\"dash\":\"dash\",\"width\":1},\"type\":\"line\",\"x0\":20,\"x1\":20,\"xref\":\"x\",\"y0\":0,\"y1\":1,\"yref\":\"paper\"},{\"line\":{\"color\":\"black\",\"dash\":\"dash\",\"width\":1},\"type\":\"line\",\"x0\":40,\"x1\":40,\"xref\":\"x\",\"y0\":0,\"y1\":1,\"yref\":\"paper\"},{\"line\":{\"color\":\"black\",\"dash\":\"dash\",\"width\":1},\"type\":\"line\",\"x0\":100,\"x1\":100,\"xref\":\"x\",\"y0\":0,\"y1\":1,\"yref\":\"paper\"}]},                        {\"responsive\": true}                    ).then(function(){\n",
       "                            \n",
       "var gd = document.getElementById('992e9732-6ffa-4b04-b8eb-9a2b3dccac0d');\n",
       "var x = new MutationObserver(function (mutations, observer) {{\n",
       "        var display = window.getComputedStyle(gd).display;\n",
       "        if (!display || display === 'none') {{\n",
       "            console.log([gd, 'removed!']);\n",
       "            Plotly.purge(gd);\n",
       "            observer.disconnect();\n",
       "        }}\n",
       "}});\n",
       "\n",
       "// Listen for the removal of the full notebook cells\n",
       "var notebookContainer = gd.closest('#notebook-container');\n",
       "if (notebookContainer) {{\n",
       "    x.observe(notebookContainer, {childList: true});\n",
       "}}\n",
       "\n",
       "// Listen for the clearing of the current output cell\n",
       "var outputEl = gd.closest('.output');\n",
       "if (outputEl) {{\n",
       "    x.observe(outputEl, {childList: true});\n",
       "}}\n",
       "\n",
       "                        })                };                });            </script>        </div>"
      ]
     },
     "metadata": {},
     "output_type": "display_data"
    }
   ],
   "source": [
    "import plotly.graph_objects as go\n",
    "\n",
    "# Count the occurrences of each unique typology in \"marginal_type\" column\n",
    "marginal_type_counts = Bamberg['marginal_note_type'].value_counts()\n",
    "\n",
    "# Count the occurrences of each unique typology in \"gloss_type\" column\n",
    "gloss_type_counts = Bamberg['gloss_type'].value_counts()\n",
    "\n",
    "# Create a DataFrame for the bar chart\n",
    "marginal_bar_data = pd.DataFrame({'typology': marginal_type_counts.index, 'count': marginal_type_counts.values})\n",
    "gloss_bar_data = pd.DataFrame({'typology': gloss_type_counts.index, 'count': gloss_type_counts.values})\n",
    "\n",
    "# Create the bar chart figure using plotly\n",
    "fig = go.Figure()\n",
    "\n",
    "# Add trace for marginal_type\n",
    "fig.add_trace(go.Bar(\n",
    "    x=marginal_bar_data['count'],\n",
    "    y=marginal_bar_data['typology'],\n",
    "    orientation='h',\n",
    "    name='Marginal Type',\n",
    "    marker=dict(\n",
    "        color=['blue' for count in marginal_bar_data['count']],  # Color bars \n",
    "    )\n",
    "))\n",
    "\n",
    "# Add trace for gloss_type\n",
    "fig.add_trace(go.Bar(\n",
    "    x=gloss_bar_data['count'],\n",
    "    y=gloss_bar_data['typology'],\n",
    "    orientation='h',\n",
    "    name='Gloss Type',\n",
    "    marker=dict(\n",
    "        color=['green' for count in gloss_bar_data['count']],  # Color bars\n",
    "    )\n",
    "))\n",
    "\n",
    "# Set the title for the bar chart\n",
    "fig.update_layout(title='Distribution of Typologies across Marginal notes and Glosses with logarithmic scale')\n",
    "\n",
    "# Set x-axis scale to logarithmic\n",
    "fig.update_xaxes(type='log')\n",
    "\n",
    "# Add vertical lines at x=5, 10, and 100\n",
    "fig.add_shape(\n",
    "    type='line',\n",
    "    x0=20, x1=20, y0=0, y1=1,\n",
    "    xref='x', yref='paper',\n",
    "    line=dict(color='black', width=1, dash='dash')\n",
    ")\n",
    "\n",
    "fig.add_shape(\n",
    "    type='line',\n",
    "    x0=40, x1=40, y0=0, y1=1,\n",
    "    xref='x', yref='paper',\n",
    "    line=dict(color='black', width=1, dash='dash')\n",
    ")\n",
    "\n",
    "fig.add_shape(\n",
    "    type='line',\n",
    "    x0=100, x1=100, y0=0, y1=1,\n",
    "    xref='x', yref='paper',\n",
    "    line=dict(color='black', width=1, dash='dash')\n",
    ")\n",
    "\n",
    "# Show the bar chart\n",
    "fig.show()\n"
   ]
  },
  {
   "cell_type": "markdown",
   "id": "ce0b7571",
   "metadata": {},
   "source": [
    "### Let's explore relative proportion of typologies/sizes across the manuscript glosses and marginalia. That way we can understand how lengthy or not a specific typology can be"
   ]
  },
  {
   "cell_type": "code",
   "execution_count": 179,
   "id": "724ba56f",
   "metadata": {},
   "outputs": [],
   "source": [
    "gloss_relative_proportions = Bamberg.groupby('gloss_type')['gloss_form'].value_counts(normalize=True).reset_index(name='proportion')\n",
    "marginalia_relative_proportions = Bamberg.groupby('marginal_note_type')['marginal_note_form'].value_counts(normalize=True).reset_index(name='proportion')\n"
   ]
  },
  {
   "cell_type": "code",
   "execution_count": 180,
   "id": "d4706293",
   "metadata": {},
   "outputs": [
    {
     "data": {
      "image/png": "[encoded data removed]",
      "text/plain": [
       "<Figure size 640x480 with 1 Axes>"
      ]
     },
     "metadata": {},
     "output_type": "display_data"
    }
   ],
   "source": [
    "\n",
    "# Filter the DataFrame for typologies with multiple options and meeting the threshold\n",
    "multiple_options = gloss_relative_proportions.groupby('gloss_type').filter(lambda x: len(x) > 1 and (x['proportion'] > 0.100).any())\n",
    "\n",
    "# Pivot the DataFrame to have gloss forms as columns\n",
    "pivot_table = multiple_options.pivot(index='gloss_type', columns='gloss_form', values='proportion')\n",
    "\n",
    "# Sort the columns based on their total proportions\n",
    "pivot_table = pivot_table[pivot_table.sum().sort_values(ascending=False).index]\n",
    "\n",
    "# Plot the stacked bar plot\n",
    "pivot_table.plot(kind='bar', stacked=True, cmap='Set3')\n",
    "\n",
    "# Set the labels and title\n",
    "plt.xlabel('Gloss Type')\n",
    "plt.ylabel('Proportion')\n",
    "plt.title('Proportion of Gloss Forms within Gloss Types')\n",
    "\n",
    "# Display the plot\n",
    "plt.savefig('graphs/proportion_typologies_forms_glosses.png')\n",
    "\n",
    "plt.show()\n",
    "\n"
   ]
  },
  {
   "cell_type": "code",
   "execution_count": 181,
   "id": "5e723043",
   "metadata": {},
   "outputs": [
    {
     "data": {
      "image/png": "[encoded data removed]",
      "text/plain": [
       "<Figure size 640x480 with 1 Axes>"
      ]
     },
     "metadata": {},
     "output_type": "display_data"
    }
   ],
   "source": [
    "\n",
    "# Filter the DataFrame for typologies with multiple options and meeting the threshold\n",
    "marg_multiple_options = marginalia_relative_proportions.groupby('marginal_note_type').filter(lambda x: len(x) > 1 and (x['proportion'] > 0.000).any())\n",
    "\n",
    "# Pivot the DataFrame to have gloss forms as columns\n",
    "pivot_table = marg_multiple_options.pivot(index='marginal_note_type', columns='marginal_note_form', values='proportion')\n",
    "\n",
    "# Sort the columns based on their total proportions\n",
    "pivot_table = pivot_table[pivot_table.sum().sort_values(ascending=False).index]\n",
    "\n",
    "# Plot the stacked bar plot\n",
    "pivot_table.plot(kind='bar', stacked=True, cmap='Set3')\n",
    "\n",
    "# Set the labels and title\n",
    "plt.xlabel('Marginalia Type')\n",
    "plt.ylabel('Proportion')\n",
    "plt.title('Proportion of Marginalia Forms within Marginalia Types')\n",
    "\n",
    "plt.savefig('graphs/proportion_typologies_forms_marginalia.png')\n",
    "\n",
    "plt.show()\n"
   ]
  },
  {
   "cell_type": "code",
   "execution_count": 182,
   "id": "52204832",
   "metadata": {},
   "outputs": [
    {
     "data": {
      "image/png": "[encoded data removed]",
      "text/plain": [
       "<Figure size 640x480 with 2 Axes>"
      ]
     },
     "metadata": {},
     "output_type": "display_data"
    }
   ],
   "source": [
    "import numpy as np\n",
    "import seaborn as sns\n",
    "from matplotlib.colors import LogNorm\n",
    "\n",
    "\n",
    "typologies_of_interest = ['S22', 'S23', 'S53', 'S54', 'S63', 'S631', 'S64']  # Specify the typologies of interest\n",
    "\n",
    "filtered_df = Bamberg[Bamberg['gloss_type'].isin(typologies_of_interest) | Bamberg['marginal_note_type'].isin(typologies_of_interest)]\n",
    "\n",
    "cross_tab = pd.crosstab(filtered_df['gloss_type'], [filtered_df['gloss_form']])\n",
    "\n",
    "# Calculate the logarithm of the counts for scaling\n",
    "log_cross_tab = np.log1p(cross_tab)\n",
    "\n",
    "# Plot the heatmap with logarithmic scaling\n",
    "sns.heatmap(data=log_cross_tab, cmap='YlGnBu',norm=LogNorm())\n",
    "\n",
    "# Set the labels and title\n",
    "plt.xlabel('Gloss Form')\n",
    "plt.ylabel('Gloss Type')\n",
    "plt.title('Proportion of Gloss and Marginalia Forms within Types')\n",
    "\n",
    "# Display the plot\n",
    "plt.savefig('graphs/proportion_typologies_forms_glosses_heatmap.png')\n",
    "plt.show()\n"
   ]
  },
  {
   "cell_type": "code",
   "execution_count": 183,
   "id": "39e329f7",
   "metadata": {},
   "outputs": [
    {
     "name": "stdout",
     "output_type": "stream",
     "text": [
      "Percentage of glosses: 85.93%\n",
      "Percentage of marginal notes: 27.84%\n"
     ]
    }
   ],
   "source": [
    "#First, let's explore the percentage of glosses and marginal_annotations in the total annotations\n",
    "# Calculate the total number of annotations\n",
    "total_annotations = len(Bamberg)\n",
    "\n",
    "# Calculate the number of glosses\n",
    "num_glosses = Bamberg['gloss'].count()\n",
    "\n",
    "# Calculate the number of marginal notes\n",
    "num_marginal_notes = Bamberg['marginal_note_type'].count()\n",
    "\n",
    "# Calculate the percentage of glosses\n",
    "percentage_glosses = (num_glosses / total_annotations) * 100\n",
    "\n",
    "# Calculate the percentage of marginal notes\n",
    "percentage_marginal_notes = (num_marginal_notes / total_annotations) * 100\n",
    "\n",
    "# Print the results\n",
    "print(f\"Percentage of glosses: {percentage_glosses:.2f}%\")\n",
    "print(f\"Percentage of marginal notes: {percentage_marginal_notes:.2f}%\")"
   ]
  },
  {
   "cell_type": "code",
   "execution_count": 184,
   "id": "fdaf0205",
   "metadata": {},
   "outputs": [
    {
     "name": "stdout",
     "output_type": "stream",
     "text": [
      "File manipulation completed.\n"
     ]
    }
   ],
   "source": [
    "import re\n",
    "# Open the text file in read mode\n",
    "with open('/Users/vlachou/Desktop/ENC/MEMOIRE/Eutyches/BambergMsc30/XML-XSLT/out/BambergMsc30_txt.txt', 'r') as file:\n",
    "    # Read the contents of the file\n",
    "    text = file.read()\n",
    "\n",
    "# Perform modifications to the text\n",
    "modified_text = re.sub(r'\\s+', ' ', text)\n",
    "\n",
    "# Open the same file or a new file in write mode\n",
    "with open('/Users/vlachou/Desktop/ENC/MEMOIRE/Eutyches/BambergMsc30/XML-XSLT/out/Bamberg_txt_singlespace.txt', 'w') as file:\n",
    "    # Write the modified text to the file\n",
    "    file.write(modified_text)\n",
    "\n",
    "# Display a message indicating the process is completed\n",
    "print(\"File manipulation completed.\")"
   ]
  },
  {
   "cell_type": "markdown",
   "id": "39553d2b",
   "metadata": {},
   "source": [
    "### We are going to count the words per folio in the main txt, and then the amount of lemmas, to determine the percentage of text that is being annotated per page.\n"
   ]
  },
  {
   "cell_type": "code",
   "execution_count": 185,
   "id": "6baddfc6",
   "metadata": {},
   "outputs": [],
   "source": [
    "\n",
    "# Open the text file in read mode\n",
    "with open('/Users/vlachou/Desktop/ENC/MEMOIRE/Eutyches/BambergMsc30/XML-XSLT/out/Bamberg_txt_singlespace.txt', 'r') as file:\n",
    "    # Read the contents of the file\n",
    "    text = file.read()\n",
    "\n",
    "# Find folio milestones and count words between them\n",
    "folio_pattern = r'folio=(\\d{2}[a-zA-Z])'\n",
    "matches = re.findall(folio_pattern, text)\n",
    "\n",
    "word_counts = []\n",
    "for i in range(len(matches)):\n",
    "    start_index = text.index(matches[i]) + len(matches[i])\n",
    "    if i == len(matches) - 1:\n",
    "        end_index = len(text)\n",
    "    else:\n",
    "        end_index = text.index(matches[i + 1])\n",
    "    segment = text[start_index:end_index].strip()\n",
    "    words = re.findall(r'\\b\\w+\\b', segment)\n",
    "    word_count = len(words)\n",
    "    word_counts.append((matches[i], word_count))\n",
    "\n",
    "# Create a dataframe with the word counts\n",
    "Bamberg_words_perfolio = pd.DataFrame(word_counts, columns=[\"folio\", \"word_counts\"])\n",
    "\n",
    "# Print the dataframe\n",
    "#Bamberg_words_perfolio"
   ]
  },
  {
   "cell_type": "code",
   "execution_count": 186,
   "id": "923f46f0",
   "metadata": {},
   "outputs": [],
   "source": [
    "Bamberg_lemma_perfolio = Bamberg.groupby('folio')['lemma_id'].count().reset_index()\n",
    "Bamberg_lemma_perfolio = Bamberg_lemma_perfolio.rename(columns={'lemma_id': 'lemma_counts'})"
   ]
  },
  {
   "cell_type": "code",
   "execution_count": 187,
   "id": "1b1a1e8d",
   "metadata": {},
   "outputs": [
    {
     "data": {
      "image/png": "[encoded data removed]",
      "text/plain": [
       "<Figure size 1000x600 with 1 Axes>"
      ]
     },
     "metadata": {},
     "output_type": "display_data"
    }
   ],
   "source": [
    "import numpy as np\n",
    "\n",
    "Bamberg_ratiooflemma_perfolio = pd.merge(Bamberg_words_perfolio, Bamberg_lemma_perfolio, on='folio')\n",
    "# Calculate the lemma ratio as a percentage\n",
    "Bamberg_ratiooflemma_perfolio['lemma_ratio'] = (Bamberg_ratiooflemma_perfolio['lemma_counts'] / Bamberg_ratiooflemma_perfolio['word_counts']) * 100\n",
    "# Calculate the average lemma ratio\n",
    "average_lemma_ratio = Bamberg_ratiooflemma_perfolio['lemma_ratio'].mean()\n",
    "\n",
    "\n",
    "\n",
    "# Create a list of colors for the bars\n",
    "colors = ['orange' if ratio > average_lemma_ratio else 'blue' for ratio in Bamberg_ratiooflemma_perfolio['lemma_ratio']]\n",
    "\n",
    "# Plotting the lemma ratio for each folio\n",
    "plt.figure(figsize=(10, 6))\n",
    "plt.bar(Bamberg_ratiooflemma_perfolio['folio'], Bamberg_ratiooflemma_perfolio['lemma_ratio'], color=colors)\n",
    "plt.xlabel('Folio')\n",
    "plt.ylabel('Percentage of lemmas')\n",
    "plt.title('Lemma Ratio per Folio')\n",
    "\n",
    "plt.xticks(rotation=45)\n",
    "\n",
    "plt.savefig('graphs/lemma_ratio_per_folio.png')\n",
    "\n",
    "\n",
    "plt.show()"
   ]
  },
  {
   "cell_type": "code",
   "execution_count": 188,
   "id": "916bf3b5",
   "metadata": {
    "scrolled": true
   },
   "outputs": [
    {
     "name": "stderr",
     "output_type": "stream",
     "text": [
      "/var/folders/ps/09_p7rl14y11qx52mcmvrr_w0000gq/T/ipykernel_94786/1611358596.py:2: FutureWarning:\n",
      "\n",
      "Indexing with multiple keys (implicitly converted to a tuple of keys) will be deprecated, use a list instead.\n",
      "\n"
     ]
    },
    {
     "data": {
      "image/png": "[encoded data removed]",
      "text/plain": [
       "<Figure size 640x480 with 1 Axes>"
      ]
     },
     "metadata": {},
     "output_type": "display_data"
    }
   ],
   "source": [
    "# Group the data by 'folio' and count the occurrences of 'gloss_id' and 'marginal_note_id'\n",
    "grouped_Bamberg = Bamberg.groupby('folio')['gloss', 'marginal_note_id'].count()\n",
    "\n",
    "# Set a custom color palette\n",
    "colors = ['#06A396', '#851ACB']\n",
    "\n",
    "# Plot the stacked bar chart\n",
    "ax = grouped_Bamberg.plot(kind='bar', stacked=True, color=colors)\n",
    "\n",
    "# Set the labels and title\n",
    "plt.xlabel('Folio', fontsize=12, fontweight='bold')\n",
    "plt.ylabel('Count', fontsize=12, fontweight='bold')\n",
    "plt.title('Distribution of BambergMsc30 glosses and marginal_notes per folio', fontsize=14, fontweight='bold')\n",
    "\n",
    "# Customize tick labels rotation and font size\n",
    "plt.xticks(rotation=90, fontsize=10)\n",
    "\n",
    "# Customize legend\n",
    "plt.legend(['glosses', 'marginal_notes'], frameon=False)\n",
    "\n",
    "# Set the figure background color\n",
    "plt.gca().set_facecolor('#F0F0F0')\n",
    "\n",
    "# Remove top and right spines\n",
    "plt.gca().spines['top'].set_visible(False)\n",
    "plt.gca().spines['right'].set_visible(False)\n",
    "\n",
    "# Show gridlines\n",
    "plt.grid(axis='y', linestyle='--', alpha=0.5)\n",
    "\n",
    "# Adjust the layout for better spacing\n",
    "plt.tight_layout()\n",
    "\n",
    "plt.savefig('graphs/distribution_glosses_marginal_folio.png')\n",
    "\n",
    "\n",
    "# Display the plot\n",
    "plt.show()"
   ]
  },
  {
   "cell_type": "code",
   "execution_count": 189,
   "id": "3ccfd9d2",
   "metadata": {},
   "outputs": [
    {
     "data": {
      "image/png": "[encoded data removed]",
      "text/plain": [
       "<Figure size 1000x600 with 1 Axes>"
      ]
     },
     "metadata": {},
     "output_type": "display_data"
    }
   ],
   "source": [
    "import seaborn as sns\n",
    "\n",
    "\n",
    "# Set the figure size\n",
    "plt.figure(figsize=(10, 6))\n",
    "\n",
    "# Create the boxplot with mean and show outliers\n",
    "sns.boxplot(data=Bamberg_ratiooflemma_perfolio, y='lemma_counts', showmeans=True, showfliers=True, color='lightblue')\n",
    "\n",
    "# Set the axes labels and title\n",
    "plt.xlabel('Folio', fontsize=12)\n",
    "plt.ylabel('Lemma Ratio', fontsize=12)\n",
    "plt.title('Lemma Ratio per Folio for Lat7499', fontsize=14)\n",
    "\n",
    "# Set the font size of the axis tick labels\n",
    "plt.xticks(fontsize=10)\n",
    "plt.yticks(fontsize=10)\n",
    "\n",
    "# Remove the top and right spines\n",
    "sns.despine()\n",
    "\n",
    "# Add a grid\n",
    "plt.grid(axis='y', linestyle='--')\n",
    "\n",
    "# Add a horizontal line at y=0 for reference\n",
    "plt.axhline(y=0, color='black', linestyle='--')\n",
    "\n",
    "# Save the plot\n",
    "plt.savefig('graphs/boxplot_lemma_ratio_per_folio.png', dpi=300)\n",
    "\n",
    "# Display the plot\n",
    "plt.show()"
   ]
  },
  {
   "cell_type": "code",
   "execution_count": 190,
   "id": "78331829",
   "metadata": {},
   "outputs": [
    {
     "name": "stderr",
     "output_type": "stream",
     "text": [
      "/var/folders/ps/09_p7rl14y11qx52mcmvrr_w0000gq/T/ipykernel_94786/1093903021.py:3: FutureWarning:\n",
      "\n",
      "Indexing with multiple keys (implicitly converted to a tuple of keys) will be deprecated, use a list instead.\n",
      "\n"
     ]
    },
    {
     "data": {
      "image/png": "[encoded data removed]",
      "text/plain": [
       "<Figure size 640x480 with 1 Axes>"
      ]
     },
     "metadata": {},
     "output_type": "display_data"
    }
   ],
   "source": [
    "# Group the data by 'folio' and count the occurrences of 'gloss_id' and 'marginal_note_id'\n",
    "Bamberg['page'] = Bamberg['lemma_id'].str.extract(r'(p\\d+)')\n",
    "Bamberg_diffusion_Keil = Bamberg.groupby('page')['gloss', 'marginal_note_id'].count()\n",
    "\n",
    "# Set a custom color palette\n",
    "colors = ['#05A496', '#853ACB']\n",
    "\n",
    "# Plot the stacked bar chart\n",
    "ax = Bamberg_diffusion_Keil.plot(kind='bar', stacked=True, color=colors)\n",
    "\n",
    "# Set the labels and title\n",
    "plt.xlabel('Folio', fontsize=12, fontweight='bold')\n",
    "plt.ylabel('Count', fontsize=12, fontweight='bold')\n",
    "plt.title('Count of glosses and marginal_notes \"per Keil page\"', fontsize=14, fontweight='bold')\n",
    "\n",
    "# Customize tick labels rotation and font size\n",
    "plt.xticks(rotation=90, fontsize=10)\n",
    "\n",
    "# Customize legend\n",
    "plt.legend(['glosses', 'marginal_notes'], frameon=False)\n",
    "\n",
    "# Set the figure background color\n",
    "plt.gca().set_facecolor('#F0F0F0')\n",
    "\n",
    "# Remove top and right spines\n",
    "plt.gca().spines['top'].set_visible(False)\n",
    "plt.gca().spines['right'].set_visible(False)\n",
    "\n",
    "# Show gridlines\n",
    "plt.grid(axis='y', linestyle='--', alpha=0.5)\n",
    "\n",
    "# Adjust the layout for better spacing\n",
    "plt.tight_layout()\n",
    "\n",
    "plt.savefig('graphs/distribution_glosses_marginal_Keil.png')\n",
    "\n",
    "\n",
    "# Display the plot\n",
    "plt.show()"
   ]
  },
  {
   "cell_type": "code",
   "execution_count": 191,
   "id": "f158785e",
   "metadata": {},
   "outputs": [
    {
     "data": {
      "text/html": [
       "<div>\n",
       "<style scoped>\n",
       "    .dataframe tbody tr th:only-of-type {\n",
       "        vertical-align: middle;\n",
       "    }\n",
       "\n",
       "    .dataframe tbody tr th {\n",
       "        vertical-align: top;\n",
       "    }\n",
       "\n",
       "    .dataframe thead th {\n",
       "        text-align: right;\n",
       "    }\n",
       "</style>\n",
       "<table border=\"1\" class=\"dataframe\">\n",
       "  <thead>\n",
       "    <tr style=\"text-align: right;\">\n",
       "      <th></th>\n",
       "      <th>page</th>\n",
       "      <th>gloss</th>\n",
       "      <th>marginal_note_id</th>\n",
       "    </tr>\n",
       "  </thead>\n",
       "  <tbody>\n",
       "    <tr>\n",
       "      <th>0</th>\n",
       "      <td>p447</td>\n",
       "      <td>46</td>\n",
       "      <td>3</td>\n",
       "    </tr>\n",
       "    <tr>\n",
       "      <th>1</th>\n",
       "      <td>p448</td>\n",
       "      <td>65</td>\n",
       "      <td>5</td>\n",
       "    </tr>\n",
       "    <tr>\n",
       "      <th>2</th>\n",
       "      <td>p449</td>\n",
       "      <td>55</td>\n",
       "      <td>8</td>\n",
       "    </tr>\n",
       "    <tr>\n",
       "      <th>3</th>\n",
       "      <td>p450</td>\n",
       "      <td>71</td>\n",
       "      <td>8</td>\n",
       "    </tr>\n",
       "    <tr>\n",
       "      <th>4</th>\n",
       "      <td>p451</td>\n",
       "      <td>73</td>\n",
       "      <td>5</td>\n",
       "    </tr>\n",
       "    <tr>\n",
       "      <th>5</th>\n",
       "      <td>p452</td>\n",
       "      <td>68</td>\n",
       "      <td>7</td>\n",
       "    </tr>\n",
       "    <tr>\n",
       "      <th>6</th>\n",
       "      <td>p453</td>\n",
       "      <td>67</td>\n",
       "      <td>24</td>\n",
       "    </tr>\n",
       "    <tr>\n",
       "      <th>7</th>\n",
       "      <td>p454</td>\n",
       "      <td>91</td>\n",
       "      <td>27</td>\n",
       "    </tr>\n",
       "    <tr>\n",
       "      <th>8</th>\n",
       "      <td>p455</td>\n",
       "      <td>50</td>\n",
       "      <td>21</td>\n",
       "    </tr>\n",
       "    <tr>\n",
       "      <th>9</th>\n",
       "      <td>p456</td>\n",
       "      <td>54</td>\n",
       "      <td>16</td>\n",
       "    </tr>\n",
       "    <tr>\n",
       "      <th>10</th>\n",
       "      <td>p457</td>\n",
       "      <td>72</td>\n",
       "      <td>26</td>\n",
       "    </tr>\n",
       "    <tr>\n",
       "      <th>11</th>\n",
       "      <td>p458</td>\n",
       "      <td>80</td>\n",
       "      <td>41</td>\n",
       "    </tr>\n",
       "    <tr>\n",
       "      <th>12</th>\n",
       "      <td>p459</td>\n",
       "      <td>82</td>\n",
       "      <td>23</td>\n",
       "    </tr>\n",
       "    <tr>\n",
       "      <th>13</th>\n",
       "      <td>p460</td>\n",
       "      <td>28</td>\n",
       "      <td>8</td>\n",
       "    </tr>\n",
       "    <tr>\n",
       "      <th>14</th>\n",
       "      <td>p461</td>\n",
       "      <td>39</td>\n",
       "      <td>19</td>\n",
       "    </tr>\n",
       "    <tr>\n",
       "      <th>15</th>\n",
       "      <td>p462</td>\n",
       "      <td>50</td>\n",
       "      <td>21</td>\n",
       "    </tr>\n",
       "    <tr>\n",
       "      <th>16</th>\n",
       "      <td>p463</td>\n",
       "      <td>56</td>\n",
       "      <td>24</td>\n",
       "    </tr>\n",
       "    <tr>\n",
       "      <th>17</th>\n",
       "      <td>p464</td>\n",
       "      <td>20</td>\n",
       "      <td>14</td>\n",
       "    </tr>\n",
       "    <tr>\n",
       "      <th>18</th>\n",
       "      <td>p465</td>\n",
       "      <td>48</td>\n",
       "      <td>27</td>\n",
       "    </tr>\n",
       "    <tr>\n",
       "      <th>19</th>\n",
       "      <td>p466</td>\n",
       "      <td>45</td>\n",
       "      <td>8</td>\n",
       "    </tr>\n",
       "    <tr>\n",
       "      <th>20</th>\n",
       "      <td>p467</td>\n",
       "      <td>27</td>\n",
       "      <td>8</td>\n",
       "    </tr>\n",
       "    <tr>\n",
       "      <th>21</th>\n",
       "      <td>p468</td>\n",
       "      <td>26</td>\n",
       "      <td>14</td>\n",
       "    </tr>\n",
       "    <tr>\n",
       "      <th>22</th>\n",
       "      <td>p469</td>\n",
       "      <td>9</td>\n",
       "      <td>7</td>\n",
       "    </tr>\n",
       "    <tr>\n",
       "      <th>23</th>\n",
       "      <td>p470</td>\n",
       "      <td>31</td>\n",
       "      <td>19</td>\n",
       "    </tr>\n",
       "    <tr>\n",
       "      <th>24</th>\n",
       "      <td>p471</td>\n",
       "      <td>25</td>\n",
       "      <td>16</td>\n",
       "    </tr>\n",
       "    <tr>\n",
       "      <th>25</th>\n",
       "      <td>p472</td>\n",
       "      <td>19</td>\n",
       "      <td>7</td>\n",
       "    </tr>\n",
       "    <tr>\n",
       "      <th>26</th>\n",
       "      <td>p473</td>\n",
       "      <td>13</td>\n",
       "      <td>8</td>\n",
       "    </tr>\n",
       "    <tr>\n",
       "      <th>27</th>\n",
       "      <td>p474</td>\n",
       "      <td>33</td>\n",
       "      <td>11</td>\n",
       "    </tr>\n",
       "    <tr>\n",
       "      <th>28</th>\n",
       "      <td>p475</td>\n",
       "      <td>21</td>\n",
       "      <td>8</td>\n",
       "    </tr>\n",
       "    <tr>\n",
       "      <th>29</th>\n",
       "      <td>p476</td>\n",
       "      <td>29</td>\n",
       "      <td>16</td>\n",
       "    </tr>\n",
       "    <tr>\n",
       "      <th>30</th>\n",
       "      <td>p477</td>\n",
       "      <td>24</td>\n",
       "      <td>13</td>\n",
       "    </tr>\n",
       "    <tr>\n",
       "      <th>31</th>\n",
       "      <td>p478</td>\n",
       "      <td>35</td>\n",
       "      <td>19</td>\n",
       "    </tr>\n",
       "    <tr>\n",
       "      <th>32</th>\n",
       "      <td>p479</td>\n",
       "      <td>44</td>\n",
       "      <td>11</td>\n",
       "    </tr>\n",
       "    <tr>\n",
       "      <th>33</th>\n",
       "      <td>p480</td>\n",
       "      <td>27</td>\n",
       "      <td>5</td>\n",
       "    </tr>\n",
       "    <tr>\n",
       "      <th>34</th>\n",
       "      <td>p481</td>\n",
       "      <td>39</td>\n",
       "      <td>11</td>\n",
       "    </tr>\n",
       "    <tr>\n",
       "      <th>35</th>\n",
       "      <td>p482</td>\n",
       "      <td>19</td>\n",
       "      <td>10</td>\n",
       "    </tr>\n",
       "    <tr>\n",
       "      <th>36</th>\n",
       "      <td>p483</td>\n",
       "      <td>33</td>\n",
       "      <td>7</td>\n",
       "    </tr>\n",
       "    <tr>\n",
       "      <th>37</th>\n",
       "      <td>p484</td>\n",
       "      <td>19</td>\n",
       "      <td>9</td>\n",
       "    </tr>\n",
       "    <tr>\n",
       "      <th>38</th>\n",
       "      <td>p485</td>\n",
       "      <td>27</td>\n",
       "      <td>13</td>\n",
       "    </tr>\n",
       "    <tr>\n",
       "      <th>39</th>\n",
       "      <td>p486</td>\n",
       "      <td>35</td>\n",
       "      <td>1</td>\n",
       "    </tr>\n",
       "    <tr>\n",
       "      <th>40</th>\n",
       "      <td>p487</td>\n",
       "      <td>21</td>\n",
       "      <td>7</td>\n",
       "    </tr>\n",
       "    <tr>\n",
       "      <th>41</th>\n",
       "      <td>p488</td>\n",
       "      <td>12</td>\n",
       "      <td>5</td>\n",
       "    </tr>\n",
       "  </tbody>\n",
       "</table>\n",
       "</div>"
      ],
      "text/plain": [
       "    page  gloss  marginal_note_id\n",
       "0   p447     46                 3\n",
       "1   p448     65                 5\n",
       "2   p449     55                 8\n",
       "3   p450     71                 8\n",
       "4   p451     73                 5\n",
       "5   p452     68                 7\n",
       "6   p453     67                24\n",
       "7   p454     91                27\n",
       "8   p455     50                21\n",
       "9   p456     54                16\n",
       "10  p457     72                26\n",
       "11  p458     80                41\n",
       "12  p459     82                23\n",
       "13  p460     28                 8\n",
       "14  p461     39                19\n",
       "15  p462     50                21\n",
       "16  p463     56                24\n",
       "17  p464     20                14\n",
       "18  p465     48                27\n",
       "19  p466     45                 8\n",
       "20  p467     27                 8\n",
       "21  p468     26                14\n",
       "22  p469      9                 7\n",
       "23  p470     31                19\n",
       "24  p471     25                16\n",
       "25  p472     19                 7\n",
       "26  p473     13                 8\n",
       "27  p474     33                11\n",
       "28  p475     21                 8\n",
       "29  p476     29                16\n",
       "30  p477     24                13\n",
       "31  p478     35                19\n",
       "32  p479     44                11\n",
       "33  p480     27                 5\n",
       "34  p481     39                11\n",
       "35  p482     19                10\n",
       "36  p483     33                 7\n",
       "37  p484     19                 9\n",
       "38  p485     27                13\n",
       "39  p486     35                 1\n",
       "40  p487     21                 7\n",
       "41  p488     12                 5"
      ]
     },
     "execution_count": 191,
     "metadata": {},
     "output_type": "execute_result"
    }
   ],
   "source": [
    "Bamberg_diffusion_Keil=Bamberg_diffusion_Keil.reset_index()\n",
    "Bamberg_diffusion_Keil"
   ]
  },
  {
   "cell_type": "code",
   "execution_count": 192,
   "id": "e6da2056",
   "metadata": {},
   "outputs": [],
   "source": [
    "Bamberg_diffusion_Keil.to_csv('/Users/vlachou/Desktop/ENC/MEMOIRE/Eutyches/comparative_mss_analysis/diffusion_csv/diffusion_Bamberg_annotations_Keil.csv', encoding='utf-8')\n"
   ]
  },
  {
   "cell_type": "code",
   "execution_count": null,
   "id": "d57ea7d4",
   "metadata": {},
   "outputs": [],
   "source": []
  },
  {
   "cell_type": "code",
   "execution_count": null,
   "id": "7fdcef8b",
   "metadata": {},
   "outputs": [],
   "source": []
  }
 ],
 "metadata": {
  "kernelspec": {
   "display_name": "Python 3 (ipykernel)",
   "language": "python",
   "name": "python3"
  },
  "language_info": {
   "codemirror_mode": {
    "name": "ipython",
    "version": 3
   },
   "file_extension": ".py",
   "mimetype": "text/x-python",
   "name": "python",
   "nbconvert_exporter": "python",
   "pygments_lexer": "ipython3",
   "version": "3.10.9"
  }
 },
 "nbformat": 4,
 "nbformat_minor": 5
}
