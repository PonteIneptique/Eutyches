{
 "cells": [
  {
   "cell_type": "code",
   "execution_count": 126,
   "id": "5fa96ba7",
   "metadata": {},
   "outputs": [],
   "source": [
    "import lxml\n",
    "from lxml import etree\n",
    "import pandas as pd\n",
    "import numpy as np\n",
    "import matplotlib.pyplot as plt \n",
    "import os, os.path\n",
    "from lxml import etree as ET"
   ]
  },
  {
   "cell_type": "markdown",
   "id": "94512940",
   "metadata": {},
   "source": [
    "### Importing the csv containing the data for BambergMsc30. The csv is structured in the following way :\n",
    "  > * lemma_id = the indexing id corresponding to the page, line and line order in Kei's edition (eg. p447_l05_o02)\n",
    "  > * lemma\n",
    " > * gloss_type = typology according to Cinato(2015), (eg. S23 for definition, S22 for synonyms, etc.)\n",
    " > * gloss_form = relative size (eg. F1 for sign, F2 for word, F3 for syntagm or agregation of words, F4 for phrase and F5 for paragraph)\n",
    "> * same for marginal_notes"
   ]
  },
  {
   "cell_type": "code",
   "execution_count": 148,
   "id": "024e8b75",
   "metadata": {
    "scrolled": true
   },
   "outputs": [
    {
     "data": {
      "text/html": [
       "<div>\n",
       "<style scoped>\n",
       "    .dataframe tbody tr th:only-of-type {\n",
       "        vertical-align: middle;\n",
       "    }\n",
       "\n",
       "    .dataframe tbody tr th {\n",
       "        vertical-align: top;\n",
       "    }\n",
       "\n",
       "    .dataframe thead th {\n",
       "        text-align: right;\n",
       "    }\n",
       "</style>\n",
       "<table border=\"1\" class=\"dataframe\">\n",
       "  <thead>\n",
       "    <tr style=\"text-align: right;\">\n",
       "      <th></th>\n",
       "      <th>folio</th>\n",
       "      <th>lemma_id</th>\n",
       "      <th>lemma</th>\n",
       "      <th>gloss_id</th>\n",
       "      <th>gloss</th>\n",
       "      <th>gloss_type</th>\n",
       "      <th>gloss_form</th>\n",
       "      <th>marginal_note_id</th>\n",
       "      <th>marginal_note_type</th>\n",
       "      <th>marginal_note_form</th>\n",
       "    </tr>\n",
       "  </thead>\n",
       "  <tbody>\n",
       "    <tr>\n",
       "      <th>0</th>\n",
       "      <td>72v</td>\n",
       "      <td>f72v_l01_o02</td>\n",
       "      <td>circũstantię</td>\n",
       "      <td>None</td>\n",
       "      <td>None</td>\n",
       "      <td>None</td>\n",
       "      <td>None</td>\n",
       "      <td>f72v_l01_o02_a</td>\n",
       "      <td>S523</td>\n",
       "      <td>F5</td>\n",
       "    </tr>\n",
       "    <tr>\n",
       "      <th>1</th>\n",
       "      <td>73r</td>\n",
       "      <td>p447_l05_o01</td>\n",
       "      <td>VM</td>\n",
       "      <td>p447_l05_o01_a</td>\n",
       "      <td>.s.  soleant</td>\n",
       "      <td>S36</td>\n",
       "      <td>F3</td>\n",
       "      <td>p447_l05_o01_b</td>\n",
       "      <td>S23</td>\n",
       "      <td>F5</td>\n",
       "    </tr>\n",
       "    <tr>\n",
       "      <th>2</th>\n",
       "      <td>73r</td>\n",
       "      <td>p447_l05_o02</td>\n",
       "      <td>SEMPER</td>\n",
       "      <td>p447_l05_o02_a</td>\n",
       "      <td>ꝓ sepe</td>\n",
       "      <td>S22</td>\n",
       "      <td>F2</td>\n",
       "      <td>p447_l05_o02_b</td>\n",
       "      <td>S23</td>\n",
       "      <td>F5</td>\n",
       "    </tr>\n",
       "    <tr>\n",
       "      <th>3</th>\n",
       "      <td>73r</td>\n",
       "      <td>p447_l05_o04</td>\n",
       "      <td>QVESTIONES</td>\n",
       "      <td>p447_l05_o04_a</td>\n",
       "      <td>÷ ꝓpositiones</td>\n",
       "      <td>S22</td>\n",
       "      <td>F2</td>\n",
       "      <td>p447_l05_o04_b</td>\n",
       "      <td>S631</td>\n",
       "      <td>F5</td>\n",
       "    </tr>\n",
       "    <tr>\n",
       "      <th>4</th>\n",
       "      <td>73r</td>\n",
       "      <td>p447_l05_o05</td>\n",
       "      <td>DOCTORIB</td>\n",
       "      <td>p447_l05_o05_a</td>\n",
       "      <td>magistris p̃ceptorib</td>\n",
       "      <td>S22</td>\n",
       "      <td>F3</td>\n",
       "      <td>None</td>\n",
       "      <td>None</td>\n",
       "      <td>None</td>\n",
       "    </tr>\n",
       "    <tr>\n",
       "      <th>...</th>\n",
       "      <td>...</td>\n",
       "      <td>...</td>\n",
       "      <td>...</td>\n",
       "      <td>...</td>\n",
       "      <td>...</td>\n",
       "      <td>...</td>\n",
       "      <td>...</td>\n",
       "      <td>...</td>\n",
       "      <td>...</td>\n",
       "      <td>...</td>\n",
       "    </tr>\n",
       "    <tr>\n",
       "      <th>1918</th>\n",
       "      <td>91v</td>\n",
       "      <td>p487_l32_o11</td>\n",
       "      <td>ΠΗΠΩΙΝ</td>\n",
       "      <td>p487_l32_o11_a</td>\n",
       "      <td>feci</td>\n",
       "      <td>S211</td>\n",
       "      <td>F2</td>\n",
       "      <td>None</td>\n",
       "      <td>None</td>\n",
       "      <td>None</td>\n",
       "    </tr>\n",
       "    <tr>\n",
       "      <th>1919</th>\n",
       "      <td>91v</td>\n",
       "      <td>f91v_l18_o04</td>\n",
       "      <td>ΚΑΙ</td>\n",
       "      <td>f91v_l18_o04_a</td>\n",
       "      <td>Ε</td>\n",
       "      <td>S211</td>\n",
       "      <td>F2</td>\n",
       "      <td>None</td>\n",
       "      <td>None</td>\n",
       "      <td>None</td>\n",
       "    </tr>\n",
       "    <tr>\n",
       "      <th>1920</th>\n",
       "      <td>91v</td>\n",
       "      <td>p487_l33_o01</td>\n",
       "      <td>ΠΗΠΟΙΝΙΣΩ</td>\n",
       "      <td>p487_l33_o01_a</td>\n",
       "      <td>ad facio</td>\n",
       "      <td>S221</td>\n",
       "      <td>F3</td>\n",
       "      <td>None</td>\n",
       "      <td>None</td>\n",
       "      <td>None</td>\n",
       "    </tr>\n",
       "    <tr>\n",
       "      <th>1921</th>\n",
       "      <td>91v</td>\n",
       "      <td>p487_l33_o03</td>\n",
       "      <td>ΝΕΝΩΝΚΑ</td>\n",
       "      <td>p487_l33_o03_a</td>\n",
       "      <td>lego</td>\n",
       "      <td>S211</td>\n",
       "      <td>F2</td>\n",
       "      <td>None</td>\n",
       "      <td>None</td>\n",
       "      <td>None</td>\n",
       "    </tr>\n",
       "    <tr>\n",
       "      <th>1922</th>\n",
       "      <td>91v</td>\n",
       "      <td>p487_l33_o04</td>\n",
       "      <td>ΝΕΝΩΝΚΩ</td>\n",
       "      <td>p487_l33_o04_a</td>\n",
       "      <td>lectito ł lecto</td>\n",
       "      <td>S211</td>\n",
       "      <td>F3</td>\n",
       "      <td>None</td>\n",
       "      <td>None</td>\n",
       "      <td>None</td>\n",
       "    </tr>\n",
       "  </tbody>\n",
       "</table>\n",
       "<p>1923 rows × 10 columns</p>\n",
       "</div>"
      ],
      "text/plain": [
       "     folio      lemma_id           lemma        gloss_id  \\\n",
       "0      72v  f72v_l01_o02  circũstantię             None   \n",
       "1      73r  p447_l05_o01             VM   p447_l05_o01_a   \n",
       "2      73r  p447_l05_o02         SEMPER   p447_l05_o02_a   \n",
       "3      73r  p447_l05_o04     QVESTIONES   p447_l05_o04_a   \n",
       "4      73r  p447_l05_o05      DOCTORIB   p447_l05_o05_a   \n",
       "...    ...           ...             ...             ...   \n",
       "1918   91v  p487_l32_o11         ΠΗΠΩΙΝ   p487_l32_o11_a   \n",
       "1919   91v  f91v_l18_o04            ΚΑΙ   f91v_l18_o04_a   \n",
       "1920   91v  p487_l33_o01      ΠΗΠΟΙΝΙΣΩ   p487_l33_o01_a   \n",
       "1921   91v  p487_l33_o03        ΝΕΝΩΝΚΑ   p487_l33_o03_a   \n",
       "1922   91v  p487_l33_o04        ΝΕΝΩΝΚΩ   p487_l33_o04_a   \n",
       "\n",
       "                      gloss gloss_type gloss_form marginal_note_id  \\\n",
       "0                      None       None       None   f72v_l01_o02_a   \n",
       "1             .s.  soleant        S36         F3   p447_l05_o01_b   \n",
       "2                    ꝓ sepe        S22         F2   p447_l05_o02_b   \n",
       "3             ÷ ꝓpositiones        S22         F2   p447_l05_o04_b   \n",
       "4     magistris p̃ceptorib        S22         F3             None   \n",
       "...                     ...        ...        ...              ...   \n",
       "1918                   feci       S211         F2             None   \n",
       "1919                      Ε       S211         F2             None   \n",
       "1920               ad facio       S221         F3             None   \n",
       "1921                   lego       S211         F2             None   \n",
       "1922        lectito ł lecto       S211         F3             None   \n",
       "\n",
       "     marginal_note_type marginal_note_form  \n",
       "0                  S523                 F5  \n",
       "1                   S23                 F5  \n",
       "2                   S23                 F5  \n",
       "3                  S631                 F5  \n",
       "4                  None               None  \n",
       "...                 ...                ...  \n",
       "1918               None               None  \n",
       "1919               None               None  \n",
       "1920               None               None  \n",
       "1921               None               None  \n",
       "1922               None               None  \n",
       "\n",
       "[1923 rows x 10 columns]"
      ]
     },
     "execution_count": 148,
     "metadata": {},
     "output_type": "execute_result"
    }
   ],
   "source": [
    "# Define the namespace mapping\n",
    "ns = {\"tei\": \"http://www.tei-c.org/ns/1.0\", \"xml\": \"http://www.w3.org/XML/1998/namespace\"}\n",
    "\n",
    "# Parse the XML file using ElementTree\n",
    "tree = etree.parse(\"/Users/vlachou/Desktop/ENC/MEMOIRE/Eutyches/Lat7499/XML-XSLT/Lat7499_edition_documentaire.xml\")\n",
    "root = tree.getroot()\n",
    "# Create empty lists to store the extracted information\n",
    "metadata = []\n",
    "\n",
    "# Iterate through all <seg type=\"lemma\"> elements and extract their xml:id and lemma values\n",
    "lemmas = root.findall(\".//tei:seg\", namespaces=ns)\n",
    "\n",
    "for i, lemma in enumerate(lemmas):\n",
    "    lemma_id = lemma.attrib.get(\"{http://www.w3.org/XML/1998/namespace}id\")\n",
    "    lemma_text = lemma.text\n",
    "    \n",
    "    # Find the previous pb element\n",
    "    folio = None\n",
    "    for sibling in lemma.itersiblings(preceding=True):\n",
    "        if sibling.tag == \"{http://www.tei-c.org/ns/1.0}pb\":\n",
    "            folio = sibling.attrib.get(\"n\")\n",
    "            break\n",
    "    \n",
    "    # find the corresponding gloss elements\n",
    "    glosses = root.findall(\".//tei:gloss[@target='#\" + lemma_id + \"']\", namespaces=ns)\n",
    "    \n",
    "    if glosses:\n",
    "        # if there is at least one matching gloss, loop through them and append to metadata\n",
    "        for gloss in glosses:\n",
    "            gloss_id = gloss.attrib.get(\"{http://www.w3.org/XML/1998/namespace}id\")\n",
    "            gloss_type = gloss.attrib.get(\"ana\")\n",
    "            gloss_form = gloss.attrib.get(\"style\")\n",
    "            gloss_text = gloss.text.strip()\n",
    "\n",
    "            metadata.append((folio,lemma_id, lemma_text, gloss_id, gloss_text, gloss_type, gloss_form, None, None))\n",
    "    else:\n",
    "        # if there are no matching glosses, append None for the gloss columns\n",
    "        metadata.append((folio,lemma_id, lemma_text, None, None, None, None, None, None))\n",
    "\n",
    "    # Find all <fw type=\"marginal_note\"> elements that correspond to this lemma\n",
    "    marginal_notes = root.findall(\".//tei:fw[@corresp='#\" + lemma_id + \"']\", namespaces=ns)\n",
    "    if marginal_notes:\n",
    "        # if there is at least one matching marginal note, loop through them and append to metadata\n",
    "        for marginal_note in marginal_notes:\n",
    "            marginal_note_id = marginal_note.attrib.get(\"{http://www.w3.org/XML/1998/namespace}id\")\n",
    "            marginal_note_type = marginal_note.attrib.get(\"ana\")\n",
    "            marginal_note_style = marginal_note.attrib.get(\"style\")\n",
    "            #marginal_note_text = marginal_note.text.strip()\n",
    "            # append the marginal note to the last row of metadata (which corresponds to the current lemma)\n",
    "            metadata[-1] = metadata[-1][:7] + (marginal_note_id, marginal_note_type, marginal_note_style)\n",
    "\n",
    "Lat7499 = pd.DataFrame(metadata, columns=[\"folio\",\"lemma_id\", \"lemma\", \"gloss_id\", \"gloss\", \"gloss_type\", \"gloss_form\", \"marginal_note_id\", \"marginal_note_type\", \"marginal_note_form\"])\n",
    "Lat7499.to_csv('/Users/vlachou/Desktop/ENC/MEMOIRE/Eutyches/comparative_mss_analysis/metadata_csv/Lat7499.csv', index=False)\n",
    "Lat7499\n"
   ]
  },
  {
   "cell_type": "markdown",
   "id": "39db5262",
   "metadata": {},
   "source": [
    "## We apply .description() to get a quick first analytics of the dataframe :\n",
    "> * **39 glossed folios** with 83r being the most mentionned (146 lemmas glossed)\n",
    "> * **1923 lemmas** with 1740 unique ones (183 being repeated - not uncommon since Eutyches uses the same examples accross his work eg. we have add glossed 10 times meaning 10 additions)\n",
    "> * **1757 glosses** with approx 107 repeated ones - uerba being a gloss 10 times\n",
    "> * **38 unique typologies** with **S22 being the most frequent** counting 914 occurences \n",
    "> * glosses all across 5 sizes/forms with **F2 being the most frequent** (759 occurences)\n",
    "> * **320 marginal notes** where **S23 (definition) is the most common typology (83 occurences) and F5 (word) the most common relative size (182 occurences)**\n"
   ]
  },
  {
   "cell_type": "code",
   "execution_count": 149,
   "id": "342b918f",
   "metadata": {
    "scrolled": true
   },
   "outputs": [
    {
     "data": {
      "text/html": [
       "<div>\n",
       "<style scoped>\n",
       "    .dataframe tbody tr th:only-of-type {\n",
       "        vertical-align: middle;\n",
       "    }\n",
       "\n",
       "    .dataframe tbody tr th {\n",
       "        vertical-align: top;\n",
       "    }\n",
       "\n",
       "    .dataframe thead th {\n",
       "        text-align: right;\n",
       "    }\n",
       "</style>\n",
       "<table border=\"1\" class=\"dataframe\">\n",
       "  <thead>\n",
       "    <tr style=\"text-align: right;\">\n",
       "      <th></th>\n",
       "      <th>folio</th>\n",
       "      <th>lemma_id</th>\n",
       "      <th>lemma</th>\n",
       "      <th>gloss_id</th>\n",
       "      <th>gloss</th>\n",
       "      <th>gloss_type</th>\n",
       "      <th>gloss_form</th>\n",
       "      <th>marginal_note_id</th>\n",
       "      <th>marginal_note_type</th>\n",
       "      <th>marginal_note_form</th>\n",
       "    </tr>\n",
       "  </thead>\n",
       "  <tbody>\n",
       "    <tr>\n",
       "      <th>count</th>\n",
       "      <td>1923</td>\n",
       "      <td>1923</td>\n",
       "      <td>1923</td>\n",
       "      <td>1757</td>\n",
       "      <td>1757</td>\n",
       "      <td>1757</td>\n",
       "      <td>1757</td>\n",
       "      <td>320</td>\n",
       "      <td>320</td>\n",
       "      <td>320</td>\n",
       "    </tr>\n",
       "    <tr>\n",
       "      <th>unique</th>\n",
       "      <td>39</td>\n",
       "      <td>1922</td>\n",
       "      <td>1740</td>\n",
       "      <td>1757</td>\n",
       "      <td>1652</td>\n",
       "      <td>37</td>\n",
       "      <td>5</td>\n",
       "      <td>320</td>\n",
       "      <td>26</td>\n",
       "      <td>5</td>\n",
       "    </tr>\n",
       "    <tr>\n",
       "      <th>top</th>\n",
       "      <td>83r</td>\n",
       "      <td>p461_l27_o03</td>\n",
       "      <td>(add)</td>\n",
       "      <td>p447_l05_o01_a</td>\n",
       "      <td>uerba</td>\n",
       "      <td>S22</td>\n",
       "      <td>F2</td>\n",
       "      <td>f72v_l01_o02_a</td>\n",
       "      <td>S23</td>\n",
       "      <td>F5</td>\n",
       "    </tr>\n",
       "    <tr>\n",
       "      <th>freq</th>\n",
       "      <td>126</td>\n",
       "      <td>2</td>\n",
       "      <td>10</td>\n",
       "      <td>1</td>\n",
       "      <td>10</td>\n",
       "      <td>914</td>\n",
       "      <td>759</td>\n",
       "      <td>1</td>\n",
       "      <td>83</td>\n",
       "      <td>182</td>\n",
       "    </tr>\n",
       "  </tbody>\n",
       "</table>\n",
       "</div>"
      ],
      "text/plain": [
       "       folio      lemma_id   lemma        gloss_id  gloss gloss_type  \\\n",
       "count   1923          1923    1923            1757   1757       1757   \n",
       "unique    39          1922    1740            1757   1652         37   \n",
       "top      83r  p461_l27_o03  (add)   p447_l05_o01_a  uerba        S22   \n",
       "freq     126             2      10               1     10        914   \n",
       "\n",
       "       gloss_form marginal_note_id marginal_note_type marginal_note_form  \n",
       "count        1757              320                320                320  \n",
       "unique          5              320                 26                  5  \n",
       "top            F2   f72v_l01_o02_a                S23                 F5  \n",
       "freq          759                1                 83                182  "
      ]
     },
     "execution_count": 149,
     "metadata": {},
     "output_type": "execute_result"
    }
   ],
   "source": [
    "description = Lat7499.describe()\n",
    "description"
   ]
  },
  {
   "cell_type": "code",
   "execution_count": 150,
   "id": "5180a70c",
   "metadata": {},
   "outputs": [
    {
     "data": {
      "text/html": [
       "<div>\n",
       "<style scoped>\n",
       "    .dataframe tbody tr th:only-of-type {\n",
       "        vertical-align: middle;\n",
       "    }\n",
       "\n",
       "    .dataframe tbody tr th {\n",
       "        vertical-align: top;\n",
       "    }\n",
       "\n",
       "    .dataframe thead th {\n",
       "        text-align: right;\n",
       "    }\n",
       "</style>\n",
       "<table border=\"1\" class=\"dataframe\">\n",
       "  <thead>\n",
       "    <tr style=\"text-align: right;\">\n",
       "      <th></th>\n",
       "      <th>folio</th>\n",
       "      <th>lemma_id</th>\n",
       "      <th>lemma</th>\n",
       "      <th>gloss_id</th>\n",
       "      <th>gloss</th>\n",
       "      <th>gloss_type</th>\n",
       "      <th>gloss_form</th>\n",
       "      <th>marginal_note_id</th>\n",
       "      <th>marginal_note_type</th>\n",
       "      <th>marginal_note_form</th>\n",
       "    </tr>\n",
       "  </thead>\n",
       "  <tbody>\n",
       "    <tr>\n",
       "      <th>0</th>\n",
       "      <td>72v</td>\n",
       "      <td>f72v_l01_o02</td>\n",
       "      <td>circũstantię</td>\n",
       "      <td>None</td>\n",
       "      <td>None</td>\n",
       "      <td>None</td>\n",
       "      <td>None</td>\n",
       "      <td>f72v_l01_o02_a</td>\n",
       "      <td>S523</td>\n",
       "      <td>F5</td>\n",
       "    </tr>\n",
       "    <tr>\n",
       "      <th>234</th>\n",
       "      <td>74r</td>\n",
       "      <td>f74r_l17_o12</td>\n",
       "      <td>Scabeo</td>\n",
       "      <td>f74r_l17_o12_a</td>\n",
       "      <td>scalpo leꝓsus/effitio/scalpeo :</td>\n",
       "      <td>S22</td>\n",
       "      <td>F3</td>\n",
       "      <td>None</td>\n",
       "      <td>None</td>\n",
       "      <td>None</td>\n",
       "    </tr>\n",
       "    <tr>\n",
       "      <th>235</th>\n",
       "      <td>74r</td>\n",
       "      <td>f74r_l18_o01</td>\n",
       "      <td>Arceo,</td>\n",
       "      <td>f74r_l18_o01_a</td>\n",
       "      <td>ꝓhibeo</td>\n",
       "      <td>S22</td>\n",
       "      <td>F2</td>\n",
       "      <td>None</td>\n",
       "      <td>None</td>\n",
       "      <td>None</td>\n",
       "    </tr>\n",
       "    <tr>\n",
       "      <th>240</th>\n",
       "      <td>74r</td>\n",
       "      <td>f74r_l18_o07</td>\n",
       "      <td>Geo,</td>\n",
       "      <td>f74r_l18_o07_a</td>\n",
       "      <td>mensuro</td>\n",
       "      <td>S22</td>\n",
       "      <td>F2</td>\n",
       "      <td>f74r_l18_o07_b</td>\n",
       "      <td>S54</td>\n",
       "      <td>F4</td>\n",
       "    </tr>\n",
       "    <tr>\n",
       "      <th>241</th>\n",
       "      <td>74r</td>\n",
       "      <td>f74r_l18_o08</td>\n",
       "      <td>Scopeo,</td>\n",
       "      <td>f74r_l18_o08_a</td>\n",
       "      <td>purgo /et diriuatũ a scopis</td>\n",
       "      <td>S24</td>\n",
       "      <td>F2</td>\n",
       "      <td>None</td>\n",
       "      <td>None</td>\n",
       "      <td>None</td>\n",
       "    </tr>\n",
       "    <tr>\n",
       "      <th>...</th>\n",
       "      <td>...</td>\n",
       "      <td>...</td>\n",
       "      <td>...</td>\n",
       "      <td>...</td>\n",
       "      <td>...</td>\n",
       "      <td>...</td>\n",
       "      <td>...</td>\n",
       "      <td>...</td>\n",
       "      <td>...</td>\n",
       "      <td>...</td>\n",
       "    </tr>\n",
       "    <tr>\n",
       "      <th>1848</th>\n",
       "      <td>84v</td>\n",
       "      <td>f84v_l34_o13</td>\n",
       "      <td>geo</td>\n",
       "      <td>f84v_l34_o13_a</td>\n",
       "      <td>mensuro</td>\n",
       "      <td>S22</td>\n",
       "      <td>F2</td>\n",
       "      <td>None</td>\n",
       "      <td>None</td>\n",
       "      <td>None</td>\n",
       "    </tr>\n",
       "    <tr>\n",
       "      <th>1849</th>\n",
       "      <td>84v</td>\n",
       "      <td>f84v_l34_o14</td>\n",
       "      <td>(add)</td>\n",
       "      <td>f84v_l34_o14_a</td>\n",
       "      <td>+ unde &amp; beo /.s.  disillaba st̃</td>\n",
       "      <td>S53</td>\n",
       "      <td>F4</td>\n",
       "      <td>None</td>\n",
       "      <td>None</td>\n",
       "      <td>None</td>\n",
       "    </tr>\n",
       "    <tr>\n",
       "      <th>1855</th>\n",
       "      <td>85v</td>\n",
       "      <td>f85v_l07_o01</td>\n",
       "      <td>ΠΡΟΛΕΓΟ</td>\n",
       "      <td>f85v_l07_o01_a</td>\n",
       "      <td>ł ΠΡΕ ÷ p̃dico</td>\n",
       "      <td>S211</td>\n",
       "      <td>F3</td>\n",
       "      <td>None</td>\n",
       "      <td>None</td>\n",
       "      <td>None</td>\n",
       "    </tr>\n",
       "    <tr>\n",
       "      <th>1897</th>\n",
       "      <td>89r</td>\n",
       "      <td>f89r_l15_o15</td>\n",
       "      <td>(add)</td>\n",
       "      <td>None</td>\n",
       "      <td>None</td>\n",
       "      <td>None</td>\n",
       "      <td>None</td>\n",
       "      <td>f89r_l15_o15_a</td>\n",
       "      <td>S611</td>\n",
       "      <td>F3</td>\n",
       "    </tr>\n",
       "    <tr>\n",
       "      <th>1919</th>\n",
       "      <td>91v</td>\n",
       "      <td>f91v_l18_o04</td>\n",
       "      <td>ΚΑΙ</td>\n",
       "      <td>f91v_l18_o04_a</td>\n",
       "      <td>Ε</td>\n",
       "      <td>S211</td>\n",
       "      <td>F2</td>\n",
       "      <td>None</td>\n",
       "      <td>None</td>\n",
       "      <td>None</td>\n",
       "    </tr>\n",
       "  </tbody>\n",
       "</table>\n",
       "<p>69 rows × 10 columns</p>\n",
       "</div>"
      ],
      "text/plain": [
       "     folio      lemma_id           lemma        gloss_id  \\\n",
       "0      72v  f72v_l01_o02  circũstantię             None   \n",
       "234    74r  f74r_l17_o12         Scabeo   f74r_l17_o12_a   \n",
       "235    74r  f74r_l18_o01         Arceo,   f74r_l18_o01_a   \n",
       "240    74r  f74r_l18_o07           Geo,   f74r_l18_o07_a   \n",
       "241    74r  f74r_l18_o08        Scopeo,   f74r_l18_o08_a   \n",
       "...    ...           ...             ...             ...   \n",
       "1848   84v  f84v_l34_o13            geo   f84v_l34_o13_a   \n",
       "1849   84v  f84v_l34_o14          (add)   f84v_l34_o14_a   \n",
       "1855   85v  f85v_l07_o01        ΠΡΟΛΕΓΟ   f85v_l07_o01_a   \n",
       "1897   89r  f89r_l15_o15          (add)             None   \n",
       "1919   91v  f91v_l18_o04            ΚΑΙ   f91v_l18_o04_a   \n",
       "\n",
       "                                  gloss gloss_type gloss_form  \\\n",
       "0                                  None       None       None   \n",
       "234     scalpo leꝓsus/effitio/scalpeo :        S22         F3   \n",
       "235                              ꝓhibeo        S22         F2   \n",
       "240                             mensuro        S22         F2   \n",
       "241         purgo /et diriuatũ a scopis        S24         F2   \n",
       "...                                 ...        ...        ...   \n",
       "1848                            mensuro        S22         F2   \n",
       "1849  + unde & beo /.s.  disillaba st̃        S53         F4   \n",
       "1855                     ł ΠΡΕ ÷ p̃dico       S211         F3   \n",
       "1897                               None       None       None   \n",
       "1919                                  Ε       S211         F2   \n",
       "\n",
       "     marginal_note_id marginal_note_type marginal_note_form  \n",
       "0      f72v_l01_o02_a               S523                 F5  \n",
       "234              None               None               None  \n",
       "235              None               None               None  \n",
       "240    f74r_l18_o07_b                S54                 F4  \n",
       "241              None               None               None  \n",
       "...               ...                ...                ...  \n",
       "1848             None               None               None  \n",
       "1849             None               None               None  \n",
       "1855             None               None               None  \n",
       "1897   f89r_l15_o15_a               S611                 F3  \n",
       "1919             None               None               None  \n",
       "\n",
       "[69 rows x 10 columns]"
      ]
     },
     "execution_count": 150,
     "metadata": {},
     "output_type": "execute_result"
    }
   ],
   "source": [
    "# Create the new DataFrame with the desired condition\n",
    "unique_lemmas_Lat7499 = Lat7499[Lat7499['lemma_id'].str.startswith('f')]\n",
    "\n",
    "# Print the filtered DataFrame\n",
    "len(unique_lemmas_Lat7499) #69\n",
    "\n",
    "unique_lemmas_Lat7499"
   ]
  },
  {
   "cell_type": "code",
   "execution_count": 151,
   "id": "b49292e2",
   "metadata": {},
   "outputs": [
    {
     "data": {
      "image/png": "[encoded data removed]",
      "text/plain": [
       "<Figure size 1000x600 with 1 Axes>"
      ]
     },
     "metadata": {},
     "output_type": "display_data"
    }
   ],
   "source": [
    "import seaborn as sns\n",
    "import matplotlib.pyplot as plt\n",
    "\n",
    "# Count the occurrences of each typology in the 'gloss_type' column\n",
    "gloss_type_counts = unique_lemmas_Lat7499['gloss_type'].value_counts()\n",
    "\n",
    "# Count the occurrences of each typology in the 'marginal_note_type' column\n",
    "marginal_note_type_counts = unique_lemmas_Lat7499['marginal_note_type'].value_counts()\n",
    "\n",
    "# Create the stacked bar plot\n",
    "fig, ax = plt.subplots(figsize=(10, 6))\n",
    "\n",
    "# Combine the two typology counts into a single DataFrame\n",
    "typology_counts = pd.concat([gloss_type_counts, marginal_note_type_counts], axis=1)\n",
    "\n",
    "# Reset the index and rename the columns\n",
    "typology_counts = typology_counts.reset_index()\n",
    "typology_counts.columns = ['Typology', 'Gloss Type', 'Marginal Note Type']\n",
    "\n",
    "# Melt the DataFrame to convert it into long format\n",
    "typology_counts = typology_counts.melt(id_vars='Typology', var_name='Column', value_name='Count')\n",
    "\n",
    "# Filter out rows where the count is zero\n",
    "typology_counts = typology_counts[typology_counts['Count'] > 0]\n",
    "\n",
    "# Plot the stacked bar plot\n",
    "sns.barplot(data=typology_counts, x='Typology', y='Count', hue='Column')\n",
    "\n",
    "# Set the x-axis label, y-axis label, and title\n",
    "ax.set_xlabel('Typology')\n",
    "ax.set_ylabel('Count')\n",
    "ax.set_title('Distribution of Typologies')\n",
    "\n",
    "# Rotate x-axis labels if needed\n",
    "ax.set_xticklabels(ax.get_xticklabels(), rotation=45, ha='right')\n",
    "\n",
    "# Show the legend\n",
    "ax.legend()\n",
    "\n",
    "# Adjust the spacing between subplots\n",
    "plt.tight_layout()\n",
    "\n",
    "# Display the plot\n",
    "plt.show()"
   ]
  },
  {
   "cell_type": "markdown",
   "id": "f5a3e7e1",
   "metadata": {},
   "source": [
    "## Let's explore the diversity of the typologies and their relative proportion/size across the Lat7499 dataset - We see that glosses are more diverse in typology and we have a lot of marginal categories and which categories are more privileged in the manuscirpt."
   ]
  },
  {
   "cell_type": "code",
   "execution_count": 152,
   "id": "f47a34c4",
   "metadata": {},
   "outputs": [
    {
     "data": {
      "application/vnd.plotly.v1+json": {
       "config": {
        "plotlyServerURL": "https://plot.ly"
       },
       "data": [
        {
         "marker": {
          "color": [
           "blue",
           "blue",
           "blue",
           "blue",
           "blue",
           "blue",
           "blue",
           "blue",
           "blue",
           "blue",
           "blue"
          ]
         },
         "name": "Marginal Type",
         "orientation": "h",
         "type": "bar",
         "x": [
          83,
          68,
          61,
          16,
          14,
          10,
          10,
          9,
          9,
          6,
          6
         ],
         "y": [
          "S23",
          "S5",
          "S53",
          "S22",
          "S63",
          "S54",
          "S4181",
          "S62",
          "S631",
          "S24",
          "S313"
         ]
        },
        {
         "marker": {
          "color": [
           "green",
           "green",
           "green",
           "green",
           "green",
           "green",
           "green",
           "green",
           "green",
           "green",
           "green",
           "green",
           "green",
           "green",
           "green",
           "green",
           "green",
           "green"
          ]
         },
         "name": "Gloss Type",
         "orientation": "h",
         "type": "bar",
         "x": [
          914,
          292,
          265,
          46,
          37,
          29,
          29,
          25,
          13,
          11,
          11,
          9,
          8,
          8,
          8,
          7,
          6,
          5
         ],
         "y": [
          "S22",
          "S23",
          "S53",
          "S3232",
          "S611",
          "S25",
          "S54",
          "S211",
          "S62",
          "S24",
          "S415",
          "S554",
          "S222",
          "S36",
          "S11",
          "S5",
          "S64",
          "S553"
         ]
        }
       ],
       "layout": {
        "shapes": [
         {
          "line": {
           "color": "black",
           "dash": "dash",
           "width": 1
          },
          "type": "line",
          "x0": 50,
          "x1": 50,
          "xref": "x",
          "y0": 0,
          "y1": 1,
          "yref": "paper"
         },
         {
          "line": {
           "color": "black",
           "dash": "dash",
           "width": 1
          },
          "type": "line",
          "x0": 300,
          "x1": 300,
          "xref": "x",
          "y0": 0,
          "y1": 1,
          "yref": "paper"
         }
        ],
        "template": {
         "data": {
          "bar": [
           {
            "error_x": {
             "color": "#2a3f5f"
            },
            "error_y": {
             "color": "#2a3f5f"
            },
            "marker": {
             "line": {
              "color": "#E5ECF6",
              "width": 0.5
             },
             "pattern": {
              "fillmode": "overlay",
              "size": 10,
              "solidity": 0.2
             }
            },
            "type": "bar"
           }
          ],
          "barpolar": [
           {
            "marker": {
             "line": {
              "color": "#E5ECF6",
              "width": 0.5
             },
             "pattern": {
              "fillmode": "overlay",
              "size": 10,
              "solidity": 0.2
             }
            },
            "type": "barpolar"
           }
          ],
          "carpet": [
           {
            "aaxis": {
             "endlinecolor": "#2a3f5f",
             "gridcolor": "white",
             "linecolor": "white",
             "minorgridcolor": "white",
             "startlinecolor": "#2a3f5f"
            },
            "baxis": {
             "endlinecolor": "#2a3f5f",
             "gridcolor": "white",
             "linecolor": "white",
             "minorgridcolor": "white",
             "startlinecolor": "#2a3f5f"
            },
            "type": "carpet"
           }
          ],
          "choropleth": [
           {
            "colorbar": {
             "outlinewidth": 0,
             "ticks": ""
            },
            "type": "choropleth"
           }
          ],
          "contour": [
           {
            "colorbar": {
             "outlinewidth": 0,
             "ticks": ""
            },
            "colorscale": [
             [
              0,
              "#0d0887"
             ],
             [
              0.1111111111111111,
              "#46039f"
             ],
             [
              0.2222222222222222,
              "#7201a8"
             ],
             [
              0.3333333333333333,
              "#9c179e"
             ],
             [
              0.4444444444444444,
              "#bd3786"
             ],
             [
              0.5555555555555556,
              "#d8576b"
             ],
             [
              0.6666666666666666,
              "#ed7953"
             ],
             [
              0.7777777777777778,
              "#fb9f3a"
             ],
             [
              0.8888888888888888,
              "#fdca26"
             ],
             [
              1,
              "#f0f921"
             ]
            ],
            "type": "contour"
           }
          ],
          "contourcarpet": [
           {
            "colorbar": {
             "outlinewidth": 0,
             "ticks": ""
            },
            "type": "contourcarpet"
           }
          ],
          "heatmap": [
           {
            "colorbar": {
             "outlinewidth": 0,
             "ticks": ""
            },
            "colorscale": [
             [
              0,
              "#0d0887"
             ],
             [
              0.1111111111111111,
              "#46039f"
             ],
             [
              0.2222222222222222,
              "#7201a8"
             ],
             [
              0.3333333333333333,
              "#9c179e"
             ],
             [
              0.4444444444444444,
              "#bd3786"
             ],
             [
              0.5555555555555556,
              "#d8576b"
             ],
             [
              0.6666666666666666,
              "#ed7953"
             ],
             [
              0.7777777777777778,
              "#fb9f3a"
             ],
             [
              0.8888888888888888,
              "#fdca26"
             ],
             [
              1,
              "#f0f921"
             ]
            ],
            "type": "heatmap"
           }
          ],
          "heatmapgl": [
           {
            "colorbar": {
             "outlinewidth": 0,
             "ticks": ""
            },
            "colorscale": [
             [
              0,
              "#0d0887"
             ],
             [
              0.1111111111111111,
              "#46039f"
             ],
             [
              0.2222222222222222,
              "#7201a8"
             ],
             [
              0.3333333333333333,
              "#9c179e"
             ],
             [
              0.4444444444444444,
              "#bd3786"
             ],
             [
              0.5555555555555556,
              "#d8576b"
             ],
             [
              0.6666666666666666,
              "#ed7953"
             ],
             [
              0.7777777777777778,
              "#fb9f3a"
             ],
             [
              0.8888888888888888,
              "#fdca26"
             ],
             [
              1,
              "#f0f921"
             ]
            ],
            "type": "heatmapgl"
           }
          ],
          "histogram": [
           {
            "marker": {
             "pattern": {
              "fillmode": "overlay",
              "size": 10,
              "solidity": 0.2
             }
            },
            "type": "histogram"
           }
          ],
          "histogram2d": [
           {
            "colorbar": {
             "outlinewidth": 0,
             "ticks": ""
            },
            "colorscale": [
             [
              0,
              "#0d0887"
             ],
             [
              0.1111111111111111,
              "#46039f"
             ],
             [
              0.2222222222222222,
              "#7201a8"
             ],
             [
              0.3333333333333333,
              "#9c179e"
             ],
             [
              0.4444444444444444,
              "#bd3786"
             ],
             [
              0.5555555555555556,
              "#d8576b"
             ],
             [
              0.6666666666666666,
              "#ed7953"
             ],
             [
              0.7777777777777778,
              "#fb9f3a"
             ],
             [
              0.8888888888888888,
              "#fdca26"
             ],
             [
              1,
              "#f0f921"
             ]
            ],
            "type": "histogram2d"
           }
          ],
          "histogram2dcontour": [
           {
            "colorbar": {
             "outlinewidth": 0,
             "ticks": ""
            },
            "colorscale": [
             [
              0,
              "#0d0887"
             ],
             [
              0.1111111111111111,
              "#46039f"
             ],
             [
              0.2222222222222222,
              "#7201a8"
             ],
             [
              0.3333333333333333,
              "#9c179e"
             ],
             [
              0.4444444444444444,
              "#bd3786"
             ],
             [
              0.5555555555555556,
              "#d8576b"
             ],
             [
              0.6666666666666666,
              "#ed7953"
             ],
             [
              0.7777777777777778,
              "#fb9f3a"
             ],
             [
              0.8888888888888888,
              "#fdca26"
             ],
             [
              1,
              "#f0f921"
             ]
            ],
            "type": "histogram2dcontour"
           }
          ],
          "mesh3d": [
           {
            "colorbar": {
             "outlinewidth": 0,
             "ticks": ""
            },
            "type": "mesh3d"
           }
          ],
          "parcoords": [
           {
            "line": {
             "colorbar": {
              "outlinewidth": 0,
              "ticks": ""
             }
            },
            "type": "parcoords"
           }
          ],
          "pie": [
           {
            "automargin": true,
            "type": "pie"
           }
          ],
          "scatter": [
           {
            "fillpattern": {
             "fillmode": "overlay",
             "size": 10,
             "solidity": 0.2
            },
            "type": "scatter"
           }
          ],
          "scatter3d": [
           {
            "line": {
             "colorbar": {
              "outlinewidth": 0,
              "ticks": ""
             }
            },
            "marker": {
             "colorbar": {
              "outlinewidth": 0,
              "ticks": ""
             }
            },
            "type": "scatter3d"
           }
          ],
          "scattercarpet": [
           {
            "marker": {
             "colorbar": {
              "outlinewidth": 0,
              "ticks": ""
             }
            },
            "type": "scattercarpet"
           }
          ],
          "scattergeo": [
           {
            "marker": {
             "colorbar": {
              "outlinewidth": 0,
              "ticks": ""
             }
            },
            "type": "scattergeo"
           }
          ],
          "scattergl": [
           {
            "marker": {
             "colorbar": {
              "outlinewidth": 0,
              "ticks": ""
             }
            },
            "type": "scattergl"
           }
          ],
          "scattermapbox": [
           {
            "marker": {
             "colorbar": {
              "outlinewidth": 0,
              "ticks": ""
             }
            },
            "type": "scattermapbox"
           }
          ],
          "scatterpolar": [
           {
            "marker": {
             "colorbar": {
              "outlinewidth": 0,
              "ticks": ""
             }
            },
            "type": "scatterpolar"
           }
          ],
          "scatterpolargl": [
           {
            "marker": {
             "colorbar": {
              "outlinewidth": 0,
              "ticks": ""
             }
            },
            "type": "scatterpolargl"
           }
          ],
          "scatterternary": [
           {
            "marker": {
             "colorbar": {
              "outlinewidth": 0,
              "ticks": ""
             }
            },
            "type": "scatterternary"
           }
          ],
          "surface": [
           {
            "colorbar": {
             "outlinewidth": 0,
             "ticks": ""
            },
            "colorscale": [
             [
              0,
              "#0d0887"
             ],
             [
              0.1111111111111111,
              "#46039f"
             ],
             [
              0.2222222222222222,
              "#7201a8"
             ],
             [
              0.3333333333333333,
              "#9c179e"
             ],
             [
              0.4444444444444444,
              "#bd3786"
             ],
             [
              0.5555555555555556,
              "#d8576b"
             ],
             [
              0.6666666666666666,
              "#ed7953"
             ],
             [
              0.7777777777777778,
              "#fb9f3a"
             ],
             [
              0.8888888888888888,
              "#fdca26"
             ],
             [
              1,
              "#f0f921"
             ]
            ],
            "type": "surface"
           }
          ],
          "table": [
           {
            "cells": {
             "fill": {
              "color": "#EBF0F8"
             },
             "line": {
              "color": "white"
             }
            },
            "header": {
             "fill": {
              "color": "#C8D4E3"
             },
             "line": {
              "color": "white"
             }
            },
            "type": "table"
           }
          ]
         },
         "layout": {
          "annotationdefaults": {
           "arrowcolor": "#2a3f5f",
           "arrowhead": 0,
           "arrowwidth": 1
          },
          "autotypenumbers": "strict",
          "coloraxis": {
           "colorbar": {
            "outlinewidth": 0,
            "ticks": ""
           }
          },
          "colorscale": {
           "diverging": [
            [
             0,
             "#8e0152"
            ],
            [
             0.1,
             "#c51b7d"
            ],
            [
             0.2,
             "#de77ae"
            ],
            [
             0.3,
             "#f1b6da"
            ],
            [
             0.4,
             "#fde0ef"
            ],
            [
             0.5,
             "#f7f7f7"
            ],
            [
             0.6,
             "#e6f5d0"
            ],
            [
             0.7,
             "#b8e186"
            ],
            [
             0.8,
             "#7fbc41"
            ],
            [
             0.9,
             "#4d9221"
            ],
            [
             1,
             "#276419"
            ]
           ],
           "sequential": [
            [
             0,
             "#0d0887"
            ],
            [
             0.1111111111111111,
             "#46039f"
            ],
            [
             0.2222222222222222,
             "#7201a8"
            ],
            [
             0.3333333333333333,
             "#9c179e"
            ],
            [
             0.4444444444444444,
             "#bd3786"
            ],
            [
             0.5555555555555556,
             "#d8576b"
            ],
            [
             0.6666666666666666,
             "#ed7953"
            ],
            [
             0.7777777777777778,
             "#fb9f3a"
            ],
            [
             0.8888888888888888,
             "#fdca26"
            ],
            [
             1,
             "#f0f921"
            ]
           ],
           "sequentialminus": [
            [
             0,
             "#0d0887"
            ],
            [
             0.1111111111111111,
             "#46039f"
            ],
            [
             0.2222222222222222,
             "#7201a8"
            ],
            [
             0.3333333333333333,
             "#9c179e"
            ],
            [
             0.4444444444444444,
             "#bd3786"
            ],
            [
             0.5555555555555556,
             "#d8576b"
            ],
            [
             0.6666666666666666,
             "#ed7953"
            ],
            [
             0.7777777777777778,
             "#fb9f3a"
            ],
            [
             0.8888888888888888,
             "#fdca26"
            ],
            [
             1,
             "#f0f921"
            ]
           ]
          },
          "colorway": [
           "#636efa",
           "#EF553B",
           "#00cc96",
           "#ab63fa",
           "#FFA15A",
           "#19d3f3",
           "#FF6692",
           "#B6E880",
           "#FF97FF",
           "#FECB52"
          ],
          "font": {
           "color": "#2a3f5f"
          },
          "geo": {
           "bgcolor": "white",
           "lakecolor": "white",
           "landcolor": "#E5ECF6",
           "showlakes": true,
           "showland": true,
           "subunitcolor": "white"
          },
          "hoverlabel": {
           "align": "left"
          },
          "hovermode": "closest",
          "mapbox": {
           "style": "light"
          },
          "paper_bgcolor": "white",
          "plot_bgcolor": "#E5ECF6",
          "polar": {
           "angularaxis": {
            "gridcolor": "white",
            "linecolor": "white",
            "ticks": ""
           },
           "bgcolor": "#E5ECF6",
           "radialaxis": {
            "gridcolor": "white",
            "linecolor": "white",
            "ticks": ""
           }
          },
          "scene": {
           "xaxis": {
            "backgroundcolor": "#E5ECF6",
            "gridcolor": "white",
            "gridwidth": 2,
            "linecolor": "white",
            "showbackground": true,
            "ticks": "",
            "zerolinecolor": "white"
           },
           "yaxis": {
            "backgroundcolor": "#E5ECF6",
            "gridcolor": "white",
            "gridwidth": 2,
            "linecolor": "white",
            "showbackground": true,
            "ticks": "",
            "zerolinecolor": "white"
           },
           "zaxis": {
            "backgroundcolor": "#E5ECF6",
            "gridcolor": "white",
            "gridwidth": 2,
            "linecolor": "white",
            "showbackground": true,
            "ticks": "",
            "zerolinecolor": "white"
           }
          },
          "shapedefaults": {
           "line": {
            "color": "#2a3f5f"
           }
          },
          "ternary": {
           "aaxis": {
            "gridcolor": "white",
            "linecolor": "white",
            "ticks": ""
           },
           "baxis": {
            "gridcolor": "white",
            "linecolor": "white",
            "ticks": ""
           },
           "bgcolor": "#E5ECF6",
           "caxis": {
            "gridcolor": "white",
            "linecolor": "white",
            "ticks": ""
           }
          },
          "title": {
           "x": 0.05
          },
          "xaxis": {
           "automargin": true,
           "gridcolor": "white",
           "linecolor": "white",
           "ticks": "",
           "title": {
            "standoff": 15
           },
           "zerolinecolor": "white",
           "zerolinewidth": 2
          },
          "yaxis": {
           "automargin": true,
           "gridcolor": "white",
           "linecolor": "white",
           "ticks": "",
           "title": {
            "standoff": 15
           },
           "zerolinecolor": "white",
           "zerolinewidth": 2
          }
         }
        },
        "title": {
         "text": "Distribution of Typologies (over 4 occurences) across Marginal notes and Glosses with logarithmic scale"
        },
        "xaxis": {
         "type": "log"
        }
       }
      },
      "text/html": [
       "<div>                            <div id=\"295f3352-99e8-4317-ab26-0182a1e016e1\" class=\"plotly-graph-div\" style=\"height:525px; width:100%;\"></div>            <script type=\"text/javascript\">                require([\"plotly\"], function(Plotly) {                    window.PLOTLYENV=window.PLOTLYENV || {};                                    if (document.getElementById(\"295f3352-99e8-4317-ab26-0182a1e016e1\")) {                    Plotly.newPlot(                        \"295f3352-99e8-4317-ab26-0182a1e016e1\",                        [{\"marker\":{\"color\":[\"blue\",\"blue\",\"blue\",\"blue\",\"blue\",\"blue\",\"blue\",\"blue\",\"blue\",\"blue\",\"blue\"]},\"name\":\"Marginal Type\",\"orientation\":\"h\",\"x\":[83,68,61,16,14,10,10,9,9,6,6],\"y\":[\"S23\",\"S5\",\"S53\",\"S22\",\"S63\",\"S54\",\"S4181\",\"S62\",\"S631\",\"S24\",\"S313\"],\"type\":\"bar\"},{\"marker\":{\"color\":[\"green\",\"green\",\"green\",\"green\",\"green\",\"green\",\"green\",\"green\",\"green\",\"green\",\"green\",\"green\",\"green\",\"green\",\"green\",\"green\",\"green\",\"green\"]},\"name\":\"Gloss Type\",\"orientation\":\"h\",\"x\":[914,292,265,46,37,29,29,25,13,11,11,9,8,8,8,7,6,5],\"y\":[\"S22\",\"S23\",\"S53\",\"S3232\",\"S611\",\"S25\",\"S54\",\"S211\",\"S62\",\"S24\",\"S415\",\"S554\",\"S222\",\"S36\",\"S11\",\"S5\",\"S64\",\"S553\"],\"type\":\"bar\"}],                        {\"template\":{\"data\":{\"histogram2dcontour\":[{\"type\":\"histogram2dcontour\",\"colorbar\":{\"outlinewidth\":0,\"ticks\":\"\"},\"colorscale\":[[0.0,\"#0d0887\"],[0.1111111111111111,\"#46039f\"],[0.2222222222222222,\"#7201a8\"],[0.3333333333333333,\"#9c179e\"],[0.4444444444444444,\"#bd3786\"],[0.5555555555555556,\"#d8576b\"],[0.6666666666666666,\"#ed7953\"],[0.7777777777777778,\"#fb9f3a\"],[0.8888888888888888,\"#fdca26\"],[1.0,\"#f0f921\"]]}],\"choropleth\":[{\"type\":\"choropleth\",\"colorbar\":{\"outlinewidth\":0,\"ticks\":\"\"}}],\"histogram2d\":[{\"type\":\"histogram2d\",\"colorbar\":{\"outlinewidth\":0,\"ticks\":\"\"},\"colorscale\":[[0.0,\"#0d0887\"],[0.1111111111111111,\"#46039f\"],[0.2222222222222222,\"#7201a8\"],[0.3333333333333333,\"#9c179e\"],[0.4444444444444444,\"#bd3786\"],[0.5555555555555556,\"#d8576b\"],[0.6666666666666666,\"#ed7953\"],[0.7777777777777778,\"#fb9f3a\"],[0.8888888888888888,\"#fdca26\"],[1.0,\"#f0f921\"]]}],\"heatmap\":[{\"type\":\"heatmap\",\"colorbar\":{\"outlinewidth\":0,\"ticks\":\"\"},\"colorscale\":[[0.0,\"#0d0887\"],[0.1111111111111111,\"#46039f\"],[0.2222222222222222,\"#7201a8\"],[0.3333333333333333,\"#9c179e\"],[0.4444444444444444,\"#bd3786\"],[0.5555555555555556,\"#d8576b\"],[0.6666666666666666,\"#ed7953\"],[0.7777777777777778,\"#fb9f3a\"],[0.8888888888888888,\"#fdca26\"],[1.0,\"#f0f921\"]]}],\"heatmapgl\":[{\"type\":\"heatmapgl\",\"colorbar\":{\"outlinewidth\":0,\"ticks\":\"\"},\"colorscale\":[[0.0,\"#0d0887\"],[0.1111111111111111,\"#46039f\"],[0.2222222222222222,\"#7201a8\"],[0.3333333333333333,\"#9c179e\"],[0.4444444444444444,\"#bd3786\"],[0.5555555555555556,\"#d8576b\"],[0.6666666666666666,\"#ed7953\"],[0.7777777777777778,\"#fb9f3a\"],[0.8888888888888888,\"#fdca26\"],[1.0,\"#f0f921\"]]}],\"contourcarpet\":[{\"type\":\"contourcarpet\",\"colorbar\":{\"outlinewidth\":0,\"ticks\":\"\"}}],\"contour\":[{\"type\":\"contour\",\"colorbar\":{\"outlinewidth\":0,\"ticks\":\"\"},\"colorscale\":[[0.0,\"#0d0887\"],[0.1111111111111111,\"#46039f\"],[0.2222222222222222,\"#7201a8\"],[0.3333333333333333,\"#9c179e\"],[0.4444444444444444,\"#bd3786\"],[0.5555555555555556,\"#d8576b\"],[0.6666666666666666,\"#ed7953\"],[0.7777777777777778,\"#fb9f3a\"],[0.8888888888888888,\"#fdca26\"],[1.0,\"#f0f921\"]]}],\"surface\":[{\"type\":\"surface\",\"colorbar\":{\"outlinewidth\":0,\"ticks\":\"\"},\"colorscale\":[[0.0,\"#0d0887\"],[0.1111111111111111,\"#46039f\"],[0.2222222222222222,\"#7201a8\"],[0.3333333333333333,\"#9c179e\"],[0.4444444444444444,\"#bd3786\"],[0.5555555555555556,\"#d8576b\"],[0.6666666666666666,\"#ed7953\"],[0.7777777777777778,\"#fb9f3a\"],[0.8888888888888888,\"#fdca26\"],[1.0,\"#f0f921\"]]}],\"mesh3d\":[{\"type\":\"mesh3d\",\"colorbar\":{\"outlinewidth\":0,\"ticks\":\"\"}}],\"scatter\":[{\"fillpattern\":{\"fillmode\":\"overlay\",\"size\":10,\"solidity\":0.2},\"type\":\"scatter\"}],\"parcoords\":[{\"type\":\"parcoords\",\"line\":{\"colorbar\":{\"outlinewidth\":0,\"ticks\":\"\"}}}],\"scatterpolargl\":[{\"type\":\"scatterpolargl\",\"marker\":{\"colorbar\":{\"outlinewidth\":0,\"ticks\":\"\"}}}],\"bar\":[{\"error_x\":{\"color\":\"#2a3f5f\"},\"error_y\":{\"color\":\"#2a3f5f\"},\"marker\":{\"line\":{\"color\":\"#E5ECF6\",\"width\":0.5},\"pattern\":{\"fillmode\":\"overlay\",\"size\":10,\"solidity\":0.2}},\"type\":\"bar\"}],\"scattergeo\":[{\"type\":\"scattergeo\",\"marker\":{\"colorbar\":{\"outlinewidth\":0,\"ticks\":\"\"}}}],\"scatterpolar\":[{\"type\":\"scatterpolar\",\"marker\":{\"colorbar\":{\"outlinewidth\":0,\"ticks\":\"\"}}}],\"histogram\":[{\"marker\":{\"pattern\":{\"fillmode\":\"overlay\",\"size\":10,\"solidity\":0.2}},\"type\":\"histogram\"}],\"scattergl\":[{\"type\":\"scattergl\",\"marker\":{\"colorbar\":{\"outlinewidth\":0,\"ticks\":\"\"}}}],\"scatter3d\":[{\"type\":\"scatter3d\",\"line\":{\"colorbar\":{\"outlinewidth\":0,\"ticks\":\"\"}},\"marker\":{\"colorbar\":{\"outlinewidth\":0,\"ticks\":\"\"}}}],\"scattermapbox\":[{\"type\":\"scattermapbox\",\"marker\":{\"colorbar\":{\"outlinewidth\":0,\"ticks\":\"\"}}}],\"scatterternary\":[{\"type\":\"scatterternary\",\"marker\":{\"colorbar\":{\"outlinewidth\":0,\"ticks\":\"\"}}}],\"scattercarpet\":[{\"type\":\"scattercarpet\",\"marker\":{\"colorbar\":{\"outlinewidth\":0,\"ticks\":\"\"}}}],\"carpet\":[{\"aaxis\":{\"endlinecolor\":\"#2a3f5f\",\"gridcolor\":\"white\",\"linecolor\":\"white\",\"minorgridcolor\":\"white\",\"startlinecolor\":\"#2a3f5f\"},\"baxis\":{\"endlinecolor\":\"#2a3f5f\",\"gridcolor\":\"white\",\"linecolor\":\"white\",\"minorgridcolor\":\"white\",\"startlinecolor\":\"#2a3f5f\"},\"type\":\"carpet\"}],\"table\":[{\"cells\":{\"fill\":{\"color\":\"#EBF0F8\"},\"line\":{\"color\":\"white\"}},\"header\":{\"fill\":{\"color\":\"#C8D4E3\"},\"line\":{\"color\":\"white\"}},\"type\":\"table\"}],\"barpolar\":[{\"marker\":{\"line\":{\"color\":\"#E5ECF6\",\"width\":0.5},\"pattern\":{\"fillmode\":\"overlay\",\"size\":10,\"solidity\":0.2}},\"type\":\"barpolar\"}],\"pie\":[{\"automargin\":true,\"type\":\"pie\"}]},\"layout\":{\"autotypenumbers\":\"strict\",\"colorway\":[\"#636efa\",\"#EF553B\",\"#00cc96\",\"#ab63fa\",\"#FFA15A\",\"#19d3f3\",\"#FF6692\",\"#B6E880\",\"#FF97FF\",\"#FECB52\"],\"font\":{\"color\":\"#2a3f5f\"},\"hovermode\":\"closest\",\"hoverlabel\":{\"align\":\"left\"},\"paper_bgcolor\":\"white\",\"plot_bgcolor\":\"#E5ECF6\",\"polar\":{\"bgcolor\":\"#E5ECF6\",\"angularaxis\":{\"gridcolor\":\"white\",\"linecolor\":\"white\",\"ticks\":\"\"},\"radialaxis\":{\"gridcolor\":\"white\",\"linecolor\":\"white\",\"ticks\":\"\"}},\"ternary\":{\"bgcolor\":\"#E5ECF6\",\"aaxis\":{\"gridcolor\":\"white\",\"linecolor\":\"white\",\"ticks\":\"\"},\"baxis\":{\"gridcolor\":\"white\",\"linecolor\":\"white\",\"ticks\":\"\"},\"caxis\":{\"gridcolor\":\"white\",\"linecolor\":\"white\",\"ticks\":\"\"}},\"coloraxis\":{\"colorbar\":{\"outlinewidth\":0,\"ticks\":\"\"}},\"colorscale\":{\"sequential\":[[0.0,\"#0d0887\"],[0.1111111111111111,\"#46039f\"],[0.2222222222222222,\"#7201a8\"],[0.3333333333333333,\"#9c179e\"],[0.4444444444444444,\"#bd3786\"],[0.5555555555555556,\"#d8576b\"],[0.6666666666666666,\"#ed7953\"],[0.7777777777777778,\"#fb9f3a\"],[0.8888888888888888,\"#fdca26\"],[1.0,\"#f0f921\"]],\"sequentialminus\":[[0.0,\"#0d0887\"],[0.1111111111111111,\"#46039f\"],[0.2222222222222222,\"#7201a8\"],[0.3333333333333333,\"#9c179e\"],[0.4444444444444444,\"#bd3786\"],[0.5555555555555556,\"#d8576b\"],[0.6666666666666666,\"#ed7953\"],[0.7777777777777778,\"#fb9f3a\"],[0.8888888888888888,\"#fdca26\"],[1.0,\"#f0f921\"]],\"diverging\":[[0,\"#8e0152\"],[0.1,\"#c51b7d\"],[0.2,\"#de77ae\"],[0.3,\"#f1b6da\"],[0.4,\"#fde0ef\"],[0.5,\"#f7f7f7\"],[0.6,\"#e6f5d0\"],[0.7,\"#b8e186\"],[0.8,\"#7fbc41\"],[0.9,\"#4d9221\"],[1,\"#276419\"]]},\"xaxis\":{\"gridcolor\":\"white\",\"linecolor\":\"white\",\"ticks\":\"\",\"title\":{\"standoff\":15},\"zerolinecolor\":\"white\",\"automargin\":true,\"zerolinewidth\":2},\"yaxis\":{\"gridcolor\":\"white\",\"linecolor\":\"white\",\"ticks\":\"\",\"title\":{\"standoff\":15},\"zerolinecolor\":\"white\",\"automargin\":true,\"zerolinewidth\":2},\"scene\":{\"xaxis\":{\"backgroundcolor\":\"#E5ECF6\",\"gridcolor\":\"white\",\"linecolor\":\"white\",\"showbackground\":true,\"ticks\":\"\",\"zerolinecolor\":\"white\",\"gridwidth\":2},\"yaxis\":{\"backgroundcolor\":\"#E5ECF6\",\"gridcolor\":\"white\",\"linecolor\":\"white\",\"showbackground\":true,\"ticks\":\"\",\"zerolinecolor\":\"white\",\"gridwidth\":2},\"zaxis\":{\"backgroundcolor\":\"#E5ECF6\",\"gridcolor\":\"white\",\"linecolor\":\"white\",\"showbackground\":true,\"ticks\":\"\",\"zerolinecolor\":\"white\",\"gridwidth\":2}},\"shapedefaults\":{\"line\":{\"color\":\"#2a3f5f\"}},\"annotationdefaults\":{\"arrowcolor\":\"#2a3f5f\",\"arrowhead\":0,\"arrowwidth\":1},\"geo\":{\"bgcolor\":\"white\",\"landcolor\":\"#E5ECF6\",\"subunitcolor\":\"white\",\"showland\":true,\"showlakes\":true,\"lakecolor\":\"white\"},\"title\":{\"x\":0.05},\"mapbox\":{\"style\":\"light\"}}},\"title\":{\"text\":\"Distribution of Typologies (over 4 occurences) across Marginal notes and Glosses with logarithmic scale\"},\"xaxis\":{\"type\":\"log\"},\"shapes\":[{\"line\":{\"color\":\"black\",\"dash\":\"dash\",\"width\":1},\"type\":\"line\",\"x0\":50,\"x1\":50,\"xref\":\"x\",\"y0\":0,\"y1\":1,\"yref\":\"paper\"},{\"line\":{\"color\":\"black\",\"dash\":\"dash\",\"width\":1},\"type\":\"line\",\"x0\":300,\"x1\":300,\"xref\":\"x\",\"y0\":0,\"y1\":1,\"yref\":\"paper\"}]},                        {\"responsive\": true}                    ).then(function(){\n",
       "                            \n",
       "var gd = document.getElementById('295f3352-99e8-4317-ab26-0182a1e016e1');\n",
       "var x = new MutationObserver(function (mutations, observer) {{\n",
       "        var display = window.getComputedStyle(gd).display;\n",
       "        if (!display || display === 'none') {{\n",
       "            console.log([gd, 'removed!']);\n",
       "            Plotly.purge(gd);\n",
       "            observer.disconnect();\n",
       "        }}\n",
       "}});\n",
       "\n",
       "// Listen for the removal of the full notebook cells\n",
       "var notebookContainer = gd.closest('#notebook-container');\n",
       "if (notebookContainer) {{\n",
       "    x.observe(notebookContainer, {childList: true});\n",
       "}}\n",
       "\n",
       "// Listen for the clearing of the current output cell\n",
       "var outputEl = gd.closest('.output');\n",
       "if (outputEl) {{\n",
       "    x.observe(outputEl, {childList: true});\n",
       "}}\n",
       "\n",
       "                        })                };                });            </script>        </div>"
      ]
     },
     "metadata": {},
     "output_type": "display_data"
    }
   ],
   "source": [
    "import plotly.graph_objects as go\n",
    "\n",
    "# Count the occurrences of each unique typology in \"marginal_note_type\" column\n",
    "marginal_type_counts = Lat7499['marginal_note_type'].value_counts()\n",
    "\n",
    "# Count the occurrences of each unique typology in \"gloss_type\" column\n",
    "gloss_type_counts = Lat7499['gloss_type'].value_counts()\n",
    "\n",
    "# Set the threshold for typologies to be shown\n",
    "threshold = 4\n",
    "\n",
    "# Filter typologies based on the threshold\n",
    "marginal_type_counts = marginal_type_counts[marginal_type_counts > threshold]\n",
    "gloss_type_counts = gloss_type_counts[gloss_type_counts > threshold]\n",
    "\n",
    "# Create a DataFrame for the bar chart\n",
    "marginal_bar_data = pd.DataFrame({'typology': marginal_type_counts.index, 'count': marginal_type_counts.values})\n",
    "gloss_bar_data = pd.DataFrame({'typology': gloss_type_counts.index, 'count': gloss_type_counts.values})\n",
    "\n",
    "# Create the bar chart figure using plotly\n",
    "fig = go.Figure()\n",
    "\n",
    "# Add trace for marginal_type\n",
    "fig.add_trace(go.Bar(\n",
    "    x=marginal_bar_data['count'],\n",
    "    y=marginal_bar_data['typology'],\n",
    "    orientation='h',\n",
    "    name='Marginal Type',\n",
    "    marker=dict(\n",
    "        color=['blue' for count in marginal_bar_data['count']],  # Color bars \n",
    "    )\n",
    "))\n",
    "\n",
    "# Add trace for gloss_type\n",
    "fig.add_trace(go.Bar(\n",
    "    x=gloss_bar_data['count'],\n",
    "    y=gloss_bar_data['typology'],\n",
    "    orientation='h',\n",
    "    name='Gloss Type',\n",
    "    marker=dict(\n",
    "        color=['green' for count in gloss_bar_data['count']],  # Color bars\n",
    "    )\n",
    "))\n",
    "\n",
    "# Set the title for the bar chart\n",
    "fig.update_layout(title='Distribution of Typologies (over 4 occurences) across Marginal notes and Glosses with logarithmic scale')\n",
    "\n",
    "# Set x-axis scale to logarithmic\n",
    "fig.update_xaxes(type='log')\n",
    "\n",
    "# Add vertical lines at x=5, 10, and 100\n",
    "fig.add_shape(\n",
    "    type='line',\n",
    "    x0=50, x1=50, y0=0, y1=1,\n",
    "    xref='x', yref='paper',\n",
    "    line=dict(color='black', width=1, dash='dash')\n",
    ")\n",
    "\n",
    "\n",
    "fig.add_shape(\n",
    "    type='line',\n",
    "    x0=300, x1=300, y0=0, y1=1,\n",
    "    xref='x', yref='paper',\n",
    "    line=dict(color='black', width=1, dash='dash')\n",
    ")\n",
    "\n",
    "# Show the bar chart\n",
    "fig.show()"
   ]
  },
  {
   "cell_type": "code",
   "execution_count": 153,
   "id": "ebeeac25",
   "metadata": {},
   "outputs": [
    {
     "data": {
      "application/vnd.plotly.v1+json": {
       "config": {
        "plotlyServerURL": "https://plot.ly"
       },
       "data": [
        {
         "marker": {
          "color": [
           "blue",
           "blue",
           "blue",
           "blue",
           "blue",
           "blue",
           "blue",
           "blue",
           "blue",
           "blue",
           "blue",
           "blue",
           "blue",
           "blue"
          ]
         },
         "name": "Marginal Type",
         "orientation": "h",
         "type": "bar",
         "x": [
          3,
          3,
          3,
          2,
          2,
          2,
          2,
          1,
          1,
          1,
          1,
          1,
          1,
          1
         ],
         "y": [
          "S13",
          "S611",
          "S8141",
          "S554",
          "S25",
          "S522",
          "S553",
          "S311",
          "S312",
          "S523",
          "631",
          "S21",
          "S333",
          "S211"
         ]
        },
        {
         "marker": {
          "color": [
           "green",
           "green",
           "green",
           "green",
           "green",
           "green",
           "green",
           "green",
           "green",
           "green",
           "green",
           "green",
           "green",
           "green",
           "green",
           "green",
           "green",
           "green"
          ]
         },
         "name": "Gloss Type",
         "orientation": "h",
         "type": "bar",
         "x": [
          3,
          3,
          3,
          2,
          2,
          2,
          2,
          2,
          2,
          1,
          1,
          1,
          1,
          1,
          1,
          1,
          1,
          1
         ],
         "y": [
          "S313",
          "S33",
          "S412",
          "S231",
          "S312",
          "S34",
          "S333",
          "S221",
          "S4181",
          "S32",
          "S3114",
          "S331",
          "S311",
          "S21",
          "S42",
          "S419",
          "S63",
          "S332"
         ]
        }
       ],
       "layout": {
        "template": {
         "data": {
          "bar": [
           {
            "error_x": {
             "color": "#2a3f5f"
            },
            "error_y": {
             "color": "#2a3f5f"
            },
            "marker": {
             "line": {
              "color": "#E5ECF6",
              "width": 0.5
             },
             "pattern": {
              "fillmode": "overlay",
              "size": 10,
              "solidity": 0.2
             }
            },
            "type": "bar"
           }
          ],
          "barpolar": [
           {
            "marker": {
             "line": {
              "color": "#E5ECF6",
              "width": 0.5
             },
             "pattern": {
              "fillmode": "overlay",
              "size": 10,
              "solidity": 0.2
             }
            },
            "type": "barpolar"
           }
          ],
          "carpet": [
           {
            "aaxis": {
             "endlinecolor": "#2a3f5f",
             "gridcolor": "white",
             "linecolor": "white",
             "minorgridcolor": "white",
             "startlinecolor": "#2a3f5f"
            },
            "baxis": {
             "endlinecolor": "#2a3f5f",
             "gridcolor": "white",
             "linecolor": "white",
             "minorgridcolor": "white",
             "startlinecolor": "#2a3f5f"
            },
            "type": "carpet"
           }
          ],
          "choropleth": [
           {
            "colorbar": {
             "outlinewidth": 0,
             "ticks": ""
            },
            "type": "choropleth"
           }
          ],
          "contour": [
           {
            "colorbar": {
             "outlinewidth": 0,
             "ticks": ""
            },
            "colorscale": [
             [
              0,
              "#0d0887"
             ],
             [
              0.1111111111111111,
              "#46039f"
             ],
             [
              0.2222222222222222,
              "#7201a8"
             ],
             [
              0.3333333333333333,
              "#9c179e"
             ],
             [
              0.4444444444444444,
              "#bd3786"
             ],
             [
              0.5555555555555556,
              "#d8576b"
             ],
             [
              0.6666666666666666,
              "#ed7953"
             ],
             [
              0.7777777777777778,
              "#fb9f3a"
             ],
             [
              0.8888888888888888,
              "#fdca26"
             ],
             [
              1,
              "#f0f921"
             ]
            ],
            "type": "contour"
           }
          ],
          "contourcarpet": [
           {
            "colorbar": {
             "outlinewidth": 0,
             "ticks": ""
            },
            "type": "contourcarpet"
           }
          ],
          "heatmap": [
           {
            "colorbar": {
             "outlinewidth": 0,
             "ticks": ""
            },
            "colorscale": [
             [
              0,
              "#0d0887"
             ],
             [
              0.1111111111111111,
              "#46039f"
             ],
             [
              0.2222222222222222,
              "#7201a8"
             ],
             [
              0.3333333333333333,
              "#9c179e"
             ],
             [
              0.4444444444444444,
              "#bd3786"
             ],
             [
              0.5555555555555556,
              "#d8576b"
             ],
             [
              0.6666666666666666,
              "#ed7953"
             ],
             [
              0.7777777777777778,
              "#fb9f3a"
             ],
             [
              0.8888888888888888,
              "#fdca26"
             ],
             [
              1,
              "#f0f921"
             ]
            ],
            "type": "heatmap"
           }
          ],
          "heatmapgl": [
           {
            "colorbar": {
             "outlinewidth": 0,
             "ticks": ""
            },
            "colorscale": [
             [
              0,
              "#0d0887"
             ],
             [
              0.1111111111111111,
              "#46039f"
             ],
             [
              0.2222222222222222,
              "#7201a8"
             ],
             [
              0.3333333333333333,
              "#9c179e"
             ],
             [
              0.4444444444444444,
              "#bd3786"
             ],
             [
              0.5555555555555556,
              "#d8576b"
             ],
             [
              0.6666666666666666,
              "#ed7953"
             ],
             [
              0.7777777777777778,
              "#fb9f3a"
             ],
             [
              0.8888888888888888,
              "#fdca26"
             ],
             [
              1,
              "#f0f921"
             ]
            ],
            "type": "heatmapgl"
           }
          ],
          "histogram": [
           {
            "marker": {
             "pattern": {
              "fillmode": "overlay",
              "size": 10,
              "solidity": 0.2
             }
            },
            "type": "histogram"
           }
          ],
          "histogram2d": [
           {
            "colorbar": {
             "outlinewidth": 0,
             "ticks": ""
            },
            "colorscale": [
             [
              0,
              "#0d0887"
             ],
             [
              0.1111111111111111,
              "#46039f"
             ],
             [
              0.2222222222222222,
              "#7201a8"
             ],
             [
              0.3333333333333333,
              "#9c179e"
             ],
             [
              0.4444444444444444,
              "#bd3786"
             ],
             [
              0.5555555555555556,
              "#d8576b"
             ],
             [
              0.6666666666666666,
              "#ed7953"
             ],
             [
              0.7777777777777778,
              "#fb9f3a"
             ],
             [
              0.8888888888888888,
              "#fdca26"
             ],
             [
              1,
              "#f0f921"
             ]
            ],
            "type": "histogram2d"
           }
          ],
          "histogram2dcontour": [
           {
            "colorbar": {
             "outlinewidth": 0,
             "ticks": ""
            },
            "colorscale": [
             [
              0,
              "#0d0887"
             ],
             [
              0.1111111111111111,
              "#46039f"
             ],
             [
              0.2222222222222222,
              "#7201a8"
             ],
             [
              0.3333333333333333,
              "#9c179e"
             ],
             [
              0.4444444444444444,
              "#bd3786"
             ],
             [
              0.5555555555555556,
              "#d8576b"
             ],
             [
              0.6666666666666666,
              "#ed7953"
             ],
             [
              0.7777777777777778,
              "#fb9f3a"
             ],
             [
              0.8888888888888888,
              "#fdca26"
             ],
             [
              1,
              "#f0f921"
             ]
            ],
            "type": "histogram2dcontour"
           }
          ],
          "mesh3d": [
           {
            "colorbar": {
             "outlinewidth": 0,
             "ticks": ""
            },
            "type": "mesh3d"
           }
          ],
          "parcoords": [
           {
            "line": {
             "colorbar": {
              "outlinewidth": 0,
              "ticks": ""
             }
            },
            "type": "parcoords"
           }
          ],
          "pie": [
           {
            "automargin": true,
            "type": "pie"
           }
          ],
          "scatter": [
           {
            "fillpattern": {
             "fillmode": "overlay",
             "size": 10,
             "solidity": 0.2
            },
            "type": "scatter"
           }
          ],
          "scatter3d": [
           {
            "line": {
             "colorbar": {
              "outlinewidth": 0,
              "ticks": ""
             }
            },
            "marker": {
             "colorbar": {
              "outlinewidth": 0,
              "ticks": ""
             }
            },
            "type": "scatter3d"
           }
          ],
          "scattercarpet": [
           {
            "marker": {
             "colorbar": {
              "outlinewidth": 0,
              "ticks": ""
             }
            },
            "type": "scattercarpet"
           }
          ],
          "scattergeo": [
           {
            "marker": {
             "colorbar": {
              "outlinewidth": 0,
              "ticks": ""
             }
            },
            "type": "scattergeo"
           }
          ],
          "scattergl": [
           {
            "marker": {
             "colorbar": {
              "outlinewidth": 0,
              "ticks": ""
             }
            },
            "type": "scattergl"
           }
          ],
          "scattermapbox": [
           {
            "marker": {
             "colorbar": {
              "outlinewidth": 0,
              "ticks": ""
             }
            },
            "type": "scattermapbox"
           }
          ],
          "scatterpolar": [
           {
            "marker": {
             "colorbar": {
              "outlinewidth": 0,
              "ticks": ""
             }
            },
            "type": "scatterpolar"
           }
          ],
          "scatterpolargl": [
           {
            "marker": {
             "colorbar": {
              "outlinewidth": 0,
              "ticks": ""
             }
            },
            "type": "scatterpolargl"
           }
          ],
          "scatterternary": [
           {
            "marker": {
             "colorbar": {
              "outlinewidth": 0,
              "ticks": ""
             }
            },
            "type": "scatterternary"
           }
          ],
          "surface": [
           {
            "colorbar": {
             "outlinewidth": 0,
             "ticks": ""
            },
            "colorscale": [
             [
              0,
              "#0d0887"
             ],
             [
              0.1111111111111111,
              "#46039f"
             ],
             [
              0.2222222222222222,
              "#7201a8"
             ],
             [
              0.3333333333333333,
              "#9c179e"
             ],
             [
              0.4444444444444444,
              "#bd3786"
             ],
             [
              0.5555555555555556,
              "#d8576b"
             ],
             [
              0.6666666666666666,
              "#ed7953"
             ],
             [
              0.7777777777777778,
              "#fb9f3a"
             ],
             [
              0.8888888888888888,
              "#fdca26"
             ],
             [
              1,
              "#f0f921"
             ]
            ],
            "type": "surface"
           }
          ],
          "table": [
           {
            "cells": {
             "fill": {
              "color": "#EBF0F8"
             },
             "line": {
              "color": "white"
             }
            },
            "header": {
             "fill": {
              "color": "#C8D4E3"
             },
             "line": {
              "color": "white"
             }
            },
            "type": "table"
           }
          ]
         },
         "layout": {
          "annotationdefaults": {
           "arrowcolor": "#2a3f5f",
           "arrowhead": 0,
           "arrowwidth": 1
          },
          "autotypenumbers": "strict",
          "coloraxis": {
           "colorbar": {
            "outlinewidth": 0,
            "ticks": ""
           }
          },
          "colorscale": {
           "diverging": [
            [
             0,
             "#8e0152"
            ],
            [
             0.1,
             "#c51b7d"
            ],
            [
             0.2,
             "#de77ae"
            ],
            [
             0.3,
             "#f1b6da"
            ],
            [
             0.4,
             "#fde0ef"
            ],
            [
             0.5,
             "#f7f7f7"
            ],
            [
             0.6,
             "#e6f5d0"
            ],
            [
             0.7,
             "#b8e186"
            ],
            [
             0.8,
             "#7fbc41"
            ],
            [
             0.9,
             "#4d9221"
            ],
            [
             1,
             "#276419"
            ]
           ],
           "sequential": [
            [
             0,
             "#0d0887"
            ],
            [
             0.1111111111111111,
             "#46039f"
            ],
            [
             0.2222222222222222,
             "#7201a8"
            ],
            [
             0.3333333333333333,
             "#9c179e"
            ],
            [
             0.4444444444444444,
             "#bd3786"
            ],
            [
             0.5555555555555556,
             "#d8576b"
            ],
            [
             0.6666666666666666,
             "#ed7953"
            ],
            [
             0.7777777777777778,
             "#fb9f3a"
            ],
            [
             0.8888888888888888,
             "#fdca26"
            ],
            [
             1,
             "#f0f921"
            ]
           ],
           "sequentialminus": [
            [
             0,
             "#0d0887"
            ],
            [
             0.1111111111111111,
             "#46039f"
            ],
            [
             0.2222222222222222,
             "#7201a8"
            ],
            [
             0.3333333333333333,
             "#9c179e"
            ],
            [
             0.4444444444444444,
             "#bd3786"
            ],
            [
             0.5555555555555556,
             "#d8576b"
            ],
            [
             0.6666666666666666,
             "#ed7953"
            ],
            [
             0.7777777777777778,
             "#fb9f3a"
            ],
            [
             0.8888888888888888,
             "#fdca26"
            ],
            [
             1,
             "#f0f921"
            ]
           ]
          },
          "colorway": [
           "#636efa",
           "#EF553B",
           "#00cc96",
           "#ab63fa",
           "#FFA15A",
           "#19d3f3",
           "#FF6692",
           "#B6E880",
           "#FF97FF",
           "#FECB52"
          ],
          "font": {
           "color": "#2a3f5f"
          },
          "geo": {
           "bgcolor": "white",
           "lakecolor": "white",
           "landcolor": "#E5ECF6",
           "showlakes": true,
           "showland": true,
           "subunitcolor": "white"
          },
          "hoverlabel": {
           "align": "left"
          },
          "hovermode": "closest",
          "mapbox": {
           "style": "light"
          },
          "paper_bgcolor": "white",
          "plot_bgcolor": "#E5ECF6",
          "polar": {
           "angularaxis": {
            "gridcolor": "white",
            "linecolor": "white",
            "ticks": ""
           },
           "bgcolor": "#E5ECF6",
           "radialaxis": {
            "gridcolor": "white",
            "linecolor": "white",
            "ticks": ""
           }
          },
          "scene": {
           "xaxis": {
            "backgroundcolor": "#E5ECF6",
            "gridcolor": "white",
            "gridwidth": 2,
            "linecolor": "white",
            "showbackground": true,
            "ticks": "",
            "zerolinecolor": "white"
           },
           "yaxis": {
            "backgroundcolor": "#E5ECF6",
            "gridcolor": "white",
            "gridwidth": 2,
            "linecolor": "white",
            "showbackground": true,
            "ticks": "",
            "zerolinecolor": "white"
           },
           "zaxis": {
            "backgroundcolor": "#E5ECF6",
            "gridcolor": "white",
            "gridwidth": 2,
            "linecolor": "white",
            "showbackground": true,
            "ticks": "",
            "zerolinecolor": "white"
           }
          },
          "shapedefaults": {
           "line": {
            "color": "#2a3f5f"
           }
          },
          "ternary": {
           "aaxis": {
            "gridcolor": "white",
            "linecolor": "white",
            "ticks": ""
           },
           "baxis": {
            "gridcolor": "white",
            "linecolor": "white",
            "ticks": ""
           },
           "bgcolor": "#E5ECF6",
           "caxis": {
            "gridcolor": "white",
            "linecolor": "white",
            "ticks": ""
           }
          },
          "title": {
           "x": 0.05
          },
          "xaxis": {
           "automargin": true,
           "gridcolor": "white",
           "linecolor": "white",
           "ticks": "",
           "title": {
            "standoff": 15
           },
           "zerolinecolor": "white",
           "zerolinewidth": 2
          },
          "yaxis": {
           "automargin": true,
           "gridcolor": "white",
           "linecolor": "white",
           "ticks": "",
           "title": {
            "standoff": 15
           },
           "zerolinecolor": "white",
           "zerolinewidth": 2
          }
         }
        },
        "title": {
         "text": "Distribution of rare (under 4 occurences) Typologies across Marginal notes and Glosses"
        },
        "xaxis": {
         "type": "linear"
        }
       }
      },
      "text/html": [
       "<div>                            <div id=\"247f84f3-8c3d-4f8e-856d-0958dc780810\" class=\"plotly-graph-div\" style=\"height:525px; width:100%;\"></div>            <script type=\"text/javascript\">                require([\"plotly\"], function(Plotly) {                    window.PLOTLYENV=window.PLOTLYENV || {};                                    if (document.getElementById(\"247f84f3-8c3d-4f8e-856d-0958dc780810\")) {                    Plotly.newPlot(                        \"247f84f3-8c3d-4f8e-856d-0958dc780810\",                        [{\"marker\":{\"color\":[\"blue\",\"blue\",\"blue\",\"blue\",\"blue\",\"blue\",\"blue\",\"blue\",\"blue\",\"blue\",\"blue\",\"blue\",\"blue\",\"blue\"]},\"name\":\"Marginal Type\",\"orientation\":\"h\",\"x\":[3,3,3,2,2,2,2,1,1,1,1,1,1,1],\"y\":[\"S13\",\"S611\",\"S8141\",\"S554\",\"S25\",\"S522\",\"S553\",\"S311\",\"S312\",\"S523\",\"631\",\"S21\",\"S333\",\"S211\"],\"type\":\"bar\"},{\"marker\":{\"color\":[\"green\",\"green\",\"green\",\"green\",\"green\",\"green\",\"green\",\"green\",\"green\",\"green\",\"green\",\"green\",\"green\",\"green\",\"green\",\"green\",\"green\",\"green\"]},\"name\":\"Gloss Type\",\"orientation\":\"h\",\"x\":[3,3,3,2,2,2,2,2,2,1,1,1,1,1,1,1,1,1],\"y\":[\"S313\",\"S33\",\"S412\",\"S231\",\"S312\",\"S34\",\"S333\",\"S221\",\"S4181\",\"S32\",\"S3114\",\"S331\",\"S311\",\"S21\",\"S42\",\"S419\",\"S63\",\"S332\"],\"type\":\"bar\"}],                        {\"template\":{\"data\":{\"histogram2dcontour\":[{\"type\":\"histogram2dcontour\",\"colorbar\":{\"outlinewidth\":0,\"ticks\":\"\"},\"colorscale\":[[0.0,\"#0d0887\"],[0.1111111111111111,\"#46039f\"],[0.2222222222222222,\"#7201a8\"],[0.3333333333333333,\"#9c179e\"],[0.4444444444444444,\"#bd3786\"],[0.5555555555555556,\"#d8576b\"],[0.6666666666666666,\"#ed7953\"],[0.7777777777777778,\"#fb9f3a\"],[0.8888888888888888,\"#fdca26\"],[1.0,\"#f0f921\"]]}],\"choropleth\":[{\"type\":\"choropleth\",\"colorbar\":{\"outlinewidth\":0,\"ticks\":\"\"}}],\"histogram2d\":[{\"type\":\"histogram2d\",\"colorbar\":{\"outlinewidth\":0,\"ticks\":\"\"},\"colorscale\":[[0.0,\"#0d0887\"],[0.1111111111111111,\"#46039f\"],[0.2222222222222222,\"#7201a8\"],[0.3333333333333333,\"#9c179e\"],[0.4444444444444444,\"#bd3786\"],[0.5555555555555556,\"#d8576b\"],[0.6666666666666666,\"#ed7953\"],[0.7777777777777778,\"#fb9f3a\"],[0.8888888888888888,\"#fdca26\"],[1.0,\"#f0f921\"]]}],\"heatmap\":[{\"type\":\"heatmap\",\"colorbar\":{\"outlinewidth\":0,\"ticks\":\"\"},\"colorscale\":[[0.0,\"#0d0887\"],[0.1111111111111111,\"#46039f\"],[0.2222222222222222,\"#7201a8\"],[0.3333333333333333,\"#9c179e\"],[0.4444444444444444,\"#bd3786\"],[0.5555555555555556,\"#d8576b\"],[0.6666666666666666,\"#ed7953\"],[0.7777777777777778,\"#fb9f3a\"],[0.8888888888888888,\"#fdca26\"],[1.0,\"#f0f921\"]]}],\"heatmapgl\":[{\"type\":\"heatmapgl\",\"colorbar\":{\"outlinewidth\":0,\"ticks\":\"\"},\"colorscale\":[[0.0,\"#0d0887\"],[0.1111111111111111,\"#46039f\"],[0.2222222222222222,\"#7201a8\"],[0.3333333333333333,\"#9c179e\"],[0.4444444444444444,\"#bd3786\"],[0.5555555555555556,\"#d8576b\"],[0.6666666666666666,\"#ed7953\"],[0.7777777777777778,\"#fb9f3a\"],[0.8888888888888888,\"#fdca26\"],[1.0,\"#f0f921\"]]}],\"contourcarpet\":[{\"type\":\"contourcarpet\",\"colorbar\":{\"outlinewidth\":0,\"ticks\":\"\"}}],\"contour\":[{\"type\":\"contour\",\"colorbar\":{\"outlinewidth\":0,\"ticks\":\"\"},\"colorscale\":[[0.0,\"#0d0887\"],[0.1111111111111111,\"#46039f\"],[0.2222222222222222,\"#7201a8\"],[0.3333333333333333,\"#9c179e\"],[0.4444444444444444,\"#bd3786\"],[0.5555555555555556,\"#d8576b\"],[0.6666666666666666,\"#ed7953\"],[0.7777777777777778,\"#fb9f3a\"],[0.8888888888888888,\"#fdca26\"],[1.0,\"#f0f921\"]]}],\"surface\":[{\"type\":\"surface\",\"colorbar\":{\"outlinewidth\":0,\"ticks\":\"\"},\"colorscale\":[[0.0,\"#0d0887\"],[0.1111111111111111,\"#46039f\"],[0.2222222222222222,\"#7201a8\"],[0.3333333333333333,\"#9c179e\"],[0.4444444444444444,\"#bd3786\"],[0.5555555555555556,\"#d8576b\"],[0.6666666666666666,\"#ed7953\"],[0.7777777777777778,\"#fb9f3a\"],[0.8888888888888888,\"#fdca26\"],[1.0,\"#f0f921\"]]}],\"mesh3d\":[{\"type\":\"mesh3d\",\"colorbar\":{\"outlinewidth\":0,\"ticks\":\"\"}}],\"scatter\":[{\"fillpattern\":{\"fillmode\":\"overlay\",\"size\":10,\"solidity\":0.2},\"type\":\"scatter\"}],\"parcoords\":[{\"type\":\"parcoords\",\"line\":{\"colorbar\":{\"outlinewidth\":0,\"ticks\":\"\"}}}],\"scatterpolargl\":[{\"type\":\"scatterpolargl\",\"marker\":{\"colorbar\":{\"outlinewidth\":0,\"ticks\":\"\"}}}],\"bar\":[{\"error_x\":{\"color\":\"#2a3f5f\"},\"error_y\":{\"color\":\"#2a3f5f\"},\"marker\":{\"line\":{\"color\":\"#E5ECF6\",\"width\":0.5},\"pattern\":{\"fillmode\":\"overlay\",\"size\":10,\"solidity\":0.2}},\"type\":\"bar\"}],\"scattergeo\":[{\"type\":\"scattergeo\",\"marker\":{\"colorbar\":{\"outlinewidth\":0,\"ticks\":\"\"}}}],\"scatterpolar\":[{\"type\":\"scatterpolar\",\"marker\":{\"colorbar\":{\"outlinewidth\":0,\"ticks\":\"\"}}}],\"histogram\":[{\"marker\":{\"pattern\":{\"fillmode\":\"overlay\",\"size\":10,\"solidity\":0.2}},\"type\":\"histogram\"}],\"scattergl\":[{\"type\":\"scattergl\",\"marker\":{\"colorbar\":{\"outlinewidth\":0,\"ticks\":\"\"}}}],\"scatter3d\":[{\"type\":\"scatter3d\",\"line\":{\"colorbar\":{\"outlinewidth\":0,\"ticks\":\"\"}},\"marker\":{\"colorbar\":{\"outlinewidth\":0,\"ticks\":\"\"}}}],\"scattermapbox\":[{\"type\":\"scattermapbox\",\"marker\":{\"colorbar\":{\"outlinewidth\":0,\"ticks\":\"\"}}}],\"scatterternary\":[{\"type\":\"scatterternary\",\"marker\":{\"colorbar\":{\"outlinewidth\":0,\"ticks\":\"\"}}}],\"scattercarpet\":[{\"type\":\"scattercarpet\",\"marker\":{\"colorbar\":{\"outlinewidth\":0,\"ticks\":\"\"}}}],\"carpet\":[{\"aaxis\":{\"endlinecolor\":\"#2a3f5f\",\"gridcolor\":\"white\",\"linecolor\":\"white\",\"minorgridcolor\":\"white\",\"startlinecolor\":\"#2a3f5f\"},\"baxis\":{\"endlinecolor\":\"#2a3f5f\",\"gridcolor\":\"white\",\"linecolor\":\"white\",\"minorgridcolor\":\"white\",\"startlinecolor\":\"#2a3f5f\"},\"type\":\"carpet\"}],\"table\":[{\"cells\":{\"fill\":{\"color\":\"#EBF0F8\"},\"line\":{\"color\":\"white\"}},\"header\":{\"fill\":{\"color\":\"#C8D4E3\"},\"line\":{\"color\":\"white\"}},\"type\":\"table\"}],\"barpolar\":[{\"marker\":{\"line\":{\"color\":\"#E5ECF6\",\"width\":0.5},\"pattern\":{\"fillmode\":\"overlay\",\"size\":10,\"solidity\":0.2}},\"type\":\"barpolar\"}],\"pie\":[{\"automargin\":true,\"type\":\"pie\"}]},\"layout\":{\"autotypenumbers\":\"strict\",\"colorway\":[\"#636efa\",\"#EF553B\",\"#00cc96\",\"#ab63fa\",\"#FFA15A\",\"#19d3f3\",\"#FF6692\",\"#B6E880\",\"#FF97FF\",\"#FECB52\"],\"font\":{\"color\":\"#2a3f5f\"},\"hovermode\":\"closest\",\"hoverlabel\":{\"align\":\"left\"},\"paper_bgcolor\":\"white\",\"plot_bgcolor\":\"#E5ECF6\",\"polar\":{\"bgcolor\":\"#E5ECF6\",\"angularaxis\":{\"gridcolor\":\"white\",\"linecolor\":\"white\",\"ticks\":\"\"},\"radialaxis\":{\"gridcolor\":\"white\",\"linecolor\":\"white\",\"ticks\":\"\"}},\"ternary\":{\"bgcolor\":\"#E5ECF6\",\"aaxis\":{\"gridcolor\":\"white\",\"linecolor\":\"white\",\"ticks\":\"\"},\"baxis\":{\"gridcolor\":\"white\",\"linecolor\":\"white\",\"ticks\":\"\"},\"caxis\":{\"gridcolor\":\"white\",\"linecolor\":\"white\",\"ticks\":\"\"}},\"coloraxis\":{\"colorbar\":{\"outlinewidth\":0,\"ticks\":\"\"}},\"colorscale\":{\"sequential\":[[0.0,\"#0d0887\"],[0.1111111111111111,\"#46039f\"],[0.2222222222222222,\"#7201a8\"],[0.3333333333333333,\"#9c179e\"],[0.4444444444444444,\"#bd3786\"],[0.5555555555555556,\"#d8576b\"],[0.6666666666666666,\"#ed7953\"],[0.7777777777777778,\"#fb9f3a\"],[0.8888888888888888,\"#fdca26\"],[1.0,\"#f0f921\"]],\"sequentialminus\":[[0.0,\"#0d0887\"],[0.1111111111111111,\"#46039f\"],[0.2222222222222222,\"#7201a8\"],[0.3333333333333333,\"#9c179e\"],[0.4444444444444444,\"#bd3786\"],[0.5555555555555556,\"#d8576b\"],[0.6666666666666666,\"#ed7953\"],[0.7777777777777778,\"#fb9f3a\"],[0.8888888888888888,\"#fdca26\"],[1.0,\"#f0f921\"]],\"diverging\":[[0,\"#8e0152\"],[0.1,\"#c51b7d\"],[0.2,\"#de77ae\"],[0.3,\"#f1b6da\"],[0.4,\"#fde0ef\"],[0.5,\"#f7f7f7\"],[0.6,\"#e6f5d0\"],[0.7,\"#b8e186\"],[0.8,\"#7fbc41\"],[0.9,\"#4d9221\"],[1,\"#276419\"]]},\"xaxis\":{\"gridcolor\":\"white\",\"linecolor\":\"white\",\"ticks\":\"\",\"title\":{\"standoff\":15},\"zerolinecolor\":\"white\",\"automargin\":true,\"zerolinewidth\":2},\"yaxis\":{\"gridcolor\":\"white\",\"linecolor\":\"white\",\"ticks\":\"\",\"title\":{\"standoff\":15},\"zerolinecolor\":\"white\",\"automargin\":true,\"zerolinewidth\":2},\"scene\":{\"xaxis\":{\"backgroundcolor\":\"#E5ECF6\",\"gridcolor\":\"white\",\"linecolor\":\"white\",\"showbackground\":true,\"ticks\":\"\",\"zerolinecolor\":\"white\",\"gridwidth\":2},\"yaxis\":{\"backgroundcolor\":\"#E5ECF6\",\"gridcolor\":\"white\",\"linecolor\":\"white\",\"showbackground\":true,\"ticks\":\"\",\"zerolinecolor\":\"white\",\"gridwidth\":2},\"zaxis\":{\"backgroundcolor\":\"#E5ECF6\",\"gridcolor\":\"white\",\"linecolor\":\"white\",\"showbackground\":true,\"ticks\":\"\",\"zerolinecolor\":\"white\",\"gridwidth\":2}},\"shapedefaults\":{\"line\":{\"color\":\"#2a3f5f\"}},\"annotationdefaults\":{\"arrowcolor\":\"#2a3f5f\",\"arrowhead\":0,\"arrowwidth\":1},\"geo\":{\"bgcolor\":\"white\",\"landcolor\":\"#E5ECF6\",\"subunitcolor\":\"white\",\"showland\":true,\"showlakes\":true,\"lakecolor\":\"white\"},\"title\":{\"x\":0.05},\"mapbox\":{\"style\":\"light\"}}},\"title\":{\"text\":\"Distribution of rare (under 4 occurences) Typologies across Marginal notes and Glosses\"},\"xaxis\":{\"type\":\"linear\"}},                        {\"responsive\": true}                    ).then(function(){\n",
       "                            \n",
       "var gd = document.getElementById('247f84f3-8c3d-4f8e-856d-0958dc780810');\n",
       "var x = new MutationObserver(function (mutations, observer) {{\n",
       "        var display = window.getComputedStyle(gd).display;\n",
       "        if (!display || display === 'none') {{\n",
       "            console.log([gd, 'removed!']);\n",
       "            Plotly.purge(gd);\n",
       "            observer.disconnect();\n",
       "        }}\n",
       "}});\n",
       "\n",
       "// Listen for the removal of the full notebook cells\n",
       "var notebookContainer = gd.closest('#notebook-container');\n",
       "if (notebookContainer) {{\n",
       "    x.observe(notebookContainer, {childList: true});\n",
       "}}\n",
       "\n",
       "// Listen for the clearing of the current output cell\n",
       "var outputEl = gd.closest('.output');\n",
       "if (outputEl) {{\n",
       "    x.observe(outputEl, {childList: true});\n",
       "}}\n",
       "\n",
       "                        })                };                });            </script>        </div>"
      ]
     },
     "metadata": {},
     "output_type": "display_data"
    }
   ],
   "source": [
    "import plotly.graph_objects as go\n",
    "\n",
    "# Count the occurrences of each unique typology in \"marginal_note_type\" column\n",
    "marginal_type_counts = Lat7499['marginal_note_type'].value_counts()\n",
    "\n",
    "# Count the occurrences of each unique typology in \"gloss_type\" column\n",
    "gloss_type_counts = Lat7499['gloss_type'].value_counts()\n",
    "\n",
    "# Set the threshold for typologies to be shown\n",
    "threshold = 4\n",
    "\n",
    "# Filter typologies based on the threshold\n",
    "marginal_type_counts = marginal_type_counts[marginal_type_counts < threshold]\n",
    "gloss_type_counts = gloss_type_counts[gloss_type_counts < threshold]\n",
    "\n",
    "# Create a DataFrame for the bar chart\n",
    "marginal_bar_data = pd.DataFrame({'typology': marginal_type_counts.index, 'count': marginal_type_counts.values})\n",
    "gloss_bar_data = pd.DataFrame({'typology': gloss_type_counts.index, 'count': gloss_type_counts.values})\n",
    "\n",
    "# Create the bar chart figure using plotly\n",
    "fig = go.Figure()\n",
    "\n",
    "# Add trace for marginal_type\n",
    "fig.add_trace(go.Bar(\n",
    "    x=marginal_bar_data['count'],\n",
    "    y=marginal_bar_data['typology'],\n",
    "    orientation='h',\n",
    "    name='Marginal Type',\n",
    "    marker=dict(\n",
    "        color=['blue' for count in marginal_bar_data['count']],  # Color bars \n",
    "    )\n",
    "))\n",
    "\n",
    "# Add trace for gloss_type\n",
    "fig.add_trace(go.Bar(\n",
    "    x=gloss_bar_data['count'],\n",
    "    y=gloss_bar_data['typology'],\n",
    "    orientation='h',\n",
    "    name='Gloss Type',\n",
    "    marker=dict(\n",
    "        color=['green' for count in gloss_bar_data['count']],  # Color bars\n",
    "    )\n",
    "))\n",
    "\n",
    "# Set the title for the bar chart\n",
    "fig.update_layout(title='Distribution of rare (under 4 occurences) Typologies across Marginal notes and Glosses')\n",
    "\n",
    "# Set x-axis scale to logarithmic\n",
    "fig.update_xaxes(type='linear')\n",
    "# Show the bar chart\n",
    "fig.show()"
   ]
  },
  {
   "cell_type": "markdown",
   "id": "a95a2ab1",
   "metadata": {},
   "source": [
    "### Let's explore relative proportion of typologies/sizes across the manuscript glosses and marginalia. That way we can understand how lengthy or not a specific typology can be"
   ]
  },
  {
   "cell_type": "code",
   "execution_count": 154,
   "id": "c188af86",
   "metadata": {},
   "outputs": [],
   "source": [
    "gloss_relative_proportions = Lat7499.groupby('gloss_type')['gloss_form'].value_counts(normalize=True).reset_index(name='proportion')\n",
    "marginalia_relative_proportions = Lat7499.groupby('marginal_note_type')['marginal_note_form'].value_counts(normalize=True).reset_index(name='proportion')\n"
   ]
  },
  {
   "cell_type": "code",
   "execution_count": 155,
   "id": "110dbf05",
   "metadata": {},
   "outputs": [
    {
     "data": {
      "image/png": "[encoded data removed]",
      "text/plain": [
       "<Figure size 640x480 with 1 Axes>"
      ]
     },
     "metadata": {},
     "output_type": "display_data"
    }
   ],
   "source": [
    "\n",
    "# Filter the DataFrame for typologies with multiple options and meeting the threshold\n",
    "multiple_options = gloss_relative_proportions.groupby('gloss_type').filter(lambda x: len(x) > 1 and (x['proportion'] > 0.100).any())\n",
    "\n",
    "# Pivot the DataFrame to have gloss forms as columns\n",
    "pivot_table = multiple_options.pivot(index='gloss_type', columns='gloss_form', values='proportion')\n",
    "\n",
    "# Sort the columns based on their total proportions\n",
    "pivot_table = pivot_table[pivot_table.sum().sort_values(ascending=False).index]\n",
    "\n",
    "# Plot the stacked bar plot\n",
    "pivot_table.plot(kind='bar', stacked=True, cmap='rainbow')\n",
    "\n",
    "# Set the labels and title\n",
    "plt.xlabel('Gloss Type')\n",
    "plt.ylabel('Proportion')\n",
    "plt.title('Proportion of Gloss Forms within Gloss Types')\n",
    "\n",
    "# Display the plot\n",
    "plt.savefig('graphs/proportion_typologies_forms_glosses.png')\n",
    "\n",
    "plt.show()\n",
    "\n"
   ]
  },
  {
   "cell_type": "code",
   "execution_count": 156,
   "id": "22cf678c",
   "metadata": {},
   "outputs": [
    {
     "data": {
      "image/png": "[encoded data removed]",
      "text/plain": [
       "<Figure size 640x480 with 1 Axes>"
      ]
     },
     "metadata": {},
     "output_type": "display_data"
    }
   ],
   "source": [
    "\n",
    "# Filter the DataFrame for typologies with multiple options and meeting the threshold\n",
    "marg_multiple_options = marginalia_relative_proportions.groupby('marginal_note_type').filter(lambda x: len(x) > 1 and (x['proportion'] > 0.000).any())\n",
    "\n",
    "# Pivot the DataFrame to have gloss forms as columns\n",
    "pivot_table = marg_multiple_options.pivot(index='marginal_note_type', columns='marginal_note_form', values='proportion')\n",
    "\n",
    "# Sort the columns based on their total proportions\n",
    "pivot_table = pivot_table[pivot_table.sum().sort_values(ascending=False).index]\n",
    "\n",
    "# Plot the stacked bar plot\n",
    "pivot_table.plot(kind='bar', stacked=True, cmap='rainbow')\n",
    "\n",
    "# Set the labels and title\n",
    "plt.xlabel('Marginalia Type')\n",
    "plt.ylabel('Proportion')\n",
    "plt.title('Proportion of Marginalia Forms within Marginalia Types')\n",
    "\n",
    "plt.savefig('graphs/proportion_typologies_forms_marginalia.png')\n",
    "\n",
    "plt.show()\n"
   ]
  },
  {
   "cell_type": "code",
   "execution_count": 157,
   "id": "e9e0a5b9",
   "metadata": {},
   "outputs": [
    {
     "data": {
      "image/png": "[encoded data removed]",
      "text/plain": [
       "<Figure size 640x480 with 2 Axes>"
      ]
     },
     "metadata": {},
     "output_type": "display_data"
    }
   ],
   "source": [
    "import numpy as np\n",
    "import seaborn as sns\n",
    "from matplotlib.colors import LogNorm\n",
    "\n",
    "\n",
    "typologies_of_interest = ['S22', 'S23', 'S53', 'S54', 'S63', 'S631', 'S64']  # Specify the typologies of interest\n",
    "\n",
    "filtered_df = Lat7499[Lat7499['gloss_type'].isin(typologies_of_interest) | Lat7499['marginal_note_type'].isin(typologies_of_interest)]\n",
    "\n",
    "cross_tab = pd.crosstab(filtered_df['gloss_type'], [filtered_df['gloss_form']])\n",
    "\n",
    "# Calculate the logarithm of the counts for scaling\n",
    "log_cross_tab = np.log1p(cross_tab)\n",
    "\n",
    "# Plot the heatmap with logarithmic scaling\n",
    "sns.heatmap(data=log_cross_tab, cmap='YlGnBu',norm=LogNorm())\n",
    "\n",
    "# Set the labels and title\n",
    "plt.xlabel('Gloss Form')\n",
    "plt.ylabel('Gloss Type')\n",
    "plt.title('Proportion of Gloss and Marginalia Forms within Types')\n",
    "\n",
    "# Display the plot\n",
    "plt.savefig('graphs/proportion_typologies_forms_glosses_heatmap.png')\n",
    "plt.show()\n"
   ]
  },
  {
   "cell_type": "code",
   "execution_count": 158,
   "id": "96ffb8bb",
   "metadata": {},
   "outputs": [
    {
     "name": "stdout",
     "output_type": "stream",
     "text": [
      "Percentage of glosses: 91.37%\n",
      "Percentage of marginal notes: 16.64%\n"
     ]
    }
   ],
   "source": [
    "#First, let's explore the percentage of glosses and marginal_annotations in the total annotations\n",
    "# Calculate the total number of annotations\n",
    "total_annotations = len(Lat7499)\n",
    "\n",
    "# Calculate the number of glosses\n",
    "num_glosses = Lat7499['gloss'].count()\n",
    "\n",
    "# Calculate the number of marginal notes\n",
    "num_marginal_notes = Lat7499['marginal_note_type'].count()\n",
    "\n",
    "# Calculate the percentage of glosses\n",
    "percentage_glosses = (num_glosses / total_annotations) * 100\n",
    "\n",
    "# Calculate the percentage of marginal notes\n",
    "percentage_marginal_notes = (num_marginal_notes / total_annotations) * 100\n",
    "\n",
    "# Print the results\n",
    "print(f\"Percentage of glosses: {percentage_glosses:.2f}%\")\n",
    "print(f\"Percentage of marginal notes: {percentage_marginal_notes:.2f}%\")"
   ]
  },
  {
   "cell_type": "code",
   "execution_count": 159,
   "id": "44d44b81",
   "metadata": {},
   "outputs": [
    {
     "name": "stdout",
     "output_type": "stream",
     "text": [
      "File manipulation completed.\n"
     ]
    }
   ],
   "source": [
    "import re\n",
    "# Open the text file in read mode\n",
    "with open('/Users/vlachou/Desktop/ENC/MEMOIRE/Eutyches/Lat7499/XML-XSLT/out/Lat7499_txt.txt', 'r') as file:\n",
    "    # Read the contents of the file\n",
    "    text = file.read()\n",
    "\n",
    "# Perform modifications to the text\n",
    "modified_text = re.sub(r'\\s+', ' ', text)\n",
    "\n",
    "# Open the same file or a new file in write mode\n",
    "with open('/Users/vlachou/Desktop/ENC/MEMOIRE/Eutyches/Lat7499/XML-XSLT/out/Lat7499_txt_singlespace.txt', 'w') as file:\n",
    "    # Write the modified text to the file\n",
    "    file.write(modified_text)\n",
    "\n",
    "# Display a message indicating the process is completed\n",
    "print(\"File manipulation completed.\")"
   ]
  },
  {
   "cell_type": "markdown",
   "id": "30b0fb2b",
   "metadata": {},
   "source": [
    "### We are going to count the words per folio in the main txt, and then the amount of lemmas, to determine the percentage of text that is being annotated per page.\n"
   ]
  },
  {
   "cell_type": "code",
   "execution_count": 160,
   "id": "d839dc9f",
   "metadata": {},
   "outputs": [],
   "source": [
    "\n",
    "# Open the text file in read mode\n",
    "with open('/Users/vlachou/Desktop/ENC/MEMOIRE/Eutyches/Lat7499/XML-XSLT/out/Lat7499_txt_singlespace.txt', 'r') as file:\n",
    "    # Read the contents of the file\n",
    "    text = file.read()\n",
    "\n",
    "# Find folio milestones and count words between them\n",
    "folio_pattern = r'folio=(\\d{2}[a-zA-Z])'\n",
    "matches = re.findall(folio_pattern, text)\n",
    "\n",
    "word_counts = []\n",
    "for i in range(len(matches)):\n",
    "    start_index = text.index(matches[i]) + len(matches[i])\n",
    "    if i == len(matches) - 1:\n",
    "        end_index = len(text)\n",
    "    else:\n",
    "        end_index = text.index(matches[i + 1])\n",
    "    segment = text[start_index:end_index].strip()\n",
    "    words = re.findall(r'\\b\\w+\\b', segment)\n",
    "    word_count = len(words)\n",
    "    word_counts.append((matches[i], word_count))\n",
    "\n",
    "# Create a dataframe with the word counts\n",
    "Lat7499_words_perfolio = pd.DataFrame(word_counts, columns=[\"folio\", \"word_counts\"])\n",
    "\n",
    "# Print the dataframe\n",
    "#Lat7499_words_perfolio"
   ]
  },
  {
   "cell_type": "code",
   "execution_count": 161,
   "id": "9f34be38",
   "metadata": {},
   "outputs": [],
   "source": [
    "Lat7499_lemma_perfolio = Lat7499.groupby('folio')['lemma_id'].count().reset_index()\n",
    "Lat7499_lemma_perfolio = Lat7499_lemma_perfolio.rename(columns={'lemma_id': 'lemma_counts'})"
   ]
  },
  {
   "cell_type": "code",
   "execution_count": 162,
   "id": "1125fbf3",
   "metadata": {},
   "outputs": [
    {
     "data": {
      "image/png": "[encoded data removed]",
      "text/plain": [
       "<Figure size 1000x600 with 1 Axes>"
      ]
     },
     "metadata": {},
     "output_type": "display_data"
    }
   ],
   "source": [
    "import numpy as np\n",
    "\n",
    "Lat7499_ratiooflemma_perfolio = pd.merge(Lat7499_words_perfolio, Lat7499_lemma_perfolio, on='folio')\n",
    "# Calculate the lemma ratio as a percentage\n",
    "Lat7499_ratiooflemma_perfolio['lemma_ratio'] = (Lat7499_ratiooflemma_perfolio['lemma_counts'] / Lat7499_ratiooflemma_perfolio['word_counts']) * 100\n",
    "# Calculate the average lemma ratio\n",
    "average_lemma_ratio = Lat7499_ratiooflemma_perfolio['lemma_ratio'].mean()\n",
    "\n",
    "\n",
    "\n",
    "# Create a list of colors for the bars\n",
    "colors = ['orange' if ratio > average_lemma_ratio else 'blue' for ratio in Lat7499_ratiooflemma_perfolio['lemma_ratio']]\n",
    "\n",
    "# Plotting the lemma ratio for each folio\n",
    "plt.figure(figsize=(10, 6))\n",
    "plt.bar(Lat7499_ratiooflemma_perfolio['folio'], Lat7499_ratiooflemma_perfolio['lemma_ratio'], color=colors)\n",
    "plt.xlabel('Folio')\n",
    "plt.ylabel('Percentage of lemmas')\n",
    "plt.title('Lemma Ratio per Folio')\n",
    "\n",
    "plt.xticks(rotation=45)\n",
    "\n",
    "plt.savefig('graphs/lemma_ratio_per_folio.png')\n",
    "\n",
    "\n",
    "plt.show()"
   ]
  },
  {
   "cell_type": "code",
   "execution_count": 163,
   "id": "903328b2",
   "metadata": {},
   "outputs": [
    {
     "data": {
      "image/png": "[encoded data removed]",
      "text/plain": [
       "<Figure size 1000x600 with 1 Axes>"
      ]
     },
     "metadata": {},
     "output_type": "display_data"
    }
   ],
   "source": [
    "import seaborn as sns\n",
    "import matplotlib.pyplot as plt\n",
    "\n",
    "# Set the figure size\n",
    "plt.figure(figsize=(10, 6))\n",
    "\n",
    "# Create the boxplot with mean and show outliers\n",
    "sns.boxplot(data=Lat7499_ratiooflemma_perfolio, y='lemma_counts', showmeans=True, showfliers=True, color='lightblue')\n",
    "\n",
    "# Set the axes labels and title\n",
    "plt.xlabel('Folio', fontsize=12)\n",
    "plt.ylabel('Lemma Ratio', fontsize=12)\n",
    "plt.title('Lemma Ratio per Folio for Lat7499', fontsize=14)\n",
    "\n",
    "# Set the font size of the axis tick labels\n",
    "plt.xticks(fontsize=10)\n",
    "plt.yticks(fontsize=10)\n",
    "\n",
    "# Remove the top and right spines\n",
    "sns.despine()\n",
    "\n",
    "# Add a grid\n",
    "plt.grid(axis='y', linestyle='--')\n",
    "\n",
    "# Add a horizontal line at y=0 for reference\n",
    "plt.axhline(y=0, color='black', linestyle='--')\n",
    "\n",
    "# Save the plot\n",
    "plt.savefig('graphs/boxplot_lemma_ratio_per_folio.png', dpi=300)\n",
    "\n",
    "# Display the plot\n",
    "plt.show()"
   ]
  },
  {
   "cell_type": "code",
   "execution_count": 164,
   "id": "e5834c83",
   "metadata": {},
   "outputs": [
    {
     "name": "stderr",
     "output_type": "stream",
     "text": [
      "/var/folders/ps/09_p7rl14y11qx52mcmvrr_w0000gq/T/ipykernel_17355/1382461488.py:2: FutureWarning:\n",
      "\n",
      "Indexing with multiple keys (implicitly converted to a tuple of keys) will be deprecated, use a list instead.\n",
      "\n"
     ]
    },
    {
     "data": {
      "image/png": "[encoded data removed]",
      "text/plain": [
       "<Figure size 640x480 with 1 Axes>"
      ]
     },
     "metadata": {},
     "output_type": "display_data"
    }
   ],
   "source": [
    "# Group the data by 'folio' and count the occurrences of 'gloss_id' and 'marginal_note_id'\n",
    "grouped_Lat7499 = Lat7499.groupby('folio')['gloss', 'marginal_note_id'].count()\n",
    "\n",
    "# Set a custom color palette\n",
    "colors = ['#06A396', '#851ACB']\n",
    "\n",
    "# Plot the stacked bar chart\n",
    "ax = grouped_Lat7499.plot(kind='bar', stacked=True, color=colors)\n",
    "\n",
    "# Set the labels and title\n",
    "plt.xlabel('Folio', fontsize=12, fontweight='bold')\n",
    "plt.ylabel('Count', fontsize=12, fontweight='bold')\n",
    "plt.title('Distribution of Lat7499 glosses and marginal_notes per folio', fontsize=14, fontweight='bold')\n",
    "\n",
    "# Customize tick labels rotation and font size\n",
    "plt.xticks(rotation=90, fontsize=10)\n",
    "\n",
    "# Customize legend\n",
    "plt.legend(['glosses', 'marginal_notes'], frameon=False)\n",
    "\n",
    "# Set the figure background color\n",
    "plt.gca().set_facecolor('#F0F0F0')\n",
    "\n",
    "# Remove top and right spines\n",
    "plt.gca().spines['top'].set_visible(False)\n",
    "plt.gca().spines['right'].set_visible(False)\n",
    "\n",
    "# Show gridlines\n",
    "plt.grid(axis='y', linestyle='--', alpha=0.5)\n",
    "\n",
    "# Adjust the layout for better spacing\n",
    "plt.tight_layout()\n",
    "\n",
    "plt.savefig('graphs/distribution_glosses_marginal_folio.png')\n",
    "\n",
    "\n",
    "# Display the plot\n",
    "plt.show()"
   ]
  },
  {
   "cell_type": "code",
   "execution_count": 165,
   "id": "df65a331",
   "metadata": {},
   "outputs": [
    {
     "name": "stderr",
     "output_type": "stream",
     "text": [
      "/var/folders/ps/09_p7rl14y11qx52mcmvrr_w0000gq/T/ipykernel_17355/101727024.py:3: FutureWarning:\n",
      "\n",
      "Indexing with multiple keys (implicitly converted to a tuple of keys) will be deprecated, use a list instead.\n",
      "\n"
     ]
    },
    {
     "data": {
      "image/png": "[encoded data removed]",
      "text/plain": [
       "<Figure size 640x480 with 1 Axes>"
      ]
     },
     "metadata": {},
     "output_type": "display_data"
    }
   ],
   "source": [
    "# Group the data by 'folio' and count the occurrences of 'gloss_id' and 'marginal_note_id'\n",
    "Lat7499['page'] = Lat7499['lemma_id'].str.extract(r'(p\\d+)')\n",
    "Lat7499_diffusion_Keil = Lat7499.groupby('page')['gloss', 'marginal_note_id'].count()\n",
    "\n",
    "# Set a custom color palette\n",
    "colors = ['#05A496', '#853ACB']\n",
    "\n",
    "# Plot the stacked bar chart\n",
    "ax = Lat7499_diffusion_Keil.plot(kind='bar', stacked=True, color=colors)\n",
    "\n",
    "# Set the labels and title\n",
    "plt.xlabel('Folio', fontsize=12, fontweight='bold')\n",
    "plt.ylabel('Count', fontsize=12, fontweight='bold')\n",
    "plt.title('Count of Lat7499 glosses and marginal_notes \"per Keil page\"', fontsize=14, fontweight='bold')\n",
    "\n",
    "# Customize tick labels rotation and font size\n",
    "plt.xticks(rotation=90, fontsize=10)\n",
    "\n",
    "# Customize legend\n",
    "plt.legend(['glosses', 'marginal_notes'], frameon=False)\n",
    "\n",
    "# Set the figure background color\n",
    "plt.gca().set_facecolor('#F0F0F0')\n",
    "\n",
    "# Remove top and right spines\n",
    "plt.gca().spines['top'].set_visible(False)\n",
    "plt.gca().spines['right'].set_visible(False)\n",
    "\n",
    "# Show gridlines\n",
    "plt.grid(axis='y', linestyle='--', alpha=0.5)\n",
    "\n",
    "# Adjust the layout for better spacing\n",
    "plt.tight_layout()\n",
    "\n",
    "plt.savefig('graphs/distribution_glosses_marginal_Keil.png')\n",
    "\n",
    "\n",
    "# Display the plot\n",
    "plt.show()"
   ]
  },
  {
   "cell_type": "code",
   "execution_count": 166,
   "id": "ada2a83b",
   "metadata": {},
   "outputs": [
    {
     "data": {
      "text/html": [
       "<div>\n",
       "<style scoped>\n",
       "    .dataframe tbody tr th:only-of-type {\n",
       "        vertical-align: middle;\n",
       "    }\n",
       "\n",
       "    .dataframe tbody tr th {\n",
       "        vertical-align: top;\n",
       "    }\n",
       "\n",
       "    .dataframe thead th {\n",
       "        text-align: right;\n",
       "    }\n",
       "</style>\n",
       "<table border=\"1\" class=\"dataframe\">\n",
       "  <thead>\n",
       "    <tr style=\"text-align: right;\">\n",
       "      <th></th>\n",
       "      <th>page</th>\n",
       "      <th>gloss</th>\n",
       "      <th>marginal_note_id</th>\n",
       "    </tr>\n",
       "  </thead>\n",
       "  <tbody>\n",
       "    <tr>\n",
       "      <th>0</th>\n",
       "      <td>p447</td>\n",
       "      <td>54</td>\n",
       "      <td>11</td>\n",
       "    </tr>\n",
       "    <tr>\n",
       "      <th>1</th>\n",
       "      <td>p448</td>\n",
       "      <td>87</td>\n",
       "      <td>16</td>\n",
       "    </tr>\n",
       "    <tr>\n",
       "      <th>2</th>\n",
       "      <td>p449</td>\n",
       "      <td>94</td>\n",
       "      <td>14</td>\n",
       "    </tr>\n",
       "    <tr>\n",
       "      <th>3</th>\n",
       "      <td>p450</td>\n",
       "      <td>82</td>\n",
       "      <td>18</td>\n",
       "    </tr>\n",
       "    <tr>\n",
       "      <th>4</th>\n",
       "      <td>p451</td>\n",
       "      <td>92</td>\n",
       "      <td>15</td>\n",
       "    </tr>\n",
       "    <tr>\n",
       "      <th>5</th>\n",
       "      <td>p452</td>\n",
       "      <td>98</td>\n",
       "      <td>18</td>\n",
       "    </tr>\n",
       "    <tr>\n",
       "      <th>6</th>\n",
       "      <td>p453</td>\n",
       "      <td>90</td>\n",
       "      <td>25</td>\n",
       "    </tr>\n",
       "    <tr>\n",
       "      <th>7</th>\n",
       "      <td>p454</td>\n",
       "      <td>95</td>\n",
       "      <td>23</td>\n",
       "    </tr>\n",
       "    <tr>\n",
       "      <th>8</th>\n",
       "      <td>p455</td>\n",
       "      <td>69</td>\n",
       "      <td>13</td>\n",
       "    </tr>\n",
       "    <tr>\n",
       "      <th>9</th>\n",
       "      <td>p456</td>\n",
       "      <td>83</td>\n",
       "      <td>14</td>\n",
       "    </tr>\n",
       "    <tr>\n",
       "      <th>10</th>\n",
       "      <td>p457</td>\n",
       "      <td>117</td>\n",
       "      <td>19</td>\n",
       "    </tr>\n",
       "    <tr>\n",
       "      <th>11</th>\n",
       "      <td>p458</td>\n",
       "      <td>108</td>\n",
       "      <td>17</td>\n",
       "    </tr>\n",
       "    <tr>\n",
       "      <th>12</th>\n",
       "      <td>p459</td>\n",
       "      <td>117</td>\n",
       "      <td>8</td>\n",
       "    </tr>\n",
       "    <tr>\n",
       "      <th>13</th>\n",
       "      <td>p460</td>\n",
       "      <td>75</td>\n",
       "      <td>15</td>\n",
       "    </tr>\n",
       "    <tr>\n",
       "      <th>14</th>\n",
       "      <td>p461</td>\n",
       "      <td>72</td>\n",
       "      <td>10</td>\n",
       "    </tr>\n",
       "    <tr>\n",
       "      <th>15</th>\n",
       "      <td>p462</td>\n",
       "      <td>81</td>\n",
       "      <td>27</td>\n",
       "    </tr>\n",
       "    <tr>\n",
       "      <th>16</th>\n",
       "      <td>p463</td>\n",
       "      <td>71</td>\n",
       "      <td>8</td>\n",
       "    </tr>\n",
       "    <tr>\n",
       "      <th>17</th>\n",
       "      <td>p464</td>\n",
       "      <td>34</td>\n",
       "      <td>5</td>\n",
       "    </tr>\n",
       "    <tr>\n",
       "      <th>18</th>\n",
       "      <td>p465</td>\n",
       "      <td>64</td>\n",
       "      <td>9</td>\n",
       "    </tr>\n",
       "    <tr>\n",
       "      <th>19</th>\n",
       "      <td>p466</td>\n",
       "      <td>44</td>\n",
       "      <td>5</td>\n",
       "    </tr>\n",
       "    <tr>\n",
       "      <th>20</th>\n",
       "      <td>p467</td>\n",
       "      <td>16</td>\n",
       "      <td>2</td>\n",
       "    </tr>\n",
       "    <tr>\n",
       "      <th>21</th>\n",
       "      <td>p468</td>\n",
       "      <td>2</td>\n",
       "      <td>0</td>\n",
       "    </tr>\n",
       "    <tr>\n",
       "      <th>22</th>\n",
       "      <td>p470</td>\n",
       "      <td>4</td>\n",
       "      <td>0</td>\n",
       "    </tr>\n",
       "    <tr>\n",
       "      <th>23</th>\n",
       "      <td>p471</td>\n",
       "      <td>9</td>\n",
       "      <td>1</td>\n",
       "    </tr>\n",
       "    <tr>\n",
       "      <th>24</th>\n",
       "      <td>p472</td>\n",
       "      <td>7</td>\n",
       "      <td>1</td>\n",
       "    </tr>\n",
       "    <tr>\n",
       "      <th>25</th>\n",
       "      <td>p473</td>\n",
       "      <td>1</td>\n",
       "      <td>0</td>\n",
       "    </tr>\n",
       "    <tr>\n",
       "      <th>26</th>\n",
       "      <td>p474</td>\n",
       "      <td>4</td>\n",
       "      <td>0</td>\n",
       "    </tr>\n",
       "    <tr>\n",
       "      <th>27</th>\n",
       "      <td>p475</td>\n",
       "      <td>1</td>\n",
       "      <td>0</td>\n",
       "    </tr>\n",
       "    <tr>\n",
       "      <th>28</th>\n",
       "      <td>p476</td>\n",
       "      <td>1</td>\n",
       "      <td>0</td>\n",
       "    </tr>\n",
       "    <tr>\n",
       "      <th>29</th>\n",
       "      <td>p477</td>\n",
       "      <td>2</td>\n",
       "      <td>0</td>\n",
       "    </tr>\n",
       "    <tr>\n",
       "      <th>30</th>\n",
       "      <td>p478</td>\n",
       "      <td>1</td>\n",
       "      <td>0</td>\n",
       "    </tr>\n",
       "    <tr>\n",
       "      <th>31</th>\n",
       "      <td>p479</td>\n",
       "      <td>4</td>\n",
       "      <td>0</td>\n",
       "    </tr>\n",
       "    <tr>\n",
       "      <th>32</th>\n",
       "      <td>p480</td>\n",
       "      <td>2</td>\n",
       "      <td>3</td>\n",
       "    </tr>\n",
       "    <tr>\n",
       "      <th>33</th>\n",
       "      <td>p481</td>\n",
       "      <td>1</td>\n",
       "      <td>1</td>\n",
       "    </tr>\n",
       "    <tr>\n",
       "      <th>34</th>\n",
       "      <td>p482</td>\n",
       "      <td>0</td>\n",
       "      <td>1</td>\n",
       "    </tr>\n",
       "    <tr>\n",
       "      <th>35</th>\n",
       "      <td>p483</td>\n",
       "      <td>3</td>\n",
       "      <td>2</td>\n",
       "    </tr>\n",
       "    <tr>\n",
       "      <th>36</th>\n",
       "      <td>p484</td>\n",
       "      <td>2</td>\n",
       "      <td>1</td>\n",
       "    </tr>\n",
       "    <tr>\n",
       "      <th>37</th>\n",
       "      <td>p485</td>\n",
       "      <td>1</td>\n",
       "      <td>4</td>\n",
       "    </tr>\n",
       "    <tr>\n",
       "      <th>38</th>\n",
       "      <td>p486</td>\n",
       "      <td>2</td>\n",
       "      <td>0</td>\n",
       "    </tr>\n",
       "    <tr>\n",
       "      <th>39</th>\n",
       "      <td>p487</td>\n",
       "      <td>6</td>\n",
       "      <td>0</td>\n",
       "    </tr>\n",
       "  </tbody>\n",
       "</table>\n",
       "</div>"
      ],
      "text/plain": [
       "    page  gloss  marginal_note_id\n",
       "0   p447     54                11\n",
       "1   p448     87                16\n",
       "2   p449     94                14\n",
       "3   p450     82                18\n",
       "4   p451     92                15\n",
       "5   p452     98                18\n",
       "6   p453     90                25\n",
       "7   p454     95                23\n",
       "8   p455     69                13\n",
       "9   p456     83                14\n",
       "10  p457    117                19\n",
       "11  p458    108                17\n",
       "12  p459    117                 8\n",
       "13  p460     75                15\n",
       "14  p461     72                10\n",
       "15  p462     81                27\n",
       "16  p463     71                 8\n",
       "17  p464     34                 5\n",
       "18  p465     64                 9\n",
       "19  p466     44                 5\n",
       "20  p467     16                 2\n",
       "21  p468      2                 0\n",
       "22  p470      4                 0\n",
       "23  p471      9                 1\n",
       "24  p472      7                 1\n",
       "25  p473      1                 0\n",
       "26  p474      4                 0\n",
       "27  p475      1                 0\n",
       "28  p476      1                 0\n",
       "29  p477      2                 0\n",
       "30  p478      1                 0\n",
       "31  p479      4                 0\n",
       "32  p480      2                 3\n",
       "33  p481      1                 1\n",
       "34  p482      0                 1\n",
       "35  p483      3                 2\n",
       "36  p484      2                 1\n",
       "37  p485      1                 4\n",
       "38  p486      2                 0\n",
       "39  p487      6                 0"
      ]
     },
     "execution_count": 166,
     "metadata": {},
     "output_type": "execute_result"
    }
   ],
   "source": [
    "Lat7499_diffusion_Keil=Lat7499_diffusion_Keil.reset_index()\n",
    "Lat7499_diffusion_Keil"
   ]
  },
  {
   "cell_type": "code",
   "execution_count": 167,
   "id": "66171984",
   "metadata": {},
   "outputs": [],
   "source": [
    "Lat7499_diffusion_Keil.to_csv('/Users/vlachou/Desktop/ENC/MEMOIRE/Eutyches/comparative_mss_analysis/diffusion_csv/diffusion_Lat7499_annotations_Keil.csv', encoding='utf-8')\n"
   ]
  },
  {
   "cell_type": "code",
   "execution_count": null,
   "id": "c7708622",
   "metadata": {},
   "outputs": [],
   "source": []
  },
  {
   "cell_type": "code",
   "execution_count": null,
   "id": "f1cddffe",
   "metadata": {},
   "outputs": [],
   "source": []
  },
  {
   "cell_type": "code",
   "execution_count": null,
   "id": "b42f1dd3",
   "metadata": {},
   "outputs": [],
   "source": []
  }
 ],
 "metadata": {
  "kernelspec": {
   "display_name": "Python 3 (ipykernel)",
   "language": "python",
   "name": "python3"
  },
  "language_info": {
   "codemirror_mode": {
    "name": "ipython",
    "version": 3
   },
   "file_extension": ".py",
   "mimetype": "text/x-python",
   "name": "python",
   "nbconvert_exporter": "python",
   "pygments_lexer": "ipython3",
   "version": "3.10.9"
  }
 },
 "nbformat": 4,
 "nbformat_minor": 5
}
